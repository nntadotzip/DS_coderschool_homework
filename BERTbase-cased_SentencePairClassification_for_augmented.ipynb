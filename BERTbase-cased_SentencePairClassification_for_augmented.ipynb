{
  "nbformat": 4,
  "nbformat_minor": 0,
  "metadata": {
    "colab": {
      "name": "BERTcased_SentencePairClassification_for augmented.ipynb",
      "provenance": [],
      "authorship_tag": "ABX9TyPfr8u4w7hieXA/EhfQa2Dx",
      "include_colab_link": true
    },
    "kernelspec": {
      "name": "python3",
      "display_name": "Python 3"
    },
    "language_info": {
      "name": "python"
    },
    "accelerator": "GPU",
    "widgets": {
      "application/vnd.jupyter.widget-state+json": {
        "5b4dae37c3b2426cae246f841aff96d4": {
          "model_module": "@jupyter-widgets/controls",
          "model_name": "HBoxModel",
          "model_module_version": "1.5.0",
          "state": {
            "_view_name": "HBoxView",
            "_dom_classes": [],
            "_model_name": "HBoxModel",
            "_view_module": "@jupyter-widgets/controls",
            "_model_module_version": "1.5.0",
            "_view_count": null,
            "_view_module_version": "1.5.0",
            "box_style": "",
            "layout": "IPY_MODEL_eaf8851d15f344259909b75141a6fbf4",
            "_model_module": "@jupyter-widgets/controls",
            "children": [
              "IPY_MODEL_651a4bdc363a4428a77481ca0dc46c27",
              "IPY_MODEL_9b738f3eee454178aa58f749cf00ea57",
              "IPY_MODEL_94e03aefa073477997fa0e3d20cecc3d"
            ]
          }
        },
        "eaf8851d15f344259909b75141a6fbf4": {
          "model_module": "@jupyter-widgets/base",
          "model_name": "LayoutModel",
          "model_module_version": "1.2.0",
          "state": {
            "_view_name": "LayoutView",
            "grid_template_rows": null,
            "right": null,
            "justify_content": null,
            "_view_module": "@jupyter-widgets/base",
            "overflow": null,
            "_model_module_version": "1.2.0",
            "_view_count": null,
            "flex_flow": null,
            "width": null,
            "min_width": null,
            "border": null,
            "align_items": null,
            "bottom": null,
            "_model_module": "@jupyter-widgets/base",
            "top": null,
            "grid_column": null,
            "overflow_y": null,
            "overflow_x": null,
            "grid_auto_flow": null,
            "grid_area": null,
            "grid_template_columns": null,
            "flex": null,
            "_model_name": "LayoutModel",
            "justify_items": null,
            "grid_row": null,
            "max_height": null,
            "align_content": null,
            "visibility": null,
            "align_self": null,
            "height": null,
            "min_height": null,
            "padding": null,
            "grid_auto_rows": null,
            "grid_gap": null,
            "max_width": null,
            "order": null,
            "_view_module_version": "1.2.0",
            "grid_template_areas": null,
            "object_position": null,
            "object_fit": null,
            "grid_auto_columns": null,
            "margin": null,
            "display": null,
            "left": null
          }
        },
        "651a4bdc363a4428a77481ca0dc46c27": {
          "model_module": "@jupyter-widgets/controls",
          "model_name": "HTMLModel",
          "model_module_version": "1.5.0",
          "state": {
            "_view_name": "HTMLView",
            "style": "IPY_MODEL_3e9b4536b5eb4081a446b0fa55ea6943",
            "_dom_classes": [],
            "description": "",
            "_model_name": "HTMLModel",
            "placeholder": "​",
            "_view_module": "@jupyter-widgets/controls",
            "_model_module_version": "1.5.0",
            "value": "Downloading: 100%",
            "_view_count": null,
            "_view_module_version": "1.5.0",
            "description_tooltip": null,
            "_model_module": "@jupyter-widgets/controls",
            "layout": "IPY_MODEL_f00f281865ad4470970181ee0d81f278"
          }
        },
        "9b738f3eee454178aa58f749cf00ea57": {
          "model_module": "@jupyter-widgets/controls",
          "model_name": "FloatProgressModel",
          "model_module_version": "1.5.0",
          "state": {
            "_view_name": "ProgressView",
            "style": "IPY_MODEL_f167e34407684350a77b1db60e8c7fac",
            "_dom_classes": [],
            "description": "",
            "_model_name": "FloatProgressModel",
            "bar_style": "success",
            "max": 213450,
            "_view_module": "@jupyter-widgets/controls",
            "_model_module_version": "1.5.0",
            "value": 213450,
            "_view_count": null,
            "_view_module_version": "1.5.0",
            "orientation": "horizontal",
            "min": 0,
            "description_tooltip": null,
            "_model_module": "@jupyter-widgets/controls",
            "layout": "IPY_MODEL_7680cc1ba7454903a18e4bb779f174b8"
          }
        },
        "94e03aefa073477997fa0e3d20cecc3d": {
          "model_module": "@jupyter-widgets/controls",
          "model_name": "HTMLModel",
          "model_module_version": "1.5.0",
          "state": {
            "_view_name": "HTMLView",
            "style": "IPY_MODEL_af822a481d1048d6ae0f20dc1b86aaf1",
            "_dom_classes": [],
            "description": "",
            "_model_name": "HTMLModel",
            "placeholder": "​",
            "_view_module": "@jupyter-widgets/controls",
            "_model_module_version": "1.5.0",
            "value": " 213k/213k [00:00&lt;00:00, 326kB/s]",
            "_view_count": null,
            "_view_module_version": "1.5.0",
            "description_tooltip": null,
            "_model_module": "@jupyter-widgets/controls",
            "layout": "IPY_MODEL_18e5f27efaeb4c7dbf0d9ee0496f09f0"
          }
        },
        "3e9b4536b5eb4081a446b0fa55ea6943": {
          "model_module": "@jupyter-widgets/controls",
          "model_name": "DescriptionStyleModel",
          "model_module_version": "1.5.0",
          "state": {
            "_view_name": "StyleView",
            "_model_name": "DescriptionStyleModel",
            "description_width": "",
            "_view_module": "@jupyter-widgets/base",
            "_model_module_version": "1.5.0",
            "_view_count": null,
            "_view_module_version": "1.2.0",
            "_model_module": "@jupyter-widgets/controls"
          }
        },
        "f00f281865ad4470970181ee0d81f278": {
          "model_module": "@jupyter-widgets/base",
          "model_name": "LayoutModel",
          "model_module_version": "1.2.0",
          "state": {
            "_view_name": "LayoutView",
            "grid_template_rows": null,
            "right": null,
            "justify_content": null,
            "_view_module": "@jupyter-widgets/base",
            "overflow": null,
            "_model_module_version": "1.2.0",
            "_view_count": null,
            "flex_flow": null,
            "width": null,
            "min_width": null,
            "border": null,
            "align_items": null,
            "bottom": null,
            "_model_module": "@jupyter-widgets/base",
            "top": null,
            "grid_column": null,
            "overflow_y": null,
            "overflow_x": null,
            "grid_auto_flow": null,
            "grid_area": null,
            "grid_template_columns": null,
            "flex": null,
            "_model_name": "LayoutModel",
            "justify_items": null,
            "grid_row": null,
            "max_height": null,
            "align_content": null,
            "visibility": null,
            "align_self": null,
            "height": null,
            "min_height": null,
            "padding": null,
            "grid_auto_rows": null,
            "grid_gap": null,
            "max_width": null,
            "order": null,
            "_view_module_version": "1.2.0",
            "grid_template_areas": null,
            "object_position": null,
            "object_fit": null,
            "grid_auto_columns": null,
            "margin": null,
            "display": null,
            "left": null
          }
        },
        "f167e34407684350a77b1db60e8c7fac": {
          "model_module": "@jupyter-widgets/controls",
          "model_name": "ProgressStyleModel",
          "model_module_version": "1.5.0",
          "state": {
            "_view_name": "StyleView",
            "_model_name": "ProgressStyleModel",
            "description_width": "",
            "_view_module": "@jupyter-widgets/base",
            "_model_module_version": "1.5.0",
            "_view_count": null,
            "_view_module_version": "1.2.0",
            "bar_color": null,
            "_model_module": "@jupyter-widgets/controls"
          }
        },
        "7680cc1ba7454903a18e4bb779f174b8": {
          "model_module": "@jupyter-widgets/base",
          "model_name": "LayoutModel",
          "model_module_version": "1.2.0",
          "state": {
            "_view_name": "LayoutView",
            "grid_template_rows": null,
            "right": null,
            "justify_content": null,
            "_view_module": "@jupyter-widgets/base",
            "overflow": null,
            "_model_module_version": "1.2.0",
            "_view_count": null,
            "flex_flow": null,
            "width": null,
            "min_width": null,
            "border": null,
            "align_items": null,
            "bottom": null,
            "_model_module": "@jupyter-widgets/base",
            "top": null,
            "grid_column": null,
            "overflow_y": null,
            "overflow_x": null,
            "grid_auto_flow": null,
            "grid_area": null,
            "grid_template_columns": null,
            "flex": null,
            "_model_name": "LayoutModel",
            "justify_items": null,
            "grid_row": null,
            "max_height": null,
            "align_content": null,
            "visibility": null,
            "align_self": null,
            "height": null,
            "min_height": null,
            "padding": null,
            "grid_auto_rows": null,
            "grid_gap": null,
            "max_width": null,
            "order": null,
            "_view_module_version": "1.2.0",
            "grid_template_areas": null,
            "object_position": null,
            "object_fit": null,
            "grid_auto_columns": null,
            "margin": null,
            "display": null,
            "left": null
          }
        },
        "af822a481d1048d6ae0f20dc1b86aaf1": {
          "model_module": "@jupyter-widgets/controls",
          "model_name": "DescriptionStyleModel",
          "model_module_version": "1.5.0",
          "state": {
            "_view_name": "StyleView",
            "_model_name": "DescriptionStyleModel",
            "description_width": "",
            "_view_module": "@jupyter-widgets/base",
            "_model_module_version": "1.5.0",
            "_view_count": null,
            "_view_module_version": "1.2.0",
            "_model_module": "@jupyter-widgets/controls"
          }
        },
        "18e5f27efaeb4c7dbf0d9ee0496f09f0": {
          "model_module": "@jupyter-widgets/base",
          "model_name": "LayoutModel",
          "model_module_version": "1.2.0",
          "state": {
            "_view_name": "LayoutView",
            "grid_template_rows": null,
            "right": null,
            "justify_content": null,
            "_view_module": "@jupyter-widgets/base",
            "overflow": null,
            "_model_module_version": "1.2.0",
            "_view_count": null,
            "flex_flow": null,
            "width": null,
            "min_width": null,
            "border": null,
            "align_items": null,
            "bottom": null,
            "_model_module": "@jupyter-widgets/base",
            "top": null,
            "grid_column": null,
            "overflow_y": null,
            "overflow_x": null,
            "grid_auto_flow": null,
            "grid_area": null,
            "grid_template_columns": null,
            "flex": null,
            "_model_name": "LayoutModel",
            "justify_items": null,
            "grid_row": null,
            "max_height": null,
            "align_content": null,
            "visibility": null,
            "align_self": null,
            "height": null,
            "min_height": null,
            "padding": null,
            "grid_auto_rows": null,
            "grid_gap": null,
            "max_width": null,
            "order": null,
            "_view_module_version": "1.2.0",
            "grid_template_areas": null,
            "object_position": null,
            "object_fit": null,
            "grid_auto_columns": null,
            "margin": null,
            "display": null,
            "left": null
          }
        },
        "1a51072218f34926957b77caa754e4ec": {
          "model_module": "@jupyter-widgets/controls",
          "model_name": "HBoxModel",
          "model_module_version": "1.5.0",
          "state": {
            "_view_name": "HBoxView",
            "_dom_classes": [],
            "_model_name": "HBoxModel",
            "_view_module": "@jupyter-widgets/controls",
            "_model_module_version": "1.5.0",
            "_view_count": null,
            "_view_module_version": "1.5.0",
            "box_style": "",
            "layout": "IPY_MODEL_0ce4eeb5d61046cbbc0ca3fe93652928",
            "_model_module": "@jupyter-widgets/controls",
            "children": [
              "IPY_MODEL_2e527afe330d4044b4a8120990042f7a",
              "IPY_MODEL_6569c6def529447da05abf0ae6d760fe",
              "IPY_MODEL_8937e4de63854031885c7645c1f32fb1"
            ]
          }
        },
        "0ce4eeb5d61046cbbc0ca3fe93652928": {
          "model_module": "@jupyter-widgets/base",
          "model_name": "LayoutModel",
          "model_module_version": "1.2.0",
          "state": {
            "_view_name": "LayoutView",
            "grid_template_rows": null,
            "right": null,
            "justify_content": null,
            "_view_module": "@jupyter-widgets/base",
            "overflow": null,
            "_model_module_version": "1.2.0",
            "_view_count": null,
            "flex_flow": null,
            "width": null,
            "min_width": null,
            "border": null,
            "align_items": null,
            "bottom": null,
            "_model_module": "@jupyter-widgets/base",
            "top": null,
            "grid_column": null,
            "overflow_y": null,
            "overflow_x": null,
            "grid_auto_flow": null,
            "grid_area": null,
            "grid_template_columns": null,
            "flex": null,
            "_model_name": "LayoutModel",
            "justify_items": null,
            "grid_row": null,
            "max_height": null,
            "align_content": null,
            "visibility": null,
            "align_self": null,
            "height": null,
            "min_height": null,
            "padding": null,
            "grid_auto_rows": null,
            "grid_gap": null,
            "max_width": null,
            "order": null,
            "_view_module_version": "1.2.0",
            "grid_template_areas": null,
            "object_position": null,
            "object_fit": null,
            "grid_auto_columns": null,
            "margin": null,
            "display": null,
            "left": null
          }
        },
        "2e527afe330d4044b4a8120990042f7a": {
          "model_module": "@jupyter-widgets/controls",
          "model_name": "HTMLModel",
          "model_module_version": "1.5.0",
          "state": {
            "_view_name": "HTMLView",
            "style": "IPY_MODEL_590c79e5089b4e8aaa92386cfcc015fb",
            "_dom_classes": [],
            "description": "",
            "_model_name": "HTMLModel",
            "placeholder": "​",
            "_view_module": "@jupyter-widgets/controls",
            "_model_module_version": "1.5.0",
            "value": "Downloading: 100%",
            "_view_count": null,
            "_view_module_version": "1.5.0",
            "description_tooltip": null,
            "_model_module": "@jupyter-widgets/controls",
            "layout": "IPY_MODEL_8c25d3720b8f49b796521ec6970d2899"
          }
        },
        "6569c6def529447da05abf0ae6d760fe": {
          "model_module": "@jupyter-widgets/controls",
          "model_name": "FloatProgressModel",
          "model_module_version": "1.5.0",
          "state": {
            "_view_name": "ProgressView",
            "style": "IPY_MODEL_51467ddbb82d4f08b0d11c6179d237fc",
            "_dom_classes": [],
            "description": "",
            "_model_name": "FloatProgressModel",
            "bar_style": "success",
            "max": 433,
            "_view_module": "@jupyter-widgets/controls",
            "_model_module_version": "1.5.0",
            "value": 433,
            "_view_count": null,
            "_view_module_version": "1.5.0",
            "orientation": "horizontal",
            "min": 0,
            "description_tooltip": null,
            "_model_module": "@jupyter-widgets/controls",
            "layout": "IPY_MODEL_929c32308ef84050ad05c6d05eaa0f32"
          }
        },
        "8937e4de63854031885c7645c1f32fb1": {
          "model_module": "@jupyter-widgets/controls",
          "model_name": "HTMLModel",
          "model_module_version": "1.5.0",
          "state": {
            "_view_name": "HTMLView",
            "style": "IPY_MODEL_ce6f35d6881741bc9257491fb47b0552",
            "_dom_classes": [],
            "description": "",
            "_model_name": "HTMLModel",
            "placeholder": "​",
            "_view_module": "@jupyter-widgets/controls",
            "_model_module_version": "1.5.0",
            "value": " 433/433 [00:00&lt;00:00, 11.0kB/s]",
            "_view_count": null,
            "_view_module_version": "1.5.0",
            "description_tooltip": null,
            "_model_module": "@jupyter-widgets/controls",
            "layout": "IPY_MODEL_4c1ea07072f14aa6b0eaa11e65327b0c"
          }
        },
        "590c79e5089b4e8aaa92386cfcc015fb": {
          "model_module": "@jupyter-widgets/controls",
          "model_name": "DescriptionStyleModel",
          "model_module_version": "1.5.0",
          "state": {
            "_view_name": "StyleView",
            "_model_name": "DescriptionStyleModel",
            "description_width": "",
            "_view_module": "@jupyter-widgets/base",
            "_model_module_version": "1.5.0",
            "_view_count": null,
            "_view_module_version": "1.2.0",
            "_model_module": "@jupyter-widgets/controls"
          }
        },
        "8c25d3720b8f49b796521ec6970d2899": {
          "model_module": "@jupyter-widgets/base",
          "model_name": "LayoutModel",
          "model_module_version": "1.2.0",
          "state": {
            "_view_name": "LayoutView",
            "grid_template_rows": null,
            "right": null,
            "justify_content": null,
            "_view_module": "@jupyter-widgets/base",
            "overflow": null,
            "_model_module_version": "1.2.0",
            "_view_count": null,
            "flex_flow": null,
            "width": null,
            "min_width": null,
            "border": null,
            "align_items": null,
            "bottom": null,
            "_model_module": "@jupyter-widgets/base",
            "top": null,
            "grid_column": null,
            "overflow_y": null,
            "overflow_x": null,
            "grid_auto_flow": null,
            "grid_area": null,
            "grid_template_columns": null,
            "flex": null,
            "_model_name": "LayoutModel",
            "justify_items": null,
            "grid_row": null,
            "max_height": null,
            "align_content": null,
            "visibility": null,
            "align_self": null,
            "height": null,
            "min_height": null,
            "padding": null,
            "grid_auto_rows": null,
            "grid_gap": null,
            "max_width": null,
            "order": null,
            "_view_module_version": "1.2.0",
            "grid_template_areas": null,
            "object_position": null,
            "object_fit": null,
            "grid_auto_columns": null,
            "margin": null,
            "display": null,
            "left": null
          }
        },
        "51467ddbb82d4f08b0d11c6179d237fc": {
          "model_module": "@jupyter-widgets/controls",
          "model_name": "ProgressStyleModel",
          "model_module_version": "1.5.0",
          "state": {
            "_view_name": "StyleView",
            "_model_name": "ProgressStyleModel",
            "description_width": "",
            "_view_module": "@jupyter-widgets/base",
            "_model_module_version": "1.5.0",
            "_view_count": null,
            "_view_module_version": "1.2.0",
            "bar_color": null,
            "_model_module": "@jupyter-widgets/controls"
          }
        },
        "929c32308ef84050ad05c6d05eaa0f32": {
          "model_module": "@jupyter-widgets/base",
          "model_name": "LayoutModel",
          "model_module_version": "1.2.0",
          "state": {
            "_view_name": "LayoutView",
            "grid_template_rows": null,
            "right": null,
            "justify_content": null,
            "_view_module": "@jupyter-widgets/base",
            "overflow": null,
            "_model_module_version": "1.2.0",
            "_view_count": null,
            "flex_flow": null,
            "width": null,
            "min_width": null,
            "border": null,
            "align_items": null,
            "bottom": null,
            "_model_module": "@jupyter-widgets/base",
            "top": null,
            "grid_column": null,
            "overflow_y": null,
            "overflow_x": null,
            "grid_auto_flow": null,
            "grid_area": null,
            "grid_template_columns": null,
            "flex": null,
            "_model_name": "LayoutModel",
            "justify_items": null,
            "grid_row": null,
            "max_height": null,
            "align_content": null,
            "visibility": null,
            "align_self": null,
            "height": null,
            "min_height": null,
            "padding": null,
            "grid_auto_rows": null,
            "grid_gap": null,
            "max_width": null,
            "order": null,
            "_view_module_version": "1.2.0",
            "grid_template_areas": null,
            "object_position": null,
            "object_fit": null,
            "grid_auto_columns": null,
            "margin": null,
            "display": null,
            "left": null
          }
        },
        "ce6f35d6881741bc9257491fb47b0552": {
          "model_module": "@jupyter-widgets/controls",
          "model_name": "DescriptionStyleModel",
          "model_module_version": "1.5.0",
          "state": {
            "_view_name": "StyleView",
            "_model_name": "DescriptionStyleModel",
            "description_width": "",
            "_view_module": "@jupyter-widgets/base",
            "_model_module_version": "1.5.0",
            "_view_count": null,
            "_view_module_version": "1.2.0",
            "_model_module": "@jupyter-widgets/controls"
          }
        },
        "4c1ea07072f14aa6b0eaa11e65327b0c": {
          "model_module": "@jupyter-widgets/base",
          "model_name": "LayoutModel",
          "model_module_version": "1.2.0",
          "state": {
            "_view_name": "LayoutView",
            "grid_template_rows": null,
            "right": null,
            "justify_content": null,
            "_view_module": "@jupyter-widgets/base",
            "overflow": null,
            "_model_module_version": "1.2.0",
            "_view_count": null,
            "flex_flow": null,
            "width": null,
            "min_width": null,
            "border": null,
            "align_items": null,
            "bottom": null,
            "_model_module": "@jupyter-widgets/base",
            "top": null,
            "grid_column": null,
            "overflow_y": null,
            "overflow_x": null,
            "grid_auto_flow": null,
            "grid_area": null,
            "grid_template_columns": null,
            "flex": null,
            "_model_name": "LayoutModel",
            "justify_items": null,
            "grid_row": null,
            "max_height": null,
            "align_content": null,
            "visibility": null,
            "align_self": null,
            "height": null,
            "min_height": null,
            "padding": null,
            "grid_auto_rows": null,
            "grid_gap": null,
            "max_width": null,
            "order": null,
            "_view_module_version": "1.2.0",
            "grid_template_areas": null,
            "object_position": null,
            "object_fit": null,
            "grid_auto_columns": null,
            "margin": null,
            "display": null,
            "left": null
          }
        },
        "1fd93beda3da4cbb9466e22140b4b02d": {
          "model_module": "@jupyter-widgets/controls",
          "model_name": "HBoxModel",
          "model_module_version": "1.5.0",
          "state": {
            "_view_name": "HBoxView",
            "_dom_classes": [],
            "_model_name": "HBoxModel",
            "_view_module": "@jupyter-widgets/controls",
            "_model_module_version": "1.5.0",
            "_view_count": null,
            "_view_module_version": "1.5.0",
            "box_style": "",
            "layout": "IPY_MODEL_9791c0ecf79b41238970b50ce39b89da",
            "_model_module": "@jupyter-widgets/controls",
            "children": [
              "IPY_MODEL_d4662426e94a43c89e67c8ef10e0774e",
              "IPY_MODEL_a06f683b43e644ea899c284bbac1c963",
              "IPY_MODEL_b0ec0a33115e4425bd817dabf57322ed"
            ]
          }
        },
        "9791c0ecf79b41238970b50ce39b89da": {
          "model_module": "@jupyter-widgets/base",
          "model_name": "LayoutModel",
          "model_module_version": "1.2.0",
          "state": {
            "_view_name": "LayoutView",
            "grid_template_rows": null,
            "right": null,
            "justify_content": null,
            "_view_module": "@jupyter-widgets/base",
            "overflow": null,
            "_model_module_version": "1.2.0",
            "_view_count": null,
            "flex_flow": null,
            "width": null,
            "min_width": null,
            "border": null,
            "align_items": null,
            "bottom": null,
            "_model_module": "@jupyter-widgets/base",
            "top": null,
            "grid_column": null,
            "overflow_y": null,
            "overflow_x": null,
            "grid_auto_flow": null,
            "grid_area": null,
            "grid_template_columns": null,
            "flex": null,
            "_model_name": "LayoutModel",
            "justify_items": null,
            "grid_row": null,
            "max_height": null,
            "align_content": null,
            "visibility": null,
            "align_self": null,
            "height": null,
            "min_height": null,
            "padding": null,
            "grid_auto_rows": null,
            "grid_gap": null,
            "max_width": null,
            "order": null,
            "_view_module_version": "1.2.0",
            "grid_template_areas": null,
            "object_position": null,
            "object_fit": null,
            "grid_auto_columns": null,
            "margin": null,
            "display": null,
            "left": null
          }
        },
        "d4662426e94a43c89e67c8ef10e0774e": {
          "model_module": "@jupyter-widgets/controls",
          "model_name": "HTMLModel",
          "model_module_version": "1.5.0",
          "state": {
            "_view_name": "HTMLView",
            "style": "IPY_MODEL_a584144b3b27431c925d67544302e394",
            "_dom_classes": [],
            "description": "",
            "_model_name": "HTMLModel",
            "placeholder": "​",
            "_view_module": "@jupyter-widgets/controls",
            "_model_module_version": "1.5.0",
            "value": "Downloading: 100%",
            "_view_count": null,
            "_view_module_version": "1.5.0",
            "description_tooltip": null,
            "_model_module": "@jupyter-widgets/controls",
            "layout": "IPY_MODEL_88abba63484246b4a64ed301d9407a3f"
          }
        },
        "a06f683b43e644ea899c284bbac1c963": {
          "model_module": "@jupyter-widgets/controls",
          "model_name": "FloatProgressModel",
          "model_module_version": "1.5.0",
          "state": {
            "_view_name": "ProgressView",
            "style": "IPY_MODEL_684d130afb3b41c4981e3ba5b261fa93",
            "_dom_classes": [],
            "description": "",
            "_model_name": "FloatProgressModel",
            "bar_style": "success",
            "max": 435779157,
            "_view_module": "@jupyter-widgets/controls",
            "_model_module_version": "1.5.0",
            "value": 435779157,
            "_view_count": null,
            "_view_module_version": "1.5.0",
            "orientation": "horizontal",
            "min": 0,
            "description_tooltip": null,
            "_model_module": "@jupyter-widgets/controls",
            "layout": "IPY_MODEL_986aa3331f304c1dbf9d46f92a5a057d"
          }
        },
        "b0ec0a33115e4425bd817dabf57322ed": {
          "model_module": "@jupyter-widgets/controls",
          "model_name": "HTMLModel",
          "model_module_version": "1.5.0",
          "state": {
            "_view_name": "HTMLView",
            "style": "IPY_MODEL_8223f1fea60640bb8743f32e1d7787ef",
            "_dom_classes": [],
            "description": "",
            "_model_name": "HTMLModel",
            "placeholder": "​",
            "_view_module": "@jupyter-widgets/controls",
            "_model_module_version": "1.5.0",
            "value": " 436M/436M [00:12&lt;00:00, 31.7MB/s]",
            "_view_count": null,
            "_view_module_version": "1.5.0",
            "description_tooltip": null,
            "_model_module": "@jupyter-widgets/controls",
            "layout": "IPY_MODEL_82f164b18720444f8c630f6ecd432dea"
          }
        },
        "a584144b3b27431c925d67544302e394": {
          "model_module": "@jupyter-widgets/controls",
          "model_name": "DescriptionStyleModel",
          "model_module_version": "1.5.0",
          "state": {
            "_view_name": "StyleView",
            "_model_name": "DescriptionStyleModel",
            "description_width": "",
            "_view_module": "@jupyter-widgets/base",
            "_model_module_version": "1.5.0",
            "_view_count": null,
            "_view_module_version": "1.2.0",
            "_model_module": "@jupyter-widgets/controls"
          }
        },
        "88abba63484246b4a64ed301d9407a3f": {
          "model_module": "@jupyter-widgets/base",
          "model_name": "LayoutModel",
          "model_module_version": "1.2.0",
          "state": {
            "_view_name": "LayoutView",
            "grid_template_rows": null,
            "right": null,
            "justify_content": null,
            "_view_module": "@jupyter-widgets/base",
            "overflow": null,
            "_model_module_version": "1.2.0",
            "_view_count": null,
            "flex_flow": null,
            "width": null,
            "min_width": null,
            "border": null,
            "align_items": null,
            "bottom": null,
            "_model_module": "@jupyter-widgets/base",
            "top": null,
            "grid_column": null,
            "overflow_y": null,
            "overflow_x": null,
            "grid_auto_flow": null,
            "grid_area": null,
            "grid_template_columns": null,
            "flex": null,
            "_model_name": "LayoutModel",
            "justify_items": null,
            "grid_row": null,
            "max_height": null,
            "align_content": null,
            "visibility": null,
            "align_self": null,
            "height": null,
            "min_height": null,
            "padding": null,
            "grid_auto_rows": null,
            "grid_gap": null,
            "max_width": null,
            "order": null,
            "_view_module_version": "1.2.0",
            "grid_template_areas": null,
            "object_position": null,
            "object_fit": null,
            "grid_auto_columns": null,
            "margin": null,
            "display": null,
            "left": null
          }
        },
        "684d130afb3b41c4981e3ba5b261fa93": {
          "model_module": "@jupyter-widgets/controls",
          "model_name": "ProgressStyleModel",
          "model_module_version": "1.5.0",
          "state": {
            "_view_name": "StyleView",
            "_model_name": "ProgressStyleModel",
            "description_width": "",
            "_view_module": "@jupyter-widgets/base",
            "_model_module_version": "1.5.0",
            "_view_count": null,
            "_view_module_version": "1.2.0",
            "bar_color": null,
            "_model_module": "@jupyter-widgets/controls"
          }
        },
        "986aa3331f304c1dbf9d46f92a5a057d": {
          "model_module": "@jupyter-widgets/base",
          "model_name": "LayoutModel",
          "model_module_version": "1.2.0",
          "state": {
            "_view_name": "LayoutView",
            "grid_template_rows": null,
            "right": null,
            "justify_content": null,
            "_view_module": "@jupyter-widgets/base",
            "overflow": null,
            "_model_module_version": "1.2.0",
            "_view_count": null,
            "flex_flow": null,
            "width": null,
            "min_width": null,
            "border": null,
            "align_items": null,
            "bottom": null,
            "_model_module": "@jupyter-widgets/base",
            "top": null,
            "grid_column": null,
            "overflow_y": null,
            "overflow_x": null,
            "grid_auto_flow": null,
            "grid_area": null,
            "grid_template_columns": null,
            "flex": null,
            "_model_name": "LayoutModel",
            "justify_items": null,
            "grid_row": null,
            "max_height": null,
            "align_content": null,
            "visibility": null,
            "align_self": null,
            "height": null,
            "min_height": null,
            "padding": null,
            "grid_auto_rows": null,
            "grid_gap": null,
            "max_width": null,
            "order": null,
            "_view_module_version": "1.2.0",
            "grid_template_areas": null,
            "object_position": null,
            "object_fit": null,
            "grid_auto_columns": null,
            "margin": null,
            "display": null,
            "left": null
          }
        },
        "8223f1fea60640bb8743f32e1d7787ef": {
          "model_module": "@jupyter-widgets/controls",
          "model_name": "DescriptionStyleModel",
          "model_module_version": "1.5.0",
          "state": {
            "_view_name": "StyleView",
            "_model_name": "DescriptionStyleModel",
            "description_width": "",
            "_view_module": "@jupyter-widgets/base",
            "_model_module_version": "1.5.0",
            "_view_count": null,
            "_view_module_version": "1.2.0",
            "_model_module": "@jupyter-widgets/controls"
          }
        },
        "82f164b18720444f8c630f6ecd432dea": {
          "model_module": "@jupyter-widgets/base",
          "model_name": "LayoutModel",
          "model_module_version": "1.2.0",
          "state": {
            "_view_name": "LayoutView",
            "grid_template_rows": null,
            "right": null,
            "justify_content": null,
            "_view_module": "@jupyter-widgets/base",
            "overflow": null,
            "_model_module_version": "1.2.0",
            "_view_count": null,
            "flex_flow": null,
            "width": null,
            "min_width": null,
            "border": null,
            "align_items": null,
            "bottom": null,
            "_model_module": "@jupyter-widgets/base",
            "top": null,
            "grid_column": null,
            "overflow_y": null,
            "overflow_x": null,
            "grid_auto_flow": null,
            "grid_area": null,
            "grid_template_columns": null,
            "flex": null,
            "_model_name": "LayoutModel",
            "justify_items": null,
            "grid_row": null,
            "max_height": null,
            "align_content": null,
            "visibility": null,
            "align_self": null,
            "height": null,
            "min_height": null,
            "padding": null,
            "grid_auto_rows": null,
            "grid_gap": null,
            "max_width": null,
            "order": null,
            "_view_module_version": "1.2.0",
            "grid_template_areas": null,
            "object_position": null,
            "object_fit": null,
            "grid_auto_columns": null,
            "margin": null,
            "display": null,
            "left": null
          }
        },
        "62947d23b74f41caa8c60ee77c6b10a1": {
          "model_module": "@jupyter-widgets/controls",
          "model_name": "HBoxModel",
          "model_module_version": "1.5.0",
          "state": {
            "_view_name": "HBoxView",
            "_dom_classes": [],
            "_model_name": "HBoxModel",
            "_view_module": "@jupyter-widgets/controls",
            "_model_module_version": "1.5.0",
            "_view_count": null,
            "_view_module_version": "1.5.0",
            "box_style": "",
            "layout": "IPY_MODEL_833e27a55d614a00a6760b43a84ed72b",
            "_model_module": "@jupyter-widgets/controls",
            "children": [
              "IPY_MODEL_6121e807badf45f5928031a9aefa4f86",
              "IPY_MODEL_2f98cf16c5324f0c83934ab9c4a1f93f",
              "IPY_MODEL_b9184e9bd7d24312ac1788404cdce890"
            ]
          }
        },
        "833e27a55d614a00a6760b43a84ed72b": {
          "model_module": "@jupyter-widgets/base",
          "model_name": "LayoutModel",
          "model_module_version": "1.2.0",
          "state": {
            "_view_name": "LayoutView",
            "grid_template_rows": null,
            "right": null,
            "justify_content": null,
            "_view_module": "@jupyter-widgets/base",
            "overflow": null,
            "_model_module_version": "1.2.0",
            "_view_count": null,
            "flex_flow": null,
            "width": null,
            "min_width": null,
            "border": null,
            "align_items": null,
            "bottom": null,
            "_model_module": "@jupyter-widgets/base",
            "top": null,
            "grid_column": null,
            "overflow_y": null,
            "overflow_x": null,
            "grid_auto_flow": null,
            "grid_area": null,
            "grid_template_columns": null,
            "flex": null,
            "_model_name": "LayoutModel",
            "justify_items": null,
            "grid_row": null,
            "max_height": null,
            "align_content": null,
            "visibility": null,
            "align_self": null,
            "height": null,
            "min_height": null,
            "padding": null,
            "grid_auto_rows": null,
            "grid_gap": null,
            "max_width": null,
            "order": null,
            "_view_module_version": "1.2.0",
            "grid_template_areas": null,
            "object_position": null,
            "object_fit": null,
            "grid_auto_columns": null,
            "margin": null,
            "display": null,
            "left": null
          }
        },
        "6121e807badf45f5928031a9aefa4f86": {
          "model_module": "@jupyter-widgets/controls",
          "model_name": "HTMLModel",
          "model_module_version": "1.5.0",
          "state": {
            "_view_name": "HTMLView",
            "style": "IPY_MODEL_41e873467761420094d00abe8b6730cd",
            "_dom_classes": [],
            "description": "",
            "_model_name": "HTMLModel",
            "placeholder": "​",
            "_view_module": "@jupyter-widgets/controls",
            "_model_module_version": "1.5.0",
            "value": "Downloading: ",
            "_view_count": null,
            "_view_module_version": "1.5.0",
            "description_tooltip": null,
            "_model_module": "@jupyter-widgets/controls",
            "layout": "IPY_MODEL_67a8f780baa54afb934eb61ba0d2f9ba"
          }
        },
        "2f98cf16c5324f0c83934ab9c4a1f93f": {
          "model_module": "@jupyter-widgets/controls",
          "model_name": "FloatProgressModel",
          "model_module_version": "1.5.0",
          "state": {
            "_view_name": "ProgressView",
            "style": "IPY_MODEL_6a41cf49c580473db587ad59e2b71ad0",
            "_dom_classes": [],
            "description": "",
            "_model_name": "FloatProgressModel",
            "bar_style": "success",
            "max": 1585,
            "_view_module": "@jupyter-widgets/controls",
            "_model_module_version": "1.5.0",
            "value": 1585,
            "_view_count": null,
            "_view_module_version": "1.5.0",
            "orientation": "horizontal",
            "min": 0,
            "description_tooltip": null,
            "_model_module": "@jupyter-widgets/controls",
            "layout": "IPY_MODEL_ab83b4a3c79f4564a4f37b20806ba746"
          }
        },
        "b9184e9bd7d24312ac1788404cdce890": {
          "model_module": "@jupyter-widgets/controls",
          "model_name": "HTMLModel",
          "model_module_version": "1.5.0",
          "state": {
            "_view_name": "HTMLView",
            "style": "IPY_MODEL_bcf3ef9ee0a2499290eb58d45283690b",
            "_dom_classes": [],
            "description": "",
            "_model_name": "HTMLModel",
            "placeholder": "​",
            "_view_module": "@jupyter-widgets/controls",
            "_model_module_version": "1.5.0",
            "value": " 4.39k/? [00:00&lt;00:00, 6.02kB/s]",
            "_view_count": null,
            "_view_module_version": "1.5.0",
            "description_tooltip": null,
            "_model_module": "@jupyter-widgets/controls",
            "layout": "IPY_MODEL_68eb5f970a344d2fbaa07f1ccf5f4347"
          }
        },
        "41e873467761420094d00abe8b6730cd": {
          "model_module": "@jupyter-widgets/controls",
          "model_name": "DescriptionStyleModel",
          "model_module_version": "1.5.0",
          "state": {
            "_view_name": "StyleView",
            "_model_name": "DescriptionStyleModel",
            "description_width": "",
            "_view_module": "@jupyter-widgets/base",
            "_model_module_version": "1.5.0",
            "_view_count": null,
            "_view_module_version": "1.2.0",
            "_model_module": "@jupyter-widgets/controls"
          }
        },
        "67a8f780baa54afb934eb61ba0d2f9ba": {
          "model_module": "@jupyter-widgets/base",
          "model_name": "LayoutModel",
          "model_module_version": "1.2.0",
          "state": {
            "_view_name": "LayoutView",
            "grid_template_rows": null,
            "right": null,
            "justify_content": null,
            "_view_module": "@jupyter-widgets/base",
            "overflow": null,
            "_model_module_version": "1.2.0",
            "_view_count": null,
            "flex_flow": null,
            "width": null,
            "min_width": null,
            "border": null,
            "align_items": null,
            "bottom": null,
            "_model_module": "@jupyter-widgets/base",
            "top": null,
            "grid_column": null,
            "overflow_y": null,
            "overflow_x": null,
            "grid_auto_flow": null,
            "grid_area": null,
            "grid_template_columns": null,
            "flex": null,
            "_model_name": "LayoutModel",
            "justify_items": null,
            "grid_row": null,
            "max_height": null,
            "align_content": null,
            "visibility": null,
            "align_self": null,
            "height": null,
            "min_height": null,
            "padding": null,
            "grid_auto_rows": null,
            "grid_gap": null,
            "max_width": null,
            "order": null,
            "_view_module_version": "1.2.0",
            "grid_template_areas": null,
            "object_position": null,
            "object_fit": null,
            "grid_auto_columns": null,
            "margin": null,
            "display": null,
            "left": null
          }
        },
        "6a41cf49c580473db587ad59e2b71ad0": {
          "model_module": "@jupyter-widgets/controls",
          "model_name": "ProgressStyleModel",
          "model_module_version": "1.5.0",
          "state": {
            "_view_name": "StyleView",
            "_model_name": "ProgressStyleModel",
            "description_width": "",
            "_view_module": "@jupyter-widgets/base",
            "_model_module_version": "1.5.0",
            "_view_count": null,
            "_view_module_version": "1.2.0",
            "bar_color": null,
            "_model_module": "@jupyter-widgets/controls"
          }
        },
        "ab83b4a3c79f4564a4f37b20806ba746": {
          "model_module": "@jupyter-widgets/base",
          "model_name": "LayoutModel",
          "model_module_version": "1.2.0",
          "state": {
            "_view_name": "LayoutView",
            "grid_template_rows": null,
            "right": null,
            "justify_content": null,
            "_view_module": "@jupyter-widgets/base",
            "overflow": null,
            "_model_module_version": "1.2.0",
            "_view_count": null,
            "flex_flow": null,
            "width": null,
            "min_width": null,
            "border": null,
            "align_items": null,
            "bottom": null,
            "_model_module": "@jupyter-widgets/base",
            "top": null,
            "grid_column": null,
            "overflow_y": null,
            "overflow_x": null,
            "grid_auto_flow": null,
            "grid_area": null,
            "grid_template_columns": null,
            "flex": null,
            "_model_name": "LayoutModel",
            "justify_items": null,
            "grid_row": null,
            "max_height": null,
            "align_content": null,
            "visibility": null,
            "align_self": null,
            "height": null,
            "min_height": null,
            "padding": null,
            "grid_auto_rows": null,
            "grid_gap": null,
            "max_width": null,
            "order": null,
            "_view_module_version": "1.2.0",
            "grid_template_areas": null,
            "object_position": null,
            "object_fit": null,
            "grid_auto_columns": null,
            "margin": null,
            "display": null,
            "left": null
          }
        },
        "bcf3ef9ee0a2499290eb58d45283690b": {
          "model_module": "@jupyter-widgets/controls",
          "model_name": "DescriptionStyleModel",
          "model_module_version": "1.5.0",
          "state": {
            "_view_name": "StyleView",
            "_model_name": "DescriptionStyleModel",
            "description_width": "",
            "_view_module": "@jupyter-widgets/base",
            "_model_module_version": "1.5.0",
            "_view_count": null,
            "_view_module_version": "1.2.0",
            "_model_module": "@jupyter-widgets/controls"
          }
        },
        "68eb5f970a344d2fbaa07f1ccf5f4347": {
          "model_module": "@jupyter-widgets/base",
          "model_name": "LayoutModel",
          "model_module_version": "1.2.0",
          "state": {
            "_view_name": "LayoutView",
            "grid_template_rows": null,
            "right": null,
            "justify_content": null,
            "_view_module": "@jupyter-widgets/base",
            "overflow": null,
            "_model_module_version": "1.2.0",
            "_view_count": null,
            "flex_flow": null,
            "width": null,
            "min_width": null,
            "border": null,
            "align_items": null,
            "bottom": null,
            "_model_module": "@jupyter-widgets/base",
            "top": null,
            "grid_column": null,
            "overflow_y": null,
            "overflow_x": null,
            "grid_auto_flow": null,
            "grid_area": null,
            "grid_template_columns": null,
            "flex": null,
            "_model_name": "LayoutModel",
            "justify_items": null,
            "grid_row": null,
            "max_height": null,
            "align_content": null,
            "visibility": null,
            "align_self": null,
            "height": null,
            "min_height": null,
            "padding": null,
            "grid_auto_rows": null,
            "grid_gap": null,
            "max_width": null,
            "order": null,
            "_view_module_version": "1.2.0",
            "grid_template_areas": null,
            "object_position": null,
            "object_fit": null,
            "grid_auto_columns": null,
            "margin": null,
            "display": null,
            "left": null
          }
        }
      }
    }
  },
  "cells": [
    {
      "cell_type": "markdown",
      "metadata": {
        "id": "view-in-github",
        "colab_type": "text"
      },
      "source": [
        "<a href=\"https://colab.research.google.com/github/nntadotzip/DS_coderschool_homework/blob/master/BERTbase-cased_SentencePairClassification_for_augmented.ipynb\" target=\"_parent\"><img src=\"https://colab.research.google.com/assets/colab-badge.svg\" alt=\"Open In Colab\"/></a>"
      ]
    },
    {
      "cell_type": "markdown",
      "source": [
        "# Import and Install"
      ],
      "metadata": {
        "id": "FRQs-1J4Hg6d"
      }
    },
    {
      "cell_type": "code",
      "execution_count": 1,
      "metadata": {
        "colab": {
          "base_uri": "https://localhost:8080/"
        },
        "id": "GxuQ4kVQHKp8",
        "outputId": "fe088bf0-bec3-468b-b030-c6841723d2f0"
      },
      "outputs": [
        {
          "output_type": "stream",
          "name": "stdout",
          "text": [
            "Collecting datasets==1.0.1\n",
            "  Downloading datasets-1.0.1-py3-none-any.whl (1.8 MB)\n",
            "\u001b[K     |████████████████████████████████| 1.8 MB 4.3 MB/s \n",
            "\u001b[?25hRequirement already satisfied: pyarrow>=0.17.1 in /usr/local/lib/python3.7/dist-packages (from datasets==1.0.1) (3.0.0)\n",
            "Requirement already satisfied: dill in /usr/local/lib/python3.7/dist-packages (from datasets==1.0.1) (0.3.4)\n",
            "Requirement already satisfied: requests>=2.19.0 in /usr/local/lib/python3.7/dist-packages (from datasets==1.0.1) (2.23.0)\n",
            "Collecting xxhash\n",
            "  Downloading xxhash-2.0.2-cp37-cp37m-manylinux2010_x86_64.whl (243 kB)\n",
            "\u001b[K     |████████████████████████████████| 243 kB 52.1 MB/s \n",
            "\u001b[?25hRequirement already satisfied: pandas in /usr/local/lib/python3.7/dist-packages (from datasets==1.0.1) (1.1.5)\n",
            "Requirement already satisfied: tqdm>=4.27 in /usr/local/lib/python3.7/dist-packages (from datasets==1.0.1) (4.62.3)\n",
            "Requirement already satisfied: filelock in /usr/local/lib/python3.7/dist-packages (from datasets==1.0.1) (3.4.0)\n",
            "Requirement already satisfied: numpy>=1.17 in /usr/local/lib/python3.7/dist-packages (from datasets==1.0.1) (1.19.5)\n",
            "Requirement already satisfied: chardet<4,>=3.0.2 in /usr/local/lib/python3.7/dist-packages (from requests>=2.19.0->datasets==1.0.1) (3.0.4)\n",
            "Requirement already satisfied: urllib3!=1.25.0,!=1.25.1,<1.26,>=1.21.1 in /usr/local/lib/python3.7/dist-packages (from requests>=2.19.0->datasets==1.0.1) (1.24.3)\n",
            "Requirement already satisfied: certifi>=2017.4.17 in /usr/local/lib/python3.7/dist-packages (from requests>=2.19.0->datasets==1.0.1) (2021.10.8)\n",
            "Requirement already satisfied: idna<3,>=2.5 in /usr/local/lib/python3.7/dist-packages (from requests>=2.19.0->datasets==1.0.1) (2.10)\n",
            "Requirement already satisfied: python-dateutil>=2.7.3 in /usr/local/lib/python3.7/dist-packages (from pandas->datasets==1.0.1) (2.8.2)\n",
            "Requirement already satisfied: pytz>=2017.2 in /usr/local/lib/python3.7/dist-packages (from pandas->datasets==1.0.1) (2018.9)\n",
            "Requirement already satisfied: six>=1.5 in /usr/local/lib/python3.7/dist-packages (from python-dateutil>=2.7.3->pandas->datasets==1.0.1) (1.15.0)\n",
            "Installing collected packages: xxhash, datasets\n",
            "Successfully installed datasets-1.0.1 xxhash-2.0.2\n",
            "Collecting transformers==3.1.0\n",
            "  Downloading transformers-3.1.0-py3-none-any.whl (884 kB)\n",
            "\u001b[K     |████████████████████████████████| 884 kB 4.3 MB/s \n",
            "\u001b[?25hRequirement already satisfied: filelock in /usr/local/lib/python3.7/dist-packages (from transformers==3.1.0) (3.4.0)\n",
            "Collecting sacremoses\n",
            "  Downloading sacremoses-0.0.46-py3-none-any.whl (895 kB)\n",
            "\u001b[K     |████████████████████████████████| 895 kB 42.4 MB/s \n",
            "\u001b[?25hRequirement already satisfied: regex!=2019.12.17 in /usr/local/lib/python3.7/dist-packages (from transformers==3.1.0) (2019.12.20)\n",
            "Requirement already satisfied: tqdm>=4.27 in /usr/local/lib/python3.7/dist-packages (from transformers==3.1.0) (4.62.3)\n",
            "Requirement already satisfied: requests in /usr/local/lib/python3.7/dist-packages (from transformers==3.1.0) (2.23.0)\n",
            "Requirement already satisfied: numpy in /usr/local/lib/python3.7/dist-packages (from transformers==3.1.0) (1.19.5)\n",
            "Requirement already satisfied: packaging in /usr/local/lib/python3.7/dist-packages (from transformers==3.1.0) (21.3)\n",
            "Collecting tokenizers==0.8.1.rc2\n",
            "  Downloading tokenizers-0.8.1rc2-cp37-cp37m-manylinux1_x86_64.whl (3.0 MB)\n",
            "\u001b[K     |████████████████████████████████| 3.0 MB 22.5 MB/s \n",
            "\u001b[?25hCollecting sentencepiece!=0.1.92\n",
            "  Downloading sentencepiece-0.1.96-cp37-cp37m-manylinux_2_17_x86_64.manylinux2014_x86_64.whl (1.2 MB)\n",
            "\u001b[K     |████████████████████████████████| 1.2 MB 44.2 MB/s \n",
            "\u001b[?25hRequirement already satisfied: pyparsing!=3.0.5,>=2.0.2 in /usr/local/lib/python3.7/dist-packages (from packaging->transformers==3.1.0) (3.0.6)\n",
            "Requirement already satisfied: chardet<4,>=3.0.2 in /usr/local/lib/python3.7/dist-packages (from requests->transformers==3.1.0) (3.0.4)\n",
            "Requirement already satisfied: urllib3!=1.25.0,!=1.25.1,<1.26,>=1.21.1 in /usr/local/lib/python3.7/dist-packages (from requests->transformers==3.1.0) (1.24.3)\n",
            "Requirement already satisfied: idna<3,>=2.5 in /usr/local/lib/python3.7/dist-packages (from requests->transformers==3.1.0) (2.10)\n",
            "Requirement already satisfied: certifi>=2017.4.17 in /usr/local/lib/python3.7/dist-packages (from requests->transformers==3.1.0) (2021.10.8)\n",
            "Requirement already satisfied: six in /usr/local/lib/python3.7/dist-packages (from sacremoses->transformers==3.1.0) (1.15.0)\n",
            "Requirement already satisfied: click in /usr/local/lib/python3.7/dist-packages (from sacremoses->transformers==3.1.0) (7.1.2)\n",
            "Requirement already satisfied: joblib in /usr/local/lib/python3.7/dist-packages (from sacremoses->transformers==3.1.0) (1.1.0)\n",
            "Installing collected packages: tokenizers, sentencepiece, sacremoses, transformers\n",
            "Successfully installed sacremoses-0.0.46 sentencepiece-0.1.96 tokenizers-0.8.1rc2 transformers-3.1.0\n"
          ]
        }
      ],
      "source": [
        "!pip install datasets==1.0.1\n",
        "!pip install transformers==3.1.0"
      ]
    },
    {
      "cell_type": "code",
      "source": [
        "import torch\n",
        "import torch.nn as nn\n",
        "import os\n",
        "import matplotlib.pyplot as plt\n",
        "import copy\n",
        "import torch.optim as optim\n",
        "import random\n",
        "import numpy as np\n",
        "import pandas as pd\n",
        "from torch.utils.data import DataLoader, Dataset\n",
        "from torch.cuda.amp import autocast, GradScaler\n",
        "from tqdm import tqdm\n",
        "from transformers import AutoTokenizer, AutoModel, AdamW, get_linear_schedule_with_warmup\n",
        "from datasets import load_dataset, load_metric\n",
        "\n",
        "os.environ[\"TOKENIZERS_PARALLELISM\"] = \"false\""
      ],
      "metadata": {
        "colab": {
          "base_uri": "https://localhost:8080/"
        },
        "id": "9ZBNhTttHVLk",
        "outputId": "efb3d083-57bb-432b-a0fb-dc69b46dd2eb"
      },
      "execution_count": 2,
      "outputs": [
        {
          "output_type": "stream",
          "name": "stderr",
          "text": [
            "PyTorch version 1.10.0+cu111 available.\n",
            "TensorFlow version 2.7.0 available.\n"
          ]
        }
      ]
    },
    {
      "cell_type": "code",
      "source": [
        "# Check that we are using 100% of GPU memory footprint support libraries/code\n",
        "# from https://github.com/patrickvonplaten/notebooks/blob/master/PyTorch_Reformer.ipynb\n",
        "!ln -sf /opt/bin/nvidia-smi /usr/bin/nvidia-smi\n",
        "!pip -q install gputil\n",
        "!pip -q install psutil\n",
        "!pip -q install humanize\n",
        "import psutil\n",
        "import humanize\n",
        "import os\n",
        "import GPUtil as GPU\n",
        "GPUs = GPU.getGPUs()\n",
        "# XXX: only one GPU on Colab and isn’t guaranteed\n",
        "gpu = GPUs[0]\n",
        "def printm():\n",
        " process = psutil.Process(os.getpid())\n",
        " print(\"Gen RAM Free: \" + humanize.naturalsize( psutil.virtual_memory().available ), \" | Proc size: \" + humanize.naturalsize( process.memory_info().rss))\n",
        " print(\"GPU RAM Free: {0:.0f}MB | Used: {1:.0f}MB | Util {2:3.0f}% | Total {3:.0f}MB\".format(gpu.memoryFree, gpu.memoryUsed, gpu.memoryUtil*100, gpu.memoryTotal))\n",
        "printm()"
      ],
      "metadata": {
        "colab": {
          "base_uri": "https://localhost:8080/"
        },
        "id": "9STJggpkHWpT",
        "outputId": "36d99db4-6158-4d18-87a3-49897fef04f3"
      },
      "execution_count": 3,
      "outputs": [
        {
          "output_type": "stream",
          "name": "stdout",
          "text": [
            "  Building wheel for gputil (setup.py) ... \u001b[?25l\u001b[?25hdone\n",
            "Gen RAM Free: 11.9 GB  | Proc size: 1.6 GB\n",
            "GPU RAM Free: 11441MB | Used: 0MB | Util   0% | Total 11441MB\n"
          ]
        }
      ]
    },
    {
      "cell_type": "markdown",
      "source": [
        "# Dataset"
      ],
      "metadata": {
        "id": "50Uc7gCBHdyq"
      }
    },
    {
      "cell_type": "code",
      "source": [
        "pd.set_option('display.max_colwidth', None)\n",
        "df = pd.read_csv('pair-backtranslations_init277_to518_vi-en-fr_withCosineUsingSBert.csv', encoding='utf-8')\n",
        "# df['idx'] = df.index\n",
        "df"
      ],
      "metadata": {
        "colab": {
          "base_uri": "https://localhost:8080/",
          "height": 1000
        },
        "id": "Y6zxTCTrHYKa",
        "outputId": "1b266313-5ef0-4d14-82f6-caed6ed1d376"
      },
      "execution_count": 4,
      "outputs": [
        {
          "output_type": "execute_result",
          "data": {
            "text/html": [
              "\n",
              "  <div id=\"df-b6eb6b5e-40f0-4148-a7a0-2435f3f859ce\">\n",
              "    <div class=\"colab-df-container\">\n",
              "      <div>\n",
              "<style scoped>\n",
              "    .dataframe tbody tr th:only-of-type {\n",
              "        vertical-align: middle;\n",
              "    }\n",
              "\n",
              "    .dataframe tbody tr th {\n",
              "        vertical-align: top;\n",
              "    }\n",
              "\n",
              "    .dataframe thead th {\n",
              "        text-align: right;\n",
              "    }\n",
              "</style>\n",
              "<table border=\"1\" class=\"dataframe\">\n",
              "  <thead>\n",
              "    <tr style=\"text-align: right;\">\n",
              "      <th></th>\n",
              "      <th>question_1</th>\n",
              "      <th>question_2</th>\n",
              "      <th>similarity</th>\n",
              "      <th>sem_sim</th>\n",
              "      <th>q1_en_to_vi</th>\n",
              "      <th>q2_fr_to_vi</th>\n",
              "      <th>cosine_usingSBert</th>\n",
              "    </tr>\n",
              "  </thead>\n",
              "  <tbody>\n",
              "    <tr>\n",
              "      <th>0</th>\n",
              "      <td>\"WTO là tên viết tắt của tổ chức nào sau đây?\\n|Tổ chức Thương mại thế giới.|Liên minh châu Âu.|Hiệp ước tự do thương mại Bắc Mĩ.|Diễn đàn hợp tác kinh tế châu Á – Thái Bình Dương.Đáp án\"</td>\n",
              "      <td>\"WTO là tên viết tắt của tổ chức|Thương mại thế giới.|Quỹ tiền tệ quốc tế.|Khu vực mậu dịch tự do châu Á.|Diễn đàn hợp tác các kinh tế châu Á -Thái Bình Dương.\"</td>\n",
              "      <td>0.602151</td>\n",
              "      <td>1.0</td>\n",
              "      <td>WTO là tên sau của tổ chức sau?\\n|.Tổ chức Thương mại Thế giới.|.Liên minh châu Âu.|.Hiệp ước miễn phí thương mại Bắc Mỹ.|.Diễn đàn hợp tác kinh tế châu Á-Thái Bình Dương.</td>\n",
              "      <td>WTO là một tên viết tắt của tổ chức | Thương mại thế giới. | Quỹ tiền tệ quốc tế. | Khu vực thương mại tự do châu Á. | Diễn đàn hợp tác kinh tế châu Á-Thái Bình Dương.</td>\n",
              "      <td>0.917165</td>\n",
              "    </tr>\n",
              "    <tr>\n",
              "      <th>1</th>\n",
              "      <td>\"Nhằm thúc đẩy sự phát triển kinh tế - xã hội các nước đang phát triển đã tiến hành\\n|Nhận chuyển giao các công nghệ lỗi thời, gây ô nhiễm.|Đón đầu được công nghệ hiện đại và áp dụng vào sản xuất.|Mở rộng thị trường buôn bán với nhiều nước trên thế giới.|Phá bỏ hàng rào thuế quan, đẩy mạnh xuất khẩu hàng hóa.Đáp án\"</td>\n",
              "      <td>\"Trong bối cảnh toàn cầu hóa, các nước đang phát triển đã nhanh chóng nắm bắt được cơ hội nào dưới đây nhằm thúc đẩy sự phát triển kinh tế - xã hội?\\n|Nhận chuyển giao các công nghệ lỗi thời, gây ô nhiễm.|Đón đầu được công nghệ hiện đại và áp dụng vào sản xuất.|Mở rộng thị trường buôn bán với nhiều nước trên thế giới.|Phá bỏ hàng rào thuế quan, đẩy mạnh xuất khẩu hàng hóa.Đáp án\"</td>\n",
              "      <td>0.745407</td>\n",
              "      <td>1.0</td>\n",
              "      <td>Để thúc đẩy phát triển kinh tế xã hội của các nước đang phát triển tiến hành\\n|.Nhận chuyển giao công nghệ lỗi thời, gây ô nhiễm.|.Chào đón công nghệ hiện đại và áp dụng cho sản xuất.|.Mở rộng giao dịch thị trường với nhiều quốc gia trên thế giới.|.Tiêu diệt hàng rào thuế quan, thúc đẩy xuất khẩu hàng hóa.</td>\n",
              "      <td>Trong bối cảnh toàn cầu hóa, các nước đang phát triển đã nhanh chóng hiểu được một trong những cơ hội sau đây để thúc đẩy phát triển kinh tế xã hội?\\n|.Nhận được một chuyển giao công nghệ lỗi thời, gây ô nhiễm.|.Chào mừng công nghệ sản xuất hiện đại và ứng dụng.|.Mở rộng thị trường thương mại với nhiều quốc gia trên thế giới.|.Tiêu diệt hàng rào thuế quan, thúc đẩy xuất khẩu hàng hóa.</td>\n",
              "      <td>0.958279</td>\n",
              "    </tr>\n",
              "    <tr>\n",
              "      <th>2</th>\n",
              "      <td>\"Đặc điểm nào không đúng với đặc điểm dân cư Hoa Kì?\\n|Dân nhập cư chủ yếu có nguồn gốc Châu Phi.|Dân số Hoa Kì đông.|Dân số Hoa Kì tăng nhanh.|Dân số tăng chủ yếu do nhập cư.Đáp án\"</td>\n",
              "      <td>\"Đặc điểm nào sau đây không đúng với đặc điểm dân cư Hoa Kì?\\n|Dân số Hoa Kì tăng nhanh.|Dân nhập cư chủ yếu có nguồn gốc Châu Phi.|Dân số Hoa Kì đông.|Dân số tăng chủ yếu do nhập cư.Đáp án\"</td>\n",
              "      <td>0.682540</td>\n",
              "      <td>1.0</td>\n",
              "      <td>Những đặc điểm nào không đúng với đặc điểm dân số Hoa Kỳ?\\n|.Người di cư chủ yếu ở Châu Phi.|.Hoa Kỳ Dân số Đông.|.Dân số Hoa Kỳ tăng nhanh.|.Dân số tăng chủ yếu do nhập cư.</td>\n",
              "      <td>Những đặc điểm nào sau đây không đúng với các đặc điểm của dân số Mỹ?\\n|.Dân số Mỹ đang tăng nhanh.|.Người di cư chủ yếu ở Châu Phi.|.Dân số Đông Mỹ.|.Dân số đã tăng chủ yếu do nhập cư.</td>\n",
              "      <td>0.946972</td>\n",
              "    </tr>\n",
              "    <tr>\n",
              "      <th>3</th>\n",
              "      <td>\"Yếu tố tự nhiên nào vừa là khó khăn, nhưng đồng thời cũng là thuận lợi cho sự phát triển kinh tế của Hoa Kì?\\n|Lãnh thổ rộng lớn.|Có nhiều động đất và núi lửa.|Có tài nguyên thiên nhiên đa dạng.|Có nhiều người nhập cư.Đáp án\"</td>\n",
              "      <td>\"Yếu tố tự nhiên nào vừa là khó khăn nhưng đồng thời cũng là thuận lợi cho sự phát triển kinh tế của Hoa Kì?\\n|Có tài nguyên thiên nhiên đa dạng.|Lãnh thổ rộng lớn.|Có nhiều động đất và núi lửa.|Có nhiều người nhập cư.Đáp án\"</td>\n",
              "      <td>0.715556</td>\n",
              "      <td>1.0</td>\n",
              "      <td>Yếu tố tự nhiên nào cả khó khăn, nhưng cũng thuận tiện cho sự phát triển kinh tế của Hoa Kỳ?\\n|.Lãnh thổ rộng lớn.|.Có nhiều trận động đất và núi lửa.|.Có tài nguyên thiên nhiên đa dạng.|.Có nhiều người nhập cư.</td>\n",
              "      <td>Những yếu tố tự nhiên là khó khăn, nhưng cũng thiết thực cho sự phát triển kinh tế của Hoa Kỳ?\\n|.Có nhiều tài nguyên thiên nhiên.|.Lãnh thổ rộng lớn.|.Có nhiều trận động đất và núi lửa.|.Có nhiều người nhập cư.</td>\n",
              "      <td>0.973532</td>\n",
              "    </tr>\n",
              "    <tr>\n",
              "      <th>4</th>\n",
              "      <td>\"Một trong những thuận lợi của EU khi hình thành thị trường chung châu Âu là\\n|Tăng thuế các nước thành viên khi lưu thông hàng hóa, dịch vụ.|Tăng cường tự do lưu thông về người, hàng hóa, dịch vụ và tiền vốn.|Tăng cường vai trò của từng quốc gia khi buôn bán với các nước ngoài khối.|Tăng thuế giá trị gia tăng khi lưu thông hàng hóa, tiền tệ và dịch vụ.Đáp án\"</td>\n",
              "      <td>\"Một trong những thuận lợi của EU khi hình thành thị trường chung châu Âu là\\n|Tăng thuế giá trị gia tăng khi lưu thông hàng hóa, tiền tệ và dịch vụ.|Tăng cường tự do lưu thông về người, hàng hóa, dịch vụ và tiền vốn.|Tăng thuế các nước thành viên khi lưu thông hàng hóa, dịch vụ.|Tăng cường vai trò của từng quốc gia khi buôn bán với các nước ngoài khối.Đáp án\"</td>\n",
              "      <td>0.642659</td>\n",
              "      <td>1.0</td>\n",
              "      <td>Một trong những lợi thế của EU khi hình thành thị trường chung châu Âu là\\n|.Tăng thuế của các nước thành viên khi lưu hành hàng hóa và dịch vụ.|.Tăng cường tự do hóa người dân, hàng hóa, dịch vụ và vốn.|.Tăng cường vai trò của mỗi quốc gia khi giao dịch với các quốc gia bổ sung cho khối.|.Tăng thuế giá trị gia tăng khi lưu thông hàng hóa, tiền tệ và dịch vụ.</td>\n",
              "      <td>Một trong những lợi ích của EU trong quá trình hình thành thị trường chung châu Âu là\\n|.Tăng thuế giá trị gia tăng trong quá trình lưu thông hàng hóa, tiền tệ và dịch vụ.|.Tăng cường tự do hóa các cá nhân, hàng hóa, dịch vụ và tiền bạc.|.Tăng thuế của các quốc gia thành viên trong quá trình chuyển động của hàng hóa, dịch vụ.|.Tăng cường vai trò của mỗi quốc gia trong các cuộc đàm phán với nước ngoài.</td>\n",
              "      <td>0.929395</td>\n",
              "    </tr>\n",
              "    <tr>\n",
              "      <th>...</th>\n",
              "      <td>...</td>\n",
              "      <td>...</td>\n",
              "      <td>...</td>\n",
              "      <td>...</td>\n",
              "      <td>...</td>\n",
              "      <td>...</td>\n",
              "      <td>...</td>\n",
              "    </tr>\n",
              "    <tr>\n",
              "      <th>549</th>\n",
              "      <td>\"Nhận xét nào sau đây đúng với họat động ngoại thương của LB Nga?\\n|Giá trị xuất khẩu luôn cân bằng với giá trị nhập khẩu.|Hàng xuất khẩu chính là thủy sản, hàng công nghiệp nhẹ.|Hàng nhập khẩu chính là dầu mỏ, khí đốt.|Tổng kim ngạch ngoại thương liên tục tăng.Đáp án\"</td>\n",
              "      <td>\"Ý nào sau đây đúng với họat động ngoại thương của LB Nga?|Giá trị xuất khẩu luôn cân bằng với giá trị nhập khẩu.|Hàng xuất khẩu chính là thủy sản, hàng công nghiệp nhẹ.|Hàng nhập khẩu chính là dầu mỏ, khí đốt.|Tổng kim ngạch ngoại thương liên tục tăng.\"</td>\n",
              "      <td>0.944030</td>\n",
              "      <td>1.0</td>\n",
              "      <td>Những ý kiến nào sau đây là đúng với hoạt động thương mại nước ngoài của LB Nga?\\n|.Giá trị xuất khẩu luôn luôn cân bằng với giá trị nhập khẩu.|.Hàng hóa xuất khẩu chính là hải sản, hàng hóa công nghiệp nhẹ.|.Hàng hóa nhập khẩu là dầu khí.|.Tổng kim ngạch ngoại thương tiếp tục tăng. Trả lời</td>\n",
              "      <td>Phát biểu nào sau đây là đúng đối với thương mại nước ngoài của Nga LB? | Giá trị xuất khẩu luôn được cân bằng với giá trị nhập khẩu. | Các sản phẩm xuất khẩu chính là hải sản, hàng hóa công nghiệp nhẹ. Hàng hóa nhập khẩu là mỏ dầu khí. | Tổng doanh thu từ ngoại thương. Tăng.</td>\n",
              "      <td>0.921619</td>\n",
              "    </tr>\n",
              "    <tr>\n",
              "      <th>550</th>\n",
              "      <td>\"Hạn chế chủ yếu nhất về điều kiện tự nhiên và tài nguyên thiên nhiên của Nhật Bản là\\n|bờ biển dài, nhiều vũng vịnh.|khí hậu phân hóa rõ rệt từ bắc xuống nam.|nghèo khoáng sản.|nhiều đảo lớn, nhỏ nhưng nằm cách xa nhau.Đáp án\"</td>\n",
              "      <td>\"Khó khắn lớn nhất về điều kiện tự nhiên và tài nguyên thiên nhiên của Nhật Bản là|Bờ biển dài, nhiều vũng vịnh.|Khí hậu phân hóa rõ rệt từ bắc xuống nam.|Nghèo khoáng sản.|Nhiều đảo lớn, nhỏ nhưng nằm cách xa nhau.\"</td>\n",
              "      <td>0.898230</td>\n",
              "      <td>1.0</td>\n",
              "      <td>Giới hạn quan trọng nhất về điều kiện tự nhiên của Nhật Bản và tài nguyên thiên nhiên là\\n|.Bờ biển dài, nhiều vũng nước.|.Khí hậu giao rõ từ Bắc đến Nam.|.Khoáng chất kém.|.Nhiều hòn đảo lớn và nhỏ nhưng xa nhau.</td>\n",
              "      <td>Trò đùa lớn nhất về điều kiện tự nhiên của Nhật Bản và tài nguyên thiên nhiên là một bờ biển dài, nhiều vũng nước vũ trụ. | Khí hậu được giao rõ ràng từ Bắc vào Nam. | Khoáng chất kém. | Nhiều hòn đảo lớn, nhỏ nhưng xa, nhưng ở xa.</td>\n",
              "      <td>0.966490</td>\n",
              "    </tr>\n",
              "    <tr>\n",
              "      <th>551</th>\n",
              "      <td>\"Mùa đông kéo dài, lạnh và có nhiều tuyết là đặc điểm khí hậu của vùng khí hậu nào dưới đây của Nhật Bản?\\n|Phía bắc Nhật Bản.|Phía nam Nhật Bản.|Khu vực trung tâm Nhật Bản.|Ven biển Nhật Bản.Đáp án\"</td>\n",
              "      <td>\"Mùa đông kéo dài, lạnh và có nhiều tuyết là đặc điểm khí hậu của|Phía bắc Nhật Bản.|Phía nam Nhật Bản.|Khu vực trung tâm Nhật Bản.|Ven biển Nhật Bản.\"</td>\n",
              "      <td>0.762626</td>\n",
              "      <td>1.0</td>\n",
              "      <td>Mùa đông kéo dài, lạnh và có rất nhiều tuyết là đặc điểm khí hậu của vùng khí hậu Nhật Bản sau đây?\\n|.Bắc Nhật Bản.|.Nam Nhật Bản.|.Khu vực trung tâm Nhật Bản.|.Tiếng Nhật ven biển.</td>\n",
              "      <td>Các phần mùa đông, cái lạnh và có rất nhiều tuyết là đặc điểm khí hậu của | Bắc Nhật Bản. | Nam Nhật Bản. Khu vực trung tâm Nhật Bản. | Vùng ven biển Nhật Bản.</td>\n",
              "      <td>0.927692</td>\n",
              "    </tr>\n",
              "    <tr>\n",
              "      <th>552</th>\n",
              "      <td>\"Sự khác biệt giữa tháp thu hẹp với tháp mở rộng là|Đáy rộng, đỉnh nhịn, ở giữa thu hẹp.|Đáy hẹo, đỉnh phình to.|ở giữa tháp phình to, thu hẹp về hai phía đáy và đỉnh tháp .|hẹp đáy và mở rộng hơn ở phần đỉnh.\"</td>\n",
              "      <td>\"Sự khác biệt giữa tháp mở rộng với tháp thu hẹp là|Đáy rộng, đỉnh nhọn, hai cạnh thoải.|Đáy hẹp, đỉnh phinh to.|Đáy rộng, thu hẹp ở giữa, phía trên lại mở ra.|Hẹp đáy và mở rộng hơn ở phần đỉnh.\"</td>\n",
              "      <td>0.676190</td>\n",
              "      <td>1.0</td>\n",
              "      <td>Sự khác biệt giữa tòa tháp hẹp với tháp mở rộng là | đáy rộng, đỉnh của quá khứ, ở giữa hẹp. | Đáy của cảnh, sưng trên cùng. | Ở giữa tháp lồi,nheo lại về phía dưới và đỉnh của đáy và đỉnh của đáy. | Đáy hẹp và mở nhiều hơn ở phần trên cùng.</td>\n",
              "      <td>Sự khác biệt giữa tháp mở rộng với tháp hẹp là | băng thông rộng, đỉnh sắc nhọn, hai cạnh thoải mái. Đáy mạnh, đỉnh là tuyệt vời. | Toàn bộ lớn, hẹp ở giữa, mở trên và nhiều hơn nữa trong phần trên.</td>\n",
              "      <td>0.898050</td>\n",
              "    </tr>\n",
              "    <tr>\n",
              "      <th>553</th>\n",
              "      <td>\"Điểm khác nhau giữa vùng Tây Nguyên với vung Trung du và miền núi Bắc Bộ là |Có diện tích trồng cà phê ít hơn|Có diện tích trồng chè lớn hơn|Có diện tích trồng cây công nghiệp lâu năm, trong đó diện tích trồng cà phê và cao su lớn hơn|Có diện tích trổng cây cong nghiệp lâu năm ít hơn\"</td>\n",
              "      <td>\"Điểm khác nhau giữa vùng Trung du và miền núi Bắc Bộ với Tây Nguyên là |Có diện tích trồng cà phê lớn hơn|Có diện tích trồng chè lớn hơn|Có diện tích trồng cao su lớn hơn|Có diện tích trồng cây công nghiệp lâu năm lớn hơn\"</td>\n",
              "      <td>0.671329</td>\n",
              "      <td>1.0</td>\n",
              "      <td>Các điểm khác nhau giữa các vùng cao nguyên miền Trung với Middleland phía bắc và vùng núi phía bắc nằm ít hơn diện tích trồng cà phê, diện tích trồng trà lớn hơn | với diện tích cây trồng công nghiệp lâu năm, trong đó diện rộng cà phê và cao su lớn hơn | bao gồm lâu hơnCây cây lâu dài kéo dài</td>\n",
              "      <td>Các điểm khác nhau giữa vùng trung du và miền núi phía bắc với Tây Nguyên là khu vực cà phê phát triển lớn nhất | Khu vực trà văn hóa trà lớn hơn | Có diện tích trồng cao su lớn hơn. Karma dài hơn và dài hơn</td>\n",
              "      <td>0.885436</td>\n",
              "    </tr>\n",
              "  </tbody>\n",
              "</table>\n",
              "<p>554 rows × 7 columns</p>\n",
              "</div>\n",
              "      <button class=\"colab-df-convert\" onclick=\"convertToInteractive('df-b6eb6b5e-40f0-4148-a7a0-2435f3f859ce')\"\n",
              "              title=\"Convert this dataframe to an interactive table.\"\n",
              "              style=\"display:none;\">\n",
              "        \n",
              "  <svg xmlns=\"http://www.w3.org/2000/svg\" height=\"24px\"viewBox=\"0 0 24 24\"\n",
              "       width=\"24px\">\n",
              "    <path d=\"M0 0h24v24H0V0z\" fill=\"none\"/>\n",
              "    <path d=\"M18.56 5.44l.94 2.06.94-2.06 2.06-.94-2.06-.94-.94-2.06-.94 2.06-2.06.94zm-11 1L8.5 8.5l.94-2.06 2.06-.94-2.06-.94L8.5 2.5l-.94 2.06-2.06.94zm10 10l.94 2.06.94-2.06 2.06-.94-2.06-.94-.94-2.06-.94 2.06-2.06.94z\"/><path d=\"M17.41 7.96l-1.37-1.37c-.4-.4-.92-.59-1.43-.59-.52 0-1.04.2-1.43.59L10.3 9.45l-7.72 7.72c-.78.78-.78 2.05 0 2.83L4 21.41c.39.39.9.59 1.41.59.51 0 1.02-.2 1.41-.59l7.78-7.78 2.81-2.81c.8-.78.8-2.07 0-2.86zM5.41 20L4 18.59l7.72-7.72 1.47 1.35L5.41 20z\"/>\n",
              "  </svg>\n",
              "      </button>\n",
              "      \n",
              "  <style>\n",
              "    .colab-df-container {\n",
              "      display:flex;\n",
              "      flex-wrap:wrap;\n",
              "      gap: 12px;\n",
              "    }\n",
              "\n",
              "    .colab-df-convert {\n",
              "      background-color: #E8F0FE;\n",
              "      border: none;\n",
              "      border-radius: 50%;\n",
              "      cursor: pointer;\n",
              "      display: none;\n",
              "      fill: #1967D2;\n",
              "      height: 32px;\n",
              "      padding: 0 0 0 0;\n",
              "      width: 32px;\n",
              "    }\n",
              "\n",
              "    .colab-df-convert:hover {\n",
              "      background-color: #E2EBFA;\n",
              "      box-shadow: 0px 1px 2px rgba(60, 64, 67, 0.3), 0px 1px 3px 1px rgba(60, 64, 67, 0.15);\n",
              "      fill: #174EA6;\n",
              "    }\n",
              "\n",
              "    [theme=dark] .colab-df-convert {\n",
              "      background-color: #3B4455;\n",
              "      fill: #D2E3FC;\n",
              "    }\n",
              "\n",
              "    [theme=dark] .colab-df-convert:hover {\n",
              "      background-color: #434B5C;\n",
              "      box-shadow: 0px 1px 3px 1px rgba(0, 0, 0, 0.15);\n",
              "      filter: drop-shadow(0px 1px 2px rgba(0, 0, 0, 0.3));\n",
              "      fill: #FFFFFF;\n",
              "    }\n",
              "  </style>\n",
              "\n",
              "      <script>\n",
              "        const buttonEl =\n",
              "          document.querySelector('#df-b6eb6b5e-40f0-4148-a7a0-2435f3f859ce button.colab-df-convert');\n",
              "        buttonEl.style.display =\n",
              "          google.colab.kernel.accessAllowed ? 'block' : 'none';\n",
              "\n",
              "        async function convertToInteractive(key) {\n",
              "          const element = document.querySelector('#df-b6eb6b5e-40f0-4148-a7a0-2435f3f859ce');\n",
              "          const dataTable =\n",
              "            await google.colab.kernel.invokeFunction('convertToInteractive',\n",
              "                                                     [key], {});\n",
              "          if (!dataTable) return;\n",
              "\n",
              "          const docLinkHtml = 'Like what you see? Visit the ' +\n",
              "            '<a target=\"_blank\" href=https://colab.research.google.com/notebooks/data_table.ipynb>data table notebook</a>'\n",
              "            + ' to learn more about interactive tables.';\n",
              "          element.innerHTML = '';\n",
              "          dataTable['output_type'] = 'display_data';\n",
              "          await google.colab.output.renderOutput(dataTable, element);\n",
              "          const docLink = document.createElement('div');\n",
              "          docLink.innerHTML = docLinkHtml;\n",
              "          element.appendChild(docLink);\n",
              "        }\n",
              "      </script>\n",
              "    </div>\n",
              "  </div>\n",
              "  "
            ],
            "text/plain": [
              "                                                                                                                                                                                                                                                                                                                                                                     question_1  ... cosine_usingSBert\n",
              "0                                                                                                                                                                                   \"WTO là tên viết tắt của tổ chức nào sau đây?\\n|Tổ chức Thương mại thế giới.|Liên minh châu Âu.|Hiệp ước tự do thương mại Bắc Mĩ.|Diễn đàn hợp tác kinh tế châu Á – Thái Bình Dương.Đáp án\"  ...          0.917165\n",
              "1                                                 \"Nhằm thúc đẩy sự phát triển kinh tế - xã hội các nước đang phát triển đã tiến hành\\n|Nhận chuyển giao các công nghệ lỗi thời, gây ô nhiễm.|Đón đầu được công nghệ hiện đại và áp dụng vào sản xuất.|Mở rộng thị trường buôn bán với nhiều nước trên thế giới.|Phá bỏ hàng rào thuế quan, đẩy mạnh xuất khẩu hàng hóa.Đáp án\"  ...          0.958279\n",
              "2                                                                                                                                                                                        \"Đặc điểm nào không đúng với đặc điểm dân cư Hoa Kì?\\n|Dân nhập cư chủ yếu có nguồn gốc Châu Phi.|Dân số Hoa Kì đông.|Dân số Hoa Kì tăng nhanh.|Dân số tăng chủ yếu do nhập cư.Đáp án\"  ...          0.946972\n",
              "3                                                                                                                                            \"Yếu tố tự nhiên nào vừa là khó khăn, nhưng đồng thời cũng là thuận lợi cho sự phát triển kinh tế của Hoa Kì?\\n|Lãnh thổ rộng lớn.|Có nhiều động đất và núi lửa.|Có tài nguyên thiên nhiên đa dạng.|Có nhiều người nhập cư.Đáp án\"  ...          0.973532\n",
              "4    \"Một trong những thuận lợi của EU khi hình thành thị trường chung châu Âu là\\n|Tăng thuế các nước thành viên khi lưu thông hàng hóa, dịch vụ.|Tăng cường tự do lưu thông về người, hàng hóa, dịch vụ và tiền vốn.|Tăng cường vai trò của từng quốc gia khi buôn bán với các nước ngoài khối.|Tăng thuế giá trị gia tăng khi lưu thông hàng hóa, tiền tệ và dịch vụ.Đáp án\"  ...          0.929395\n",
              "..                                                                                                                                                                                                                                                                                                                                                                          ...  ...               ...\n",
              "549                                                                                               \"Nhận xét nào sau đây đúng với họat động ngoại thương của LB Nga?\\n|Giá trị xuất khẩu luôn cân bằng với giá trị nhập khẩu.|Hàng xuất khẩu chính là thủy sản, hàng công nghiệp nhẹ.|Hàng nhập khẩu chính là dầu mỏ, khí đốt.|Tổng kim ngạch ngoại thương liên tục tăng.Đáp án\"  ...          0.921619\n",
              "550                                                                                                                                         \"Hạn chế chủ yếu nhất về điều kiện tự nhiên và tài nguyên thiên nhiên của Nhật Bản là\\n|bờ biển dài, nhiều vũng vịnh.|khí hậu phân hóa rõ rệt từ bắc xuống nam.|nghèo khoáng sản.|nhiều đảo lớn, nhỏ nhưng nằm cách xa nhau.Đáp án\"  ...          0.966490\n",
              "551                                                                                                                                                                     \"Mùa đông kéo dài, lạnh và có nhiều tuyết là đặc điểm khí hậu của vùng khí hậu nào dưới đây của Nhật Bản?\\n|Phía bắc Nhật Bản.|Phía nam Nhật Bản.|Khu vực trung tâm Nhật Bản.|Ven biển Nhật Bản.Đáp án\"  ...          0.927692\n",
              "552                                                                                                                                                          \"Sự khác biệt giữa tháp thu hẹp với tháp mở rộng là|Đáy rộng, đỉnh nhịn, ở giữa thu hẹp.|Đáy hẹo, đỉnh phình to.|ở giữa tháp phình to, thu hẹp về hai phía đáy và đỉnh tháp .|hẹp đáy và mở rộng hơn ở phần đỉnh.\"  ...          0.898050\n",
              "553                                                                              \"Điểm khác nhau giữa vùng Tây Nguyên với vung Trung du và miền núi Bắc Bộ là |Có diện tích trồng cà phê ít hơn|Có diện tích trồng chè lớn hơn|Có diện tích trồng cây công nghiệp lâu năm, trong đó diện tích trồng cà phê và cao su lớn hơn|Có diện tích trổng cây cong nghiệp lâu năm ít hơn\"  ...          0.885436\n",
              "\n",
              "[554 rows x 7 columns]"
            ]
          },
          "metadata": {},
          "execution_count": 4
        }
      ]
    },
    {
      "cell_type": "code",
      "source": [
        "augmented_data_only = df\n",
        "augmented_data_only.drop('question_1', axis='columns', inplace=True)\n",
        "augmented_data_only.drop('question_2', axis='columns', inplace=True)\n",
        "augmented_data_only.drop('similarity', axis='columns', inplace=True)\n",
        "augmented_data_only=augmented_data_only.rename(columns={'q1_en_to_vi': 'sentence1', 'q2_fr_to_vi': 'sentence2', 'sem_sim': 'label', 'cosine_usingSBert': 'similarity'})\n",
        "augmented_data_only.label = augmented_data_only.apply(lambda x: int(x.label), axis=1)\n",
        "augmented_data_only"
      ],
      "metadata": {
        "colab": {
          "base_uri": "https://localhost:8080/",
          "height": 832
        },
        "id": "huw00S3RHc8r",
        "outputId": "591c109f-4cd3-41a9-a705-1954ed7acaf4"
      },
      "execution_count": 5,
      "outputs": [
        {
          "output_type": "execute_result",
          "data": {
            "text/html": [
              "\n",
              "  <div id=\"df-cf728464-3169-440e-97c1-818d96ba2e61\">\n",
              "    <div class=\"colab-df-container\">\n",
              "      <div>\n",
              "<style scoped>\n",
              "    .dataframe tbody tr th:only-of-type {\n",
              "        vertical-align: middle;\n",
              "    }\n",
              "\n",
              "    .dataframe tbody tr th {\n",
              "        vertical-align: top;\n",
              "    }\n",
              "\n",
              "    .dataframe thead th {\n",
              "        text-align: right;\n",
              "    }\n",
              "</style>\n",
              "<table border=\"1\" class=\"dataframe\">\n",
              "  <thead>\n",
              "    <tr style=\"text-align: right;\">\n",
              "      <th></th>\n",
              "      <th>label</th>\n",
              "      <th>sentence1</th>\n",
              "      <th>sentence2</th>\n",
              "      <th>similarity</th>\n",
              "    </tr>\n",
              "  </thead>\n",
              "  <tbody>\n",
              "    <tr>\n",
              "      <th>0</th>\n",
              "      <td>1</td>\n",
              "      <td>WTO là tên sau của tổ chức sau?\\n|.Tổ chức Thương mại Thế giới.|.Liên minh châu Âu.|.Hiệp ước miễn phí thương mại Bắc Mỹ.|.Diễn đàn hợp tác kinh tế châu Á-Thái Bình Dương.</td>\n",
              "      <td>WTO là một tên viết tắt của tổ chức | Thương mại thế giới. | Quỹ tiền tệ quốc tế. | Khu vực thương mại tự do châu Á. | Diễn đàn hợp tác kinh tế châu Á-Thái Bình Dương.</td>\n",
              "      <td>0.917165</td>\n",
              "    </tr>\n",
              "    <tr>\n",
              "      <th>1</th>\n",
              "      <td>1</td>\n",
              "      <td>Để thúc đẩy phát triển kinh tế xã hội của các nước đang phát triển tiến hành\\n|.Nhận chuyển giao công nghệ lỗi thời, gây ô nhiễm.|.Chào đón công nghệ hiện đại và áp dụng cho sản xuất.|.Mở rộng giao dịch thị trường với nhiều quốc gia trên thế giới.|.Tiêu diệt hàng rào thuế quan, thúc đẩy xuất khẩu hàng hóa.</td>\n",
              "      <td>Trong bối cảnh toàn cầu hóa, các nước đang phát triển đã nhanh chóng hiểu được một trong những cơ hội sau đây để thúc đẩy phát triển kinh tế xã hội?\\n|.Nhận được một chuyển giao công nghệ lỗi thời, gây ô nhiễm.|.Chào mừng công nghệ sản xuất hiện đại và ứng dụng.|.Mở rộng thị trường thương mại với nhiều quốc gia trên thế giới.|.Tiêu diệt hàng rào thuế quan, thúc đẩy xuất khẩu hàng hóa.</td>\n",
              "      <td>0.958279</td>\n",
              "    </tr>\n",
              "    <tr>\n",
              "      <th>2</th>\n",
              "      <td>1</td>\n",
              "      <td>Những đặc điểm nào không đúng với đặc điểm dân số Hoa Kỳ?\\n|.Người di cư chủ yếu ở Châu Phi.|.Hoa Kỳ Dân số Đông.|.Dân số Hoa Kỳ tăng nhanh.|.Dân số tăng chủ yếu do nhập cư.</td>\n",
              "      <td>Những đặc điểm nào sau đây không đúng với các đặc điểm của dân số Mỹ?\\n|.Dân số Mỹ đang tăng nhanh.|.Người di cư chủ yếu ở Châu Phi.|.Dân số Đông Mỹ.|.Dân số đã tăng chủ yếu do nhập cư.</td>\n",
              "      <td>0.946972</td>\n",
              "    </tr>\n",
              "    <tr>\n",
              "      <th>3</th>\n",
              "      <td>1</td>\n",
              "      <td>Yếu tố tự nhiên nào cả khó khăn, nhưng cũng thuận tiện cho sự phát triển kinh tế của Hoa Kỳ?\\n|.Lãnh thổ rộng lớn.|.Có nhiều trận động đất và núi lửa.|.Có tài nguyên thiên nhiên đa dạng.|.Có nhiều người nhập cư.</td>\n",
              "      <td>Những yếu tố tự nhiên là khó khăn, nhưng cũng thiết thực cho sự phát triển kinh tế của Hoa Kỳ?\\n|.Có nhiều tài nguyên thiên nhiên.|.Lãnh thổ rộng lớn.|.Có nhiều trận động đất và núi lửa.|.Có nhiều người nhập cư.</td>\n",
              "      <td>0.973532</td>\n",
              "    </tr>\n",
              "    <tr>\n",
              "      <th>4</th>\n",
              "      <td>1</td>\n",
              "      <td>Một trong những lợi thế của EU khi hình thành thị trường chung châu Âu là\\n|.Tăng thuế của các nước thành viên khi lưu hành hàng hóa và dịch vụ.|.Tăng cường tự do hóa người dân, hàng hóa, dịch vụ và vốn.|.Tăng cường vai trò của mỗi quốc gia khi giao dịch với các quốc gia bổ sung cho khối.|.Tăng thuế giá trị gia tăng khi lưu thông hàng hóa, tiền tệ và dịch vụ.</td>\n",
              "      <td>Một trong những lợi ích của EU trong quá trình hình thành thị trường chung châu Âu là\\n|.Tăng thuế giá trị gia tăng trong quá trình lưu thông hàng hóa, tiền tệ và dịch vụ.|.Tăng cường tự do hóa các cá nhân, hàng hóa, dịch vụ và tiền bạc.|.Tăng thuế của các quốc gia thành viên trong quá trình chuyển động của hàng hóa, dịch vụ.|.Tăng cường vai trò của mỗi quốc gia trong các cuộc đàm phán với nước ngoài.</td>\n",
              "      <td>0.929395</td>\n",
              "    </tr>\n",
              "    <tr>\n",
              "      <th>...</th>\n",
              "      <td>...</td>\n",
              "      <td>...</td>\n",
              "      <td>...</td>\n",
              "      <td>...</td>\n",
              "    </tr>\n",
              "    <tr>\n",
              "      <th>549</th>\n",
              "      <td>1</td>\n",
              "      <td>Những ý kiến nào sau đây là đúng với hoạt động thương mại nước ngoài của LB Nga?\\n|.Giá trị xuất khẩu luôn luôn cân bằng với giá trị nhập khẩu.|.Hàng hóa xuất khẩu chính là hải sản, hàng hóa công nghiệp nhẹ.|.Hàng hóa nhập khẩu là dầu khí.|.Tổng kim ngạch ngoại thương tiếp tục tăng. Trả lời</td>\n",
              "      <td>Phát biểu nào sau đây là đúng đối với thương mại nước ngoài của Nga LB? | Giá trị xuất khẩu luôn được cân bằng với giá trị nhập khẩu. | Các sản phẩm xuất khẩu chính là hải sản, hàng hóa công nghiệp nhẹ. Hàng hóa nhập khẩu là mỏ dầu khí. | Tổng doanh thu từ ngoại thương. Tăng.</td>\n",
              "      <td>0.921619</td>\n",
              "    </tr>\n",
              "    <tr>\n",
              "      <th>550</th>\n",
              "      <td>1</td>\n",
              "      <td>Giới hạn quan trọng nhất về điều kiện tự nhiên của Nhật Bản và tài nguyên thiên nhiên là\\n|.Bờ biển dài, nhiều vũng nước.|.Khí hậu giao rõ từ Bắc đến Nam.|.Khoáng chất kém.|.Nhiều hòn đảo lớn và nhỏ nhưng xa nhau.</td>\n",
              "      <td>Trò đùa lớn nhất về điều kiện tự nhiên của Nhật Bản và tài nguyên thiên nhiên là một bờ biển dài, nhiều vũng nước vũ trụ. | Khí hậu được giao rõ ràng từ Bắc vào Nam. | Khoáng chất kém. | Nhiều hòn đảo lớn, nhỏ nhưng xa, nhưng ở xa.</td>\n",
              "      <td>0.966490</td>\n",
              "    </tr>\n",
              "    <tr>\n",
              "      <th>551</th>\n",
              "      <td>1</td>\n",
              "      <td>Mùa đông kéo dài, lạnh và có rất nhiều tuyết là đặc điểm khí hậu của vùng khí hậu Nhật Bản sau đây?\\n|.Bắc Nhật Bản.|.Nam Nhật Bản.|.Khu vực trung tâm Nhật Bản.|.Tiếng Nhật ven biển.</td>\n",
              "      <td>Các phần mùa đông, cái lạnh và có rất nhiều tuyết là đặc điểm khí hậu của | Bắc Nhật Bản. | Nam Nhật Bản. Khu vực trung tâm Nhật Bản. | Vùng ven biển Nhật Bản.</td>\n",
              "      <td>0.927692</td>\n",
              "    </tr>\n",
              "    <tr>\n",
              "      <th>552</th>\n",
              "      <td>1</td>\n",
              "      <td>Sự khác biệt giữa tòa tháp hẹp với tháp mở rộng là | đáy rộng, đỉnh của quá khứ, ở giữa hẹp. | Đáy của cảnh, sưng trên cùng. | Ở giữa tháp lồi,nheo lại về phía dưới và đỉnh của đáy và đỉnh của đáy. | Đáy hẹp và mở nhiều hơn ở phần trên cùng.</td>\n",
              "      <td>Sự khác biệt giữa tháp mở rộng với tháp hẹp là | băng thông rộng, đỉnh sắc nhọn, hai cạnh thoải mái. Đáy mạnh, đỉnh là tuyệt vời. | Toàn bộ lớn, hẹp ở giữa, mở trên và nhiều hơn nữa trong phần trên.</td>\n",
              "      <td>0.898050</td>\n",
              "    </tr>\n",
              "    <tr>\n",
              "      <th>553</th>\n",
              "      <td>1</td>\n",
              "      <td>Các điểm khác nhau giữa các vùng cao nguyên miền Trung với Middleland phía bắc và vùng núi phía bắc nằm ít hơn diện tích trồng cà phê, diện tích trồng trà lớn hơn | với diện tích cây trồng công nghiệp lâu năm, trong đó diện rộng cà phê và cao su lớn hơn | bao gồm lâu hơnCây cây lâu dài kéo dài</td>\n",
              "      <td>Các điểm khác nhau giữa vùng trung du và miền núi phía bắc với Tây Nguyên là khu vực cà phê phát triển lớn nhất | Khu vực trà văn hóa trà lớn hơn | Có diện tích trồng cao su lớn hơn. Karma dài hơn và dài hơn</td>\n",
              "      <td>0.885436</td>\n",
              "    </tr>\n",
              "  </tbody>\n",
              "</table>\n",
              "<p>554 rows × 4 columns</p>\n",
              "</div>\n",
              "      <button class=\"colab-df-convert\" onclick=\"convertToInteractive('df-cf728464-3169-440e-97c1-818d96ba2e61')\"\n",
              "              title=\"Convert this dataframe to an interactive table.\"\n",
              "              style=\"display:none;\">\n",
              "        \n",
              "  <svg xmlns=\"http://www.w3.org/2000/svg\" height=\"24px\"viewBox=\"0 0 24 24\"\n",
              "       width=\"24px\">\n",
              "    <path d=\"M0 0h24v24H0V0z\" fill=\"none\"/>\n",
              "    <path d=\"M18.56 5.44l.94 2.06.94-2.06 2.06-.94-2.06-.94-.94-2.06-.94 2.06-2.06.94zm-11 1L8.5 8.5l.94-2.06 2.06-.94-2.06-.94L8.5 2.5l-.94 2.06-2.06.94zm10 10l.94 2.06.94-2.06 2.06-.94-2.06-.94-.94-2.06-.94 2.06-2.06.94z\"/><path d=\"M17.41 7.96l-1.37-1.37c-.4-.4-.92-.59-1.43-.59-.52 0-1.04.2-1.43.59L10.3 9.45l-7.72 7.72c-.78.78-.78 2.05 0 2.83L4 21.41c.39.39.9.59 1.41.59.51 0 1.02-.2 1.41-.59l7.78-7.78 2.81-2.81c.8-.78.8-2.07 0-2.86zM5.41 20L4 18.59l7.72-7.72 1.47 1.35L5.41 20z\"/>\n",
              "  </svg>\n",
              "      </button>\n",
              "      \n",
              "  <style>\n",
              "    .colab-df-container {\n",
              "      display:flex;\n",
              "      flex-wrap:wrap;\n",
              "      gap: 12px;\n",
              "    }\n",
              "\n",
              "    .colab-df-convert {\n",
              "      background-color: #E8F0FE;\n",
              "      border: none;\n",
              "      border-radius: 50%;\n",
              "      cursor: pointer;\n",
              "      display: none;\n",
              "      fill: #1967D2;\n",
              "      height: 32px;\n",
              "      padding: 0 0 0 0;\n",
              "      width: 32px;\n",
              "    }\n",
              "\n",
              "    .colab-df-convert:hover {\n",
              "      background-color: #E2EBFA;\n",
              "      box-shadow: 0px 1px 2px rgba(60, 64, 67, 0.3), 0px 1px 3px 1px rgba(60, 64, 67, 0.15);\n",
              "      fill: #174EA6;\n",
              "    }\n",
              "\n",
              "    [theme=dark] .colab-df-convert {\n",
              "      background-color: #3B4455;\n",
              "      fill: #D2E3FC;\n",
              "    }\n",
              "\n",
              "    [theme=dark] .colab-df-convert:hover {\n",
              "      background-color: #434B5C;\n",
              "      box-shadow: 0px 1px 3px 1px rgba(0, 0, 0, 0.15);\n",
              "      filter: drop-shadow(0px 1px 2px rgba(0, 0, 0, 0.3));\n",
              "      fill: #FFFFFF;\n",
              "    }\n",
              "  </style>\n",
              "\n",
              "      <script>\n",
              "        const buttonEl =\n",
              "          document.querySelector('#df-cf728464-3169-440e-97c1-818d96ba2e61 button.colab-df-convert');\n",
              "        buttonEl.style.display =\n",
              "          google.colab.kernel.accessAllowed ? 'block' : 'none';\n",
              "\n",
              "        async function convertToInteractive(key) {\n",
              "          const element = document.querySelector('#df-cf728464-3169-440e-97c1-818d96ba2e61');\n",
              "          const dataTable =\n",
              "            await google.colab.kernel.invokeFunction('convertToInteractive',\n",
              "                                                     [key], {});\n",
              "          if (!dataTable) return;\n",
              "\n",
              "          const docLinkHtml = 'Like what you see? Visit the ' +\n",
              "            '<a target=\"_blank\" href=https://colab.research.google.com/notebooks/data_table.ipynb>data table notebook</a>'\n",
              "            + ' to learn more about interactive tables.';\n",
              "          element.innerHTML = '';\n",
              "          dataTable['output_type'] = 'display_data';\n",
              "          await google.colab.output.renderOutput(dataTable, element);\n",
              "          const docLink = document.createElement('div');\n",
              "          docLink.innerHTML = docLinkHtml;\n",
              "          element.appendChild(docLink);\n",
              "        }\n",
              "      </script>\n",
              "    </div>\n",
              "  </div>\n",
              "  "
            ],
            "text/plain": [
              "     label  ... similarity\n",
              "0        1  ...   0.917165\n",
              "1        1  ...   0.958279\n",
              "2        1  ...   0.946972\n",
              "3        1  ...   0.973532\n",
              "4        1  ...   0.929395\n",
              "..     ...  ...        ...\n",
              "549      1  ...   0.921619\n",
              "550      1  ...   0.966490\n",
              "551      1  ...   0.927692\n",
              "552      1  ...   0.898050\n",
              "553      1  ...   0.885436\n",
              "\n",
              "[554 rows x 4 columns]"
            ]
          },
          "metadata": {},
          "execution_count": 5
        }
      ]
    },
    {
      "cell_type": "markdown",
      "source": [
        "**Loading labeled dataset**"
      ],
      "metadata": {
        "id": "gGLR7P5kJ1YA"
      }
    },
    {
      "cell_type": "code",
      "source": [
        "df300 = pd.read_csv('Similarity-to-confirm_300.csv', encoding='utf-8')\n",
        "df800 = pd.read_csv('Similarity-to-confirm-800.csv', encoding='utf-8')\n",
        "df300.drop('Unnamed: 4',\n",
        "  axis='columns', inplace=True)\n",
        "df800.drop('manual test', axis='columns', inplace=True)\n",
        "df800.drop('Note', axis='columns', inplace=True)\n",
        "df800 = df800.rename(columns={'Yes/No': 'sem_sim'})\n",
        "def yes_to_1(yes_no_na):\n",
        "  if (yes_no_na == 'Y'):\n",
        "    return 1\n",
        "  elif (yes_no_na == 'N'):\n",
        "    return 0\n",
        "  else:\n",
        "    return ''\n",
        "df800.sem_sim = df800['sem_sim'].map(yes_to_1)\n",
        "\n",
        "df_ = df300.append(df800, sort=False, ignore_index=True)\n",
        "df_ = df_.drop_duplicates()\n",
        "df_ = df_[df_.sem_sim.notna()]\n",
        "df_\n",
        "\n",
        "df_=df_.rename(columns={'question_1': 'sentence1', 'question_2': 'sentence2', 'sem_sim': 'label'})\n",
        "\n",
        "df_labeled = df_[df_.label==1].append(df_[df_.label==0], sort=False, ignore_index=True)\n",
        "# df_labeled['idx'] = df_labeled.index\n",
        "df_labeled.label = df_labeled.apply(lambda x: int(x.label), axis=1)\n",
        "df_labeled"
      ],
      "metadata": {
        "colab": {
          "base_uri": "https://localhost:8080/",
          "height": 798
        },
        "id": "TEn1Jf7gISP8",
        "outputId": "4a20862f-df2d-4133-c543-3ed9f84a4521"
      },
      "execution_count": 6,
      "outputs": [
        {
          "output_type": "execute_result",
          "data": {
            "text/html": [
              "\n",
              "  <div id=\"df-8e23de36-42cc-44ed-8c79-52044ad9b5c3\">\n",
              "    <div class=\"colab-df-container\">\n",
              "      <div>\n",
              "<style scoped>\n",
              "    .dataframe tbody tr th:only-of-type {\n",
              "        vertical-align: middle;\n",
              "    }\n",
              "\n",
              "    .dataframe tbody tr th {\n",
              "        vertical-align: top;\n",
              "    }\n",
              "\n",
              "    .dataframe thead th {\n",
              "        text-align: right;\n",
              "    }\n",
              "</style>\n",
              "<table border=\"1\" class=\"dataframe\">\n",
              "  <thead>\n",
              "    <tr style=\"text-align: right;\">\n",
              "      <th></th>\n",
              "      <th>sentence1</th>\n",
              "      <th>sentence2</th>\n",
              "      <th>similarity</th>\n",
              "      <th>label</th>\n",
              "    </tr>\n",
              "  </thead>\n",
              "  <tbody>\n",
              "    <tr>\n",
              "      <th>0</th>\n",
              "      <td>\"WTO là tên viết tắt của tổ chức nào sau đây?\\n|Tổ chức Thương mại thế giới.|Liên minh châu Âu.|Hiệp ước tự do thương mại Bắc Mĩ.|Diễn đàn hợp tác kinh tế châu Á – Thái Bình Dương.Đáp án\"</td>\n",
              "      <td>\"WTO là tên viết tắt của tổ chức|Thương mại thế giới.|Quỹ tiền tệ quốc tế.|Khu vực mậu dịch tự do châu Á.|Diễn đàn hợp tác các kinh tế châu Á -Thái Bình Dương.\"</td>\n",
              "      <td>0.602151</td>\n",
              "      <td>1</td>\n",
              "    </tr>\n",
              "    <tr>\n",
              "      <th>1</th>\n",
              "      <td>\"Nhằm thúc đẩy sự phát triển kinh tế - xã hội các nước đang phát triển đã tiến hành\\n|Nhận chuyển giao các công nghệ lỗi thời, gây ô nhiễm.|Đón đầu được công nghệ hiện đại và áp dụng vào sản xuất.|Mở rộng thị trường buôn bán với nhiều nước trên thế giới.|Phá bỏ hàng rào thuế quan, đẩy mạnh xuất khẩu hàng hóa.Đáp án\"</td>\n",
              "      <td>\"Trong bối cảnh toàn cầu hóa, các nước đang phát triển đã nhanh chóng nắm bắt được cơ hội nào dưới đây nhằm thúc đẩy sự phát triển kinh tế - xã hội?\\n|Nhận chuyển giao các công nghệ lỗi thời, gây ô nhiễm.|Đón đầu được công nghệ hiện đại và áp dụng vào sản xuất.|Mở rộng thị trường buôn bán với nhiều nước trên thế giới.|Phá bỏ hàng rào thuế quan, đẩy mạnh xuất khẩu hàng hóa.Đáp án\"</td>\n",
              "      <td>0.745407</td>\n",
              "      <td>1</td>\n",
              "    </tr>\n",
              "    <tr>\n",
              "      <th>2</th>\n",
              "      <td>\"Đặc điểm nào không đúng với đặc điểm dân cư Hoa Kì?\\n|Dân nhập cư chủ yếu có nguồn gốc Châu Phi.|Dân số Hoa Kì đông.|Dân số Hoa Kì tăng nhanh.|Dân số tăng chủ yếu do nhập cư.Đáp án\"</td>\n",
              "      <td>\"Đặc điểm nào sau đây không đúng với đặc điểm dân cư Hoa Kì?\\n|Dân số Hoa Kì tăng nhanh.|Dân nhập cư chủ yếu có nguồn gốc Châu Phi.|Dân số Hoa Kì đông.|Dân số tăng chủ yếu do nhập cư.Đáp án\"</td>\n",
              "      <td>0.682540</td>\n",
              "      <td>1</td>\n",
              "    </tr>\n",
              "    <tr>\n",
              "      <th>3</th>\n",
              "      <td>\"Yếu tố tự nhiên nào vừa là khó khăn, nhưng đồng thời cũng là thuận lợi cho sự phát triển kinh tế của Hoa Kì?\\n|Lãnh thổ rộng lớn.|Có nhiều động đất và núi lửa.|Có tài nguyên thiên nhiên đa dạng.|Có nhiều người nhập cư.Đáp án\"</td>\n",
              "      <td>\"Yếu tố tự nhiên nào vừa là khó khăn nhưng đồng thời cũng là thuận lợi cho sự phát triển kinh tế của Hoa Kì?\\n|Có tài nguyên thiên nhiên đa dạng.|Lãnh thổ rộng lớn.|Có nhiều động đất và núi lửa.|Có nhiều người nhập cư.Đáp án\"</td>\n",
              "      <td>0.715556</td>\n",
              "      <td>1</td>\n",
              "    </tr>\n",
              "    <tr>\n",
              "      <th>4</th>\n",
              "      <td>\"Một trong những thuận lợi của EU khi hình thành thị trường chung châu Âu là\\n|Tăng thuế các nước thành viên khi lưu thông hàng hóa, dịch vụ.|Tăng cường tự do lưu thông về người, hàng hóa, dịch vụ và tiền vốn.|Tăng cường vai trò của từng quốc gia khi buôn bán với các nước ngoài khối.|Tăng thuế giá trị gia tăng khi lưu thông hàng hóa, tiền tệ và dịch vụ.Đáp án\"</td>\n",
              "      <td>\"Một trong những thuận lợi của EU khi hình thành thị trường chung châu Âu là\\n|Tăng thuế giá trị gia tăng khi lưu thông hàng hóa, tiền tệ và dịch vụ.|Tăng cường tự do lưu thông về người, hàng hóa, dịch vụ và tiền vốn.|Tăng thuế các nước thành viên khi lưu thông hàng hóa, dịch vụ.|Tăng cường vai trò của từng quốc gia khi buôn bán với các nước ngoài khối.Đáp án\"</td>\n",
              "      <td>0.642659</td>\n",
              "      <td>1</td>\n",
              "    </tr>\n",
              "    <tr>\n",
              "      <th>...</th>\n",
              "      <td>...</td>\n",
              "      <td>...</td>\n",
              "      <td>...</td>\n",
              "      <td>...</td>\n",
              "    </tr>\n",
              "    <tr>\n",
              "      <th>975</th>\n",
              "      <td>\"Nhiệt độ không khí thay đổi theo bờ Đông và bờ Tây các lục địa do\\n \\n|hai bờ Đông và Tây của các lục địa có độ cao khác nhau.|chế độ gió thổi ở hai bờ Đông và Tây các lục địa khác nhau.|hai bờ Đông và Tây của lục địa có góc chiếu của tia bức xạ mặt trời khác nhau.|ảnh hưởng của các dòng biển nóng và lạnh ở hai bờ Đông và Tây khác nhau.Đáp án\"</td>\n",
              "      <td>\"Tại sao nhiệt độ không khí thay đổi theo bờ đông và bờ Tây các lục địa?\\n|hai bờ Đông và Tây của các lục địa có độ cao khác nhau.|chế độ gió thổi ở hai bờ Đông và Tây các lục địa khác nhau.|hai bờ Đông và Tây của lục địa có góc chiếu của Tia bức xạ mặt trời khác nhau.|ảnh hưởng của các dòng biển nóng và lạnh ở hai bờ Đông và Tây khác nhau.Đáp án\"</td>\n",
              "      <td>0.954023</td>\n",
              "      <td>0</td>\n",
              "    </tr>\n",
              "    <tr>\n",
              "      <th>976</th>\n",
              "      <td>\"Vì sao khu vực chịu ảnh hưởng của gió mùa thường có lượng mưa lớn?\\n|Gió mùa mùa Đông thường đem mưa đến.|Gió mùa mùa hạ thổi từ biển vào thường xuyên đem mưa đến.|Cả gió mùa mùa hạ và gió mùa mùa Đông đều đem mưa lớn đến.|Thường xuyên chịu ảnh hưởng của áp thấp.Đáp án\"</td>\n",
              "      <td>\"Khu vực chịu ảnh hưởng của gió mùa thường có lượng mưa lớn vì\\n|Gió mùa mùa Đông thường đem mưa đến.|Gió mùa mùa hạ thổi từ biển vào thường xuyên đem mưa đến.|Cả gió mùa mùa hạ và gió mùa mùa Đông đều đem mưa lớn đến.|Thường xuyên chịu ảnh hưởng của áp thấp.Đáp án\"</td>\n",
              "      <td>0.959259</td>\n",
              "      <td>0</td>\n",
              "    </tr>\n",
              "    <tr>\n",
              "      <th>977</th>\n",
              "      <td>\"Những vùng có tỉ trọng giá trị sản xuất công nghiệp tăng|1,2,3,6|2,5,6,7|1,2,3,7|2,4,6,7\"</td>\n",
              "      <td>\"Những vùng có tỉ trọng giá trị sản xuất công nghiệp giảm|1,2|5,6|3,4|5,7\"</td>\n",
              "      <td>0.755556</td>\n",
              "      <td>0</td>\n",
              "    </tr>\n",
              "    <tr>\n",
              "      <th>978</th>\n",
              "      <td>\" Sản lượng dầu thô khai thác tăng không  phải là do|Tăng cường hợp tác với nước ngoài|Ngày càng khai thác nhiều mỏ hơn|Đầu tư vào máy móc thiết bị|Có nhiều nhà má lọc – hóa dầu\"</td>\n",
              "      <td>\"Ở Đông Nam Bộ, Sản lượng dầu thô khai thác tăng không phải là do|Tăng cường hợp tác với nước ngoài.|Ngày càng khai thác nhiều mỏ hơn.|Đầu tư vào máy móc thiết bị.|Có nhiều nhà má lọc – hóa dầu.\"</td>\n",
              "      <td>0.902564</td>\n",
              "      <td>0</td>\n",
              "    </tr>\n",
              "    <tr>\n",
              "      <th>979</th>\n",
              "      <td>\"Giai đoạn Tiền Cambri kéo dài ở nước ta khoảng|1,5 tỉ năm.|2 tỉ năm.|2,5 tỉ năm.|3 tỉ năm.\"</td>\n",
              "      <td>\"Giai đoạn Tiền Cambri diễn ra ở nước ta trong suốt thời gian khoảng|1,5 tỉ năm.|2 tỉ năm.|2,5 tỉ năm.|3 tỉ năm.\"</td>\n",
              "      <td>0.752212</td>\n",
              "      <td>0</td>\n",
              "    </tr>\n",
              "  </tbody>\n",
              "</table>\n",
              "<p>980 rows × 4 columns</p>\n",
              "</div>\n",
              "      <button class=\"colab-df-convert\" onclick=\"convertToInteractive('df-8e23de36-42cc-44ed-8c79-52044ad9b5c3')\"\n",
              "              title=\"Convert this dataframe to an interactive table.\"\n",
              "              style=\"display:none;\">\n",
              "        \n",
              "  <svg xmlns=\"http://www.w3.org/2000/svg\" height=\"24px\"viewBox=\"0 0 24 24\"\n",
              "       width=\"24px\">\n",
              "    <path d=\"M0 0h24v24H0V0z\" fill=\"none\"/>\n",
              "    <path d=\"M18.56 5.44l.94 2.06.94-2.06 2.06-.94-2.06-.94-.94-2.06-.94 2.06-2.06.94zm-11 1L8.5 8.5l.94-2.06 2.06-.94-2.06-.94L8.5 2.5l-.94 2.06-2.06.94zm10 10l.94 2.06.94-2.06 2.06-.94-2.06-.94-.94-2.06-.94 2.06-2.06.94z\"/><path d=\"M17.41 7.96l-1.37-1.37c-.4-.4-.92-.59-1.43-.59-.52 0-1.04.2-1.43.59L10.3 9.45l-7.72 7.72c-.78.78-.78 2.05 0 2.83L4 21.41c.39.39.9.59 1.41.59.51 0 1.02-.2 1.41-.59l7.78-7.78 2.81-2.81c.8-.78.8-2.07 0-2.86zM5.41 20L4 18.59l7.72-7.72 1.47 1.35L5.41 20z\"/>\n",
              "  </svg>\n",
              "      </button>\n",
              "      \n",
              "  <style>\n",
              "    .colab-df-container {\n",
              "      display:flex;\n",
              "      flex-wrap:wrap;\n",
              "      gap: 12px;\n",
              "    }\n",
              "\n",
              "    .colab-df-convert {\n",
              "      background-color: #E8F0FE;\n",
              "      border: none;\n",
              "      border-radius: 50%;\n",
              "      cursor: pointer;\n",
              "      display: none;\n",
              "      fill: #1967D2;\n",
              "      height: 32px;\n",
              "      padding: 0 0 0 0;\n",
              "      width: 32px;\n",
              "    }\n",
              "\n",
              "    .colab-df-convert:hover {\n",
              "      background-color: #E2EBFA;\n",
              "      box-shadow: 0px 1px 2px rgba(60, 64, 67, 0.3), 0px 1px 3px 1px rgba(60, 64, 67, 0.15);\n",
              "      fill: #174EA6;\n",
              "    }\n",
              "\n",
              "    [theme=dark] .colab-df-convert {\n",
              "      background-color: #3B4455;\n",
              "      fill: #D2E3FC;\n",
              "    }\n",
              "\n",
              "    [theme=dark] .colab-df-convert:hover {\n",
              "      background-color: #434B5C;\n",
              "      box-shadow: 0px 1px 3px 1px rgba(0, 0, 0, 0.15);\n",
              "      filter: drop-shadow(0px 1px 2px rgba(0, 0, 0, 0.3));\n",
              "      fill: #FFFFFF;\n",
              "    }\n",
              "  </style>\n",
              "\n",
              "      <script>\n",
              "        const buttonEl =\n",
              "          document.querySelector('#df-8e23de36-42cc-44ed-8c79-52044ad9b5c3 button.colab-df-convert');\n",
              "        buttonEl.style.display =\n",
              "          google.colab.kernel.accessAllowed ? 'block' : 'none';\n",
              "\n",
              "        async function convertToInteractive(key) {\n",
              "          const element = document.querySelector('#df-8e23de36-42cc-44ed-8c79-52044ad9b5c3');\n",
              "          const dataTable =\n",
              "            await google.colab.kernel.invokeFunction('convertToInteractive',\n",
              "                                                     [key], {});\n",
              "          if (!dataTable) return;\n",
              "\n",
              "          const docLinkHtml = 'Like what you see? Visit the ' +\n",
              "            '<a target=\"_blank\" href=https://colab.research.google.com/notebooks/data_table.ipynb>data table notebook</a>'\n",
              "            + ' to learn more about interactive tables.';\n",
              "          element.innerHTML = '';\n",
              "          dataTable['output_type'] = 'display_data';\n",
              "          await google.colab.output.renderOutput(dataTable, element);\n",
              "          const docLink = document.createElement('div');\n",
              "          docLink.innerHTML = docLinkHtml;\n",
              "          element.appendChild(docLink);\n",
              "        }\n",
              "      </script>\n",
              "    </div>\n",
              "  </div>\n",
              "  "
            ],
            "text/plain": [
              "                                                                                                                                                                                                                                                                                                                                                                      sentence1  ... label\n",
              "0                                                                                                                                                                                   \"WTO là tên viết tắt của tổ chức nào sau đây?\\n|Tổ chức Thương mại thế giới.|Liên minh châu Âu.|Hiệp ước tự do thương mại Bắc Mĩ.|Diễn đàn hợp tác kinh tế châu Á – Thái Bình Dương.Đáp án\"  ...     1\n",
              "1                                                 \"Nhằm thúc đẩy sự phát triển kinh tế - xã hội các nước đang phát triển đã tiến hành\\n|Nhận chuyển giao các công nghệ lỗi thời, gây ô nhiễm.|Đón đầu được công nghệ hiện đại và áp dụng vào sản xuất.|Mở rộng thị trường buôn bán với nhiều nước trên thế giới.|Phá bỏ hàng rào thuế quan, đẩy mạnh xuất khẩu hàng hóa.Đáp án\"  ...     1\n",
              "2                                                                                                                                                                                        \"Đặc điểm nào không đúng với đặc điểm dân cư Hoa Kì?\\n|Dân nhập cư chủ yếu có nguồn gốc Châu Phi.|Dân số Hoa Kì đông.|Dân số Hoa Kì tăng nhanh.|Dân số tăng chủ yếu do nhập cư.Đáp án\"  ...     1\n",
              "3                                                                                                                                            \"Yếu tố tự nhiên nào vừa là khó khăn, nhưng đồng thời cũng là thuận lợi cho sự phát triển kinh tế của Hoa Kì?\\n|Lãnh thổ rộng lớn.|Có nhiều động đất và núi lửa.|Có tài nguyên thiên nhiên đa dạng.|Có nhiều người nhập cư.Đáp án\"  ...     1\n",
              "4    \"Một trong những thuận lợi của EU khi hình thành thị trường chung châu Âu là\\n|Tăng thuế các nước thành viên khi lưu thông hàng hóa, dịch vụ.|Tăng cường tự do lưu thông về người, hàng hóa, dịch vụ và tiền vốn.|Tăng cường vai trò của từng quốc gia khi buôn bán với các nước ngoài khối.|Tăng thuế giá trị gia tăng khi lưu thông hàng hóa, tiền tệ và dịch vụ.Đáp án\"  ...     1\n",
              "..                                                                                                                                                                                                                                                                                                                                                                          ...  ...   ...\n",
              "975                  \"Nhiệt độ không khí thay đổi theo bờ Đông và bờ Tây các lục địa do\\n \\n|hai bờ Đông và Tây của các lục địa có độ cao khác nhau.|chế độ gió thổi ở hai bờ Đông và Tây các lục địa khác nhau.|hai bờ Đông và Tây của lục địa có góc chiếu của tia bức xạ mặt trời khác nhau.|ảnh hưởng của các dòng biển nóng và lạnh ở hai bờ Đông và Tây khác nhau.Đáp án\"  ...     0\n",
              "976                                                                                             \"Vì sao khu vực chịu ảnh hưởng của gió mùa thường có lượng mưa lớn?\\n|Gió mùa mùa Đông thường đem mưa đến.|Gió mùa mùa hạ thổi từ biển vào thường xuyên đem mưa đến.|Cả gió mùa mùa hạ và gió mùa mùa Đông đều đem mưa lớn đến.|Thường xuyên chịu ảnh hưởng của áp thấp.Đáp án\"  ...     0\n",
              "977                                                                                                                                                                                                                                                                                  \"Những vùng có tỉ trọng giá trị sản xuất công nghiệp tăng|1,2,3,6|2,5,6,7|1,2,3,7|2,4,6,7\"  ...     0\n",
              "978                                                                                                                                                                                          \" Sản lượng dầu thô khai thác tăng không  phải là do|Tăng cường hợp tác với nước ngoài|Ngày càng khai thác nhiều mỏ hơn|Đầu tư vào máy móc thiết bị|Có nhiều nhà má lọc – hóa dầu\"  ...     0\n",
              "979                                                                                                                                                                                                                                                                                \"Giai đoạn Tiền Cambri kéo dài ở nước ta khoảng|1,5 tỉ năm.|2 tỉ năm.|2,5 tỉ năm.|3 tỉ năm.\"  ...     0\n",
              "\n",
              "[980 rows x 4 columns]"
            ]
          },
          "metadata": {},
          "execution_count": 6
        }
      ]
    },
    {
      "cell_type": "markdown",
      "source": [
        "**Merge old data with augmented data**"
      ],
      "metadata": {
        "id": "yfmNWfShKFw4"
      }
    },
    {
      "cell_type": "code",
      "source": [
        "dataset = df_labeled.append(augmented_data_only, sort=False, ignore_index=True)\n",
        "dataset = dataset.drop_duplicates()\n",
        "dataset.reset_index(drop=True, inplace=True)\n",
        "dataset"
      ],
      "metadata": {
        "colab": {
          "base_uri": "https://localhost:8080/",
          "height": 815
        },
        "id": "Th6sr-MzJ7hg",
        "outputId": "30b6c1a8-744f-421c-8007-6f07e35bb973"
      },
      "execution_count": 7,
      "outputs": [
        {
          "output_type": "execute_result",
          "data": {
            "text/html": [
              "\n",
              "  <div id=\"df-16c6a9a5-cd2a-4573-ac81-da3a6573585e\">\n",
              "    <div class=\"colab-df-container\">\n",
              "      <div>\n",
              "<style scoped>\n",
              "    .dataframe tbody tr th:only-of-type {\n",
              "        vertical-align: middle;\n",
              "    }\n",
              "\n",
              "    .dataframe tbody tr th {\n",
              "        vertical-align: top;\n",
              "    }\n",
              "\n",
              "    .dataframe thead th {\n",
              "        text-align: right;\n",
              "    }\n",
              "</style>\n",
              "<table border=\"1\" class=\"dataframe\">\n",
              "  <thead>\n",
              "    <tr style=\"text-align: right;\">\n",
              "      <th></th>\n",
              "      <th>sentence1</th>\n",
              "      <th>sentence2</th>\n",
              "      <th>similarity</th>\n",
              "      <th>label</th>\n",
              "    </tr>\n",
              "  </thead>\n",
              "  <tbody>\n",
              "    <tr>\n",
              "      <th>0</th>\n",
              "      <td>\"WTO là tên viết tắt của tổ chức nào sau đây?\\n|Tổ chức Thương mại thế giới.|Liên minh châu Âu.|Hiệp ước tự do thương mại Bắc Mĩ.|Diễn đàn hợp tác kinh tế châu Á – Thái Bình Dương.Đáp án\"</td>\n",
              "      <td>\"WTO là tên viết tắt của tổ chức|Thương mại thế giới.|Quỹ tiền tệ quốc tế.|Khu vực mậu dịch tự do châu Á.|Diễn đàn hợp tác các kinh tế châu Á -Thái Bình Dương.\"</td>\n",
              "      <td>0.602151</td>\n",
              "      <td>1</td>\n",
              "    </tr>\n",
              "    <tr>\n",
              "      <th>1</th>\n",
              "      <td>\"Nhằm thúc đẩy sự phát triển kinh tế - xã hội các nước đang phát triển đã tiến hành\\n|Nhận chuyển giao các công nghệ lỗi thời, gây ô nhiễm.|Đón đầu được công nghệ hiện đại và áp dụng vào sản xuất.|Mở rộng thị trường buôn bán với nhiều nước trên thế giới.|Phá bỏ hàng rào thuế quan, đẩy mạnh xuất khẩu hàng hóa.Đáp án\"</td>\n",
              "      <td>\"Trong bối cảnh toàn cầu hóa, các nước đang phát triển đã nhanh chóng nắm bắt được cơ hội nào dưới đây nhằm thúc đẩy sự phát triển kinh tế - xã hội?\\n|Nhận chuyển giao các công nghệ lỗi thời, gây ô nhiễm.|Đón đầu được công nghệ hiện đại và áp dụng vào sản xuất.|Mở rộng thị trường buôn bán với nhiều nước trên thế giới.|Phá bỏ hàng rào thuế quan, đẩy mạnh xuất khẩu hàng hóa.Đáp án\"</td>\n",
              "      <td>0.745407</td>\n",
              "      <td>1</td>\n",
              "    </tr>\n",
              "    <tr>\n",
              "      <th>2</th>\n",
              "      <td>\"Đặc điểm nào không đúng với đặc điểm dân cư Hoa Kì?\\n|Dân nhập cư chủ yếu có nguồn gốc Châu Phi.|Dân số Hoa Kì đông.|Dân số Hoa Kì tăng nhanh.|Dân số tăng chủ yếu do nhập cư.Đáp án\"</td>\n",
              "      <td>\"Đặc điểm nào sau đây không đúng với đặc điểm dân cư Hoa Kì?\\n|Dân số Hoa Kì tăng nhanh.|Dân nhập cư chủ yếu có nguồn gốc Châu Phi.|Dân số Hoa Kì đông.|Dân số tăng chủ yếu do nhập cư.Đáp án\"</td>\n",
              "      <td>0.682540</td>\n",
              "      <td>1</td>\n",
              "    </tr>\n",
              "    <tr>\n",
              "      <th>3</th>\n",
              "      <td>\"Yếu tố tự nhiên nào vừa là khó khăn, nhưng đồng thời cũng là thuận lợi cho sự phát triển kinh tế của Hoa Kì?\\n|Lãnh thổ rộng lớn.|Có nhiều động đất và núi lửa.|Có tài nguyên thiên nhiên đa dạng.|Có nhiều người nhập cư.Đáp án\"</td>\n",
              "      <td>\"Yếu tố tự nhiên nào vừa là khó khăn nhưng đồng thời cũng là thuận lợi cho sự phát triển kinh tế của Hoa Kì?\\n|Có tài nguyên thiên nhiên đa dạng.|Lãnh thổ rộng lớn.|Có nhiều động đất và núi lửa.|Có nhiều người nhập cư.Đáp án\"</td>\n",
              "      <td>0.715556</td>\n",
              "      <td>1</td>\n",
              "    </tr>\n",
              "    <tr>\n",
              "      <th>4</th>\n",
              "      <td>\"Một trong những thuận lợi của EU khi hình thành thị trường chung châu Âu là\\n|Tăng thuế các nước thành viên khi lưu thông hàng hóa, dịch vụ.|Tăng cường tự do lưu thông về người, hàng hóa, dịch vụ và tiền vốn.|Tăng cường vai trò của từng quốc gia khi buôn bán với các nước ngoài khối.|Tăng thuế giá trị gia tăng khi lưu thông hàng hóa, tiền tệ và dịch vụ.Đáp án\"</td>\n",
              "      <td>\"Một trong những thuận lợi của EU khi hình thành thị trường chung châu Âu là\\n|Tăng thuế giá trị gia tăng khi lưu thông hàng hóa, tiền tệ và dịch vụ.|Tăng cường tự do lưu thông về người, hàng hóa, dịch vụ và tiền vốn.|Tăng thuế các nước thành viên khi lưu thông hàng hóa, dịch vụ.|Tăng cường vai trò của từng quốc gia khi buôn bán với các nước ngoài khối.Đáp án\"</td>\n",
              "      <td>0.642659</td>\n",
              "      <td>1</td>\n",
              "    </tr>\n",
              "    <tr>\n",
              "      <th>...</th>\n",
              "      <td>...</td>\n",
              "      <td>...</td>\n",
              "      <td>...</td>\n",
              "      <td>...</td>\n",
              "    </tr>\n",
              "    <tr>\n",
              "      <th>1485</th>\n",
              "      <td>Những ý kiến nào sau đây là đúng với hoạt động thương mại nước ngoài của LB Nga?\\n|.Giá trị xuất khẩu luôn luôn cân bằng với giá trị nhập khẩu.|.Hàng hóa xuất khẩu chính là hải sản, hàng hóa công nghiệp nhẹ.|.Hàng hóa nhập khẩu là dầu khí.|.Tổng kim ngạch ngoại thương tiếp tục tăng. Trả lời</td>\n",
              "      <td>Phát biểu nào sau đây là đúng đối với thương mại nước ngoài của Nga LB? | Giá trị xuất khẩu luôn được cân bằng với giá trị nhập khẩu. | Các sản phẩm xuất khẩu chính là hải sản, hàng hóa công nghiệp nhẹ. Hàng hóa nhập khẩu là mỏ dầu khí. | Tổng doanh thu từ ngoại thương. Tăng.</td>\n",
              "      <td>0.921619</td>\n",
              "      <td>1</td>\n",
              "    </tr>\n",
              "    <tr>\n",
              "      <th>1486</th>\n",
              "      <td>Giới hạn quan trọng nhất về điều kiện tự nhiên của Nhật Bản và tài nguyên thiên nhiên là\\n|.Bờ biển dài, nhiều vũng nước.|.Khí hậu giao rõ từ Bắc đến Nam.|.Khoáng chất kém.|.Nhiều hòn đảo lớn và nhỏ nhưng xa nhau.</td>\n",
              "      <td>Trò đùa lớn nhất về điều kiện tự nhiên của Nhật Bản và tài nguyên thiên nhiên là một bờ biển dài, nhiều vũng nước vũ trụ. | Khí hậu được giao rõ ràng từ Bắc vào Nam. | Khoáng chất kém. | Nhiều hòn đảo lớn, nhỏ nhưng xa, nhưng ở xa.</td>\n",
              "      <td>0.966490</td>\n",
              "      <td>1</td>\n",
              "    </tr>\n",
              "    <tr>\n",
              "      <th>1487</th>\n",
              "      <td>Mùa đông kéo dài, lạnh và có rất nhiều tuyết là đặc điểm khí hậu của vùng khí hậu Nhật Bản sau đây?\\n|.Bắc Nhật Bản.|.Nam Nhật Bản.|.Khu vực trung tâm Nhật Bản.|.Tiếng Nhật ven biển.</td>\n",
              "      <td>Các phần mùa đông, cái lạnh và có rất nhiều tuyết là đặc điểm khí hậu của | Bắc Nhật Bản. | Nam Nhật Bản. Khu vực trung tâm Nhật Bản. | Vùng ven biển Nhật Bản.</td>\n",
              "      <td>0.927692</td>\n",
              "      <td>1</td>\n",
              "    </tr>\n",
              "    <tr>\n",
              "      <th>1488</th>\n",
              "      <td>Sự khác biệt giữa tòa tháp hẹp với tháp mở rộng là | đáy rộng, đỉnh của quá khứ, ở giữa hẹp. | Đáy của cảnh, sưng trên cùng. | Ở giữa tháp lồi,nheo lại về phía dưới và đỉnh của đáy và đỉnh của đáy. | Đáy hẹp và mở nhiều hơn ở phần trên cùng.</td>\n",
              "      <td>Sự khác biệt giữa tháp mở rộng với tháp hẹp là | băng thông rộng, đỉnh sắc nhọn, hai cạnh thoải mái. Đáy mạnh, đỉnh là tuyệt vời. | Toàn bộ lớn, hẹp ở giữa, mở trên và nhiều hơn nữa trong phần trên.</td>\n",
              "      <td>0.898050</td>\n",
              "      <td>1</td>\n",
              "    </tr>\n",
              "    <tr>\n",
              "      <th>1489</th>\n",
              "      <td>Các điểm khác nhau giữa các vùng cao nguyên miền Trung với Middleland phía bắc và vùng núi phía bắc nằm ít hơn diện tích trồng cà phê, diện tích trồng trà lớn hơn | với diện tích cây trồng công nghiệp lâu năm, trong đó diện rộng cà phê và cao su lớn hơn | bao gồm lâu hơnCây cây lâu dài kéo dài</td>\n",
              "      <td>Các điểm khác nhau giữa vùng trung du và miền núi phía bắc với Tây Nguyên là khu vực cà phê phát triển lớn nhất | Khu vực trà văn hóa trà lớn hơn | Có diện tích trồng cao su lớn hơn. Karma dài hơn và dài hơn</td>\n",
              "      <td>0.885436</td>\n",
              "      <td>1</td>\n",
              "    </tr>\n",
              "  </tbody>\n",
              "</table>\n",
              "<p>1490 rows × 4 columns</p>\n",
              "</div>\n",
              "      <button class=\"colab-df-convert\" onclick=\"convertToInteractive('df-16c6a9a5-cd2a-4573-ac81-da3a6573585e')\"\n",
              "              title=\"Convert this dataframe to an interactive table.\"\n",
              "              style=\"display:none;\">\n",
              "        \n",
              "  <svg xmlns=\"http://www.w3.org/2000/svg\" height=\"24px\"viewBox=\"0 0 24 24\"\n",
              "       width=\"24px\">\n",
              "    <path d=\"M0 0h24v24H0V0z\" fill=\"none\"/>\n",
              "    <path d=\"M18.56 5.44l.94 2.06.94-2.06 2.06-.94-2.06-.94-.94-2.06-.94 2.06-2.06.94zm-11 1L8.5 8.5l.94-2.06 2.06-.94-2.06-.94L8.5 2.5l-.94 2.06-2.06.94zm10 10l.94 2.06.94-2.06 2.06-.94-2.06-.94-.94-2.06-.94 2.06-2.06.94z\"/><path d=\"M17.41 7.96l-1.37-1.37c-.4-.4-.92-.59-1.43-.59-.52 0-1.04.2-1.43.59L10.3 9.45l-7.72 7.72c-.78.78-.78 2.05 0 2.83L4 21.41c.39.39.9.59 1.41.59.51 0 1.02-.2 1.41-.59l7.78-7.78 2.81-2.81c.8-.78.8-2.07 0-2.86zM5.41 20L4 18.59l7.72-7.72 1.47 1.35L5.41 20z\"/>\n",
              "  </svg>\n",
              "      </button>\n",
              "      \n",
              "  <style>\n",
              "    .colab-df-container {\n",
              "      display:flex;\n",
              "      flex-wrap:wrap;\n",
              "      gap: 12px;\n",
              "    }\n",
              "\n",
              "    .colab-df-convert {\n",
              "      background-color: #E8F0FE;\n",
              "      border: none;\n",
              "      border-radius: 50%;\n",
              "      cursor: pointer;\n",
              "      display: none;\n",
              "      fill: #1967D2;\n",
              "      height: 32px;\n",
              "      padding: 0 0 0 0;\n",
              "      width: 32px;\n",
              "    }\n",
              "\n",
              "    .colab-df-convert:hover {\n",
              "      background-color: #E2EBFA;\n",
              "      box-shadow: 0px 1px 2px rgba(60, 64, 67, 0.3), 0px 1px 3px 1px rgba(60, 64, 67, 0.15);\n",
              "      fill: #174EA6;\n",
              "    }\n",
              "\n",
              "    [theme=dark] .colab-df-convert {\n",
              "      background-color: #3B4455;\n",
              "      fill: #D2E3FC;\n",
              "    }\n",
              "\n",
              "    [theme=dark] .colab-df-convert:hover {\n",
              "      background-color: #434B5C;\n",
              "      box-shadow: 0px 1px 3px 1px rgba(0, 0, 0, 0.15);\n",
              "      filter: drop-shadow(0px 1px 2px rgba(0, 0, 0, 0.3));\n",
              "      fill: #FFFFFF;\n",
              "    }\n",
              "  </style>\n",
              "\n",
              "      <script>\n",
              "        const buttonEl =\n",
              "          document.querySelector('#df-16c6a9a5-cd2a-4573-ac81-da3a6573585e button.colab-df-convert');\n",
              "        buttonEl.style.display =\n",
              "          google.colab.kernel.accessAllowed ? 'block' : 'none';\n",
              "\n",
              "        async function convertToInteractive(key) {\n",
              "          const element = document.querySelector('#df-16c6a9a5-cd2a-4573-ac81-da3a6573585e');\n",
              "          const dataTable =\n",
              "            await google.colab.kernel.invokeFunction('convertToInteractive',\n",
              "                                                     [key], {});\n",
              "          if (!dataTable) return;\n",
              "\n",
              "          const docLinkHtml = 'Like what you see? Visit the ' +\n",
              "            '<a target=\"_blank\" href=https://colab.research.google.com/notebooks/data_table.ipynb>data table notebook</a>'\n",
              "            + ' to learn more about interactive tables.';\n",
              "          element.innerHTML = '';\n",
              "          dataTable['output_type'] = 'display_data';\n",
              "          await google.colab.output.renderOutput(dataTable, element);\n",
              "          const docLink = document.createElement('div');\n",
              "          docLink.innerHTML = docLinkHtml;\n",
              "          element.appendChild(docLink);\n",
              "        }\n",
              "      </script>\n",
              "    </div>\n",
              "  </div>\n",
              "  "
            ],
            "text/plain": [
              "                                                                                                                                                                                                                                                                                                                                                                       sentence1  ... label\n",
              "0                                                                                                                                                                                    \"WTO là tên viết tắt của tổ chức nào sau đây?\\n|Tổ chức Thương mại thế giới.|Liên minh châu Âu.|Hiệp ước tự do thương mại Bắc Mĩ.|Diễn đàn hợp tác kinh tế châu Á – Thái Bình Dương.Đáp án\"  ...     1\n",
              "1                                                  \"Nhằm thúc đẩy sự phát triển kinh tế - xã hội các nước đang phát triển đã tiến hành\\n|Nhận chuyển giao các công nghệ lỗi thời, gây ô nhiễm.|Đón đầu được công nghệ hiện đại và áp dụng vào sản xuất.|Mở rộng thị trường buôn bán với nhiều nước trên thế giới.|Phá bỏ hàng rào thuế quan, đẩy mạnh xuất khẩu hàng hóa.Đáp án\"  ...     1\n",
              "2                                                                                                                                                                                         \"Đặc điểm nào không đúng với đặc điểm dân cư Hoa Kì?\\n|Dân nhập cư chủ yếu có nguồn gốc Châu Phi.|Dân số Hoa Kì đông.|Dân số Hoa Kì tăng nhanh.|Dân số tăng chủ yếu do nhập cư.Đáp án\"  ...     1\n",
              "3                                                                                                                                             \"Yếu tố tự nhiên nào vừa là khó khăn, nhưng đồng thời cũng là thuận lợi cho sự phát triển kinh tế của Hoa Kì?\\n|Lãnh thổ rộng lớn.|Có nhiều động đất và núi lửa.|Có tài nguyên thiên nhiên đa dạng.|Có nhiều người nhập cư.Đáp án\"  ...     1\n",
              "4     \"Một trong những thuận lợi của EU khi hình thành thị trường chung châu Âu là\\n|Tăng thuế các nước thành viên khi lưu thông hàng hóa, dịch vụ.|Tăng cường tự do lưu thông về người, hàng hóa, dịch vụ và tiền vốn.|Tăng cường vai trò của từng quốc gia khi buôn bán với các nước ngoài khối.|Tăng thuế giá trị gia tăng khi lưu thông hàng hóa, tiền tệ và dịch vụ.Đáp án\"  ...     1\n",
              "...                                                                                                                                                                                                                                                                                                                                                                          ...  ...   ...\n",
              "1485                                                                        Những ý kiến nào sau đây là đúng với hoạt động thương mại nước ngoài của LB Nga?\\n|.Giá trị xuất khẩu luôn luôn cân bằng với giá trị nhập khẩu.|.Hàng hóa xuất khẩu chính là hải sản, hàng hóa công nghiệp nhẹ.|.Hàng hóa nhập khẩu là dầu khí.|.Tổng kim ngạch ngoại thương tiếp tục tăng. Trả lời   ...     1\n",
              "1486                                                                                                                                                       Giới hạn quan trọng nhất về điều kiện tự nhiên của Nhật Bản và tài nguyên thiên nhiên là\\n|.Bờ biển dài, nhiều vũng nước.|.Khí hậu giao rõ từ Bắc đến Nam.|.Khoáng chất kém.|.Nhiều hòn đảo lớn và nhỏ nhưng xa nhau.  ...     1\n",
              "1487                                                                                                                                                                                      Mùa đông kéo dài, lạnh và có rất nhiều tuyết là đặc điểm khí hậu của vùng khí hậu Nhật Bản sau đây?\\n|.Bắc Nhật Bản.|.Nam Nhật Bản.|.Khu vực trung tâm Nhật Bản.|.Tiếng Nhật ven biển.  ...     1\n",
              "1488                                                                                                                          Sự khác biệt giữa tòa tháp hẹp với tháp mở rộng là | đáy rộng, đỉnh của quá khứ, ở giữa hẹp. | Đáy của cảnh, sưng trên cùng. | Ở giữa tháp lồi,nheo lại về phía dưới và đỉnh của đáy và đỉnh của đáy. | Đáy hẹp và mở nhiều hơn ở phần trên cùng.   ...     1\n",
              "1489                                                                     Các điểm khác nhau giữa các vùng cao nguyên miền Trung với Middleland phía bắc và vùng núi phía bắc nằm ít hơn diện tích trồng cà phê, diện tích trồng trà lớn hơn | với diện tích cây trồng công nghiệp lâu năm, trong đó diện rộng cà phê và cao su lớn hơn | bao gồm lâu hơnCây cây lâu dài kéo dài   ...     1\n",
              "\n",
              "[1490 rows x 4 columns]"
            ]
          },
          "metadata": {},
          "execution_count": 7
        }
      ]
    },
    {
      "cell_type": "markdown",
      "source": [
        "**Train test split**"
      ],
      "metadata": {
        "id": "QuowR5xaMxVc"
      }
    },
    {
      "cell_type": "code",
      "source": [
        "!pip install sklearn\n",
        "from sklearn.model_selection import train_test_split"
      ],
      "metadata": {
        "colab": {
          "base_uri": "https://localhost:8080/"
        },
        "id": "iSWlgBUCLHAT",
        "outputId": "2975ea13-06c9-45f3-95a5-084335656c1d"
      },
      "execution_count": 8,
      "outputs": [
        {
          "output_type": "stream",
          "name": "stdout",
          "text": [
            "Requirement already satisfied: sklearn in /usr/local/lib/python3.7/dist-packages (0.0)\n",
            "Requirement already satisfied: scikit-learn in /usr/local/lib/python3.7/dist-packages (from sklearn) (1.0.1)\n",
            "Requirement already satisfied: numpy>=1.14.6 in /usr/local/lib/python3.7/dist-packages (from scikit-learn->sklearn) (1.19.5)\n",
            "Requirement already satisfied: joblib>=0.11 in /usr/local/lib/python3.7/dist-packages (from scikit-learn->sklearn) (1.1.0)\n",
            "Requirement already satisfied: threadpoolctl>=2.0.0 in /usr/local/lib/python3.7/dist-packages (from scikit-learn->sklearn) (3.0.0)\n",
            "Requirement already satisfied: scipy>=1.1.0 in /usr/local/lib/python3.7/dist-packages (from scikit-learn->sklearn) (1.4.1)\n"
          ]
        }
      ]
    },
    {
      "cell_type": "code",
      "source": [
        "df_train, df_test = train_test_split(dataset, test_size=0.2, random_state = 8, shuffle=True)\n",
        "df_train, df_val = train_test_split(dataset, test_size=0.25, random_state = 8)"
      ],
      "metadata": {
        "id": "qHvjExqZM4eg"
      },
      "execution_count": 9,
      "outputs": []
    },
    {
      "cell_type": "code",
      "source": [
        "print(df_train.shape)\n",
        "print(df_val.shape)\n",
        "print(df_test.shape)"
      ],
      "metadata": {
        "colab": {
          "base_uri": "https://localhost:8080/"
        },
        "id": "wOBBxqQAM40T",
        "outputId": "7b9fc1ec-9415-4a19-fa99-9ee8962efc5d"
      },
      "execution_count": 10,
      "outputs": [
        {
          "output_type": "stream",
          "name": "stdout",
          "text": [
            "(1117, 4)\n",
            "(373, 4)\n",
            "(298, 4)\n"
          ]
        }
      ]
    },
    {
      "cell_type": "code",
      "source": [
        "df_train = df_train.reset_index(drop=True)\n",
        "df_test = df_test.reset_index(drop=True)\n",
        "df_val = df_val.reset_index(drop=True)"
      ],
      "metadata": {
        "id": "PXeu2zxxM-Vd"
      },
      "execution_count": 11,
      "outputs": []
    },
    {
      "cell_type": "code",
      "source": [
        "df_train"
      ],
      "metadata": {
        "colab": {
          "base_uri": "https://localhost:8080/",
          "height": 745
        },
        "id": "EP64hNFgNAnT",
        "outputId": "e0d18eda-b7fd-41c9-afb9-9cb112674b73"
      },
      "execution_count": 12,
      "outputs": [
        {
          "output_type": "execute_result",
          "data": {
            "text/html": [
              "\n",
              "  <div id=\"df-b5982128-9e34-4d4e-bc24-eeebf239e256\">\n",
              "    <div class=\"colab-df-container\">\n",
              "      <div>\n",
              "<style scoped>\n",
              "    .dataframe tbody tr th:only-of-type {\n",
              "        vertical-align: middle;\n",
              "    }\n",
              "\n",
              "    .dataframe tbody tr th {\n",
              "        vertical-align: top;\n",
              "    }\n",
              "\n",
              "    .dataframe thead th {\n",
              "        text-align: right;\n",
              "    }\n",
              "</style>\n",
              "<table border=\"1\" class=\"dataframe\">\n",
              "  <thead>\n",
              "    <tr style=\"text-align: right;\">\n",
              "      <th></th>\n",
              "      <th>sentence1</th>\n",
              "      <th>sentence2</th>\n",
              "      <th>similarity</th>\n",
              "      <th>label</th>\n",
              "    </tr>\n",
              "  </thead>\n",
              "  <tbody>\n",
              "    <tr>\n",
              "      <th>0</th>\n",
              "      <td>Bản chất của vùng núi phía đông bắc khác với phía tây bắc tại điểm | Mùa đông ít lạnh hơn nhưng khô ráo. | Chủ nhật đến sớm, đôi khi có một cơn gió tây. | Mùa đông lạnh đến sớm và kết thúc muộn. | Người giữ lạnh do chiều caocủa địa hình.</td>\n",
              "      <td>Bản chất của khu vực phía đông bắc khác với phía tây bắc từ quan điểm tây bắc | Mùa đông ít lạnh hơn nhưng khô hơn | Chủ nhật đến sớm, đôi khi gió gió, giảm lượng mưa | mùa đông lạnh hơn so với vùng núi thấp | lạnh Khí hậu chủ yếu là do chiều cao của mặt đất</td>\n",
              "      <td>0.945276</td>\n",
              "      <td>1</td>\n",
              "    </tr>\n",
              "    <tr>\n",
              "      <th>1</th>\n",
              "      <td>\"Ecđixơn gây|ức chế Sự lột xác của sâu bướm, kích thích sâu biến thành nhộng và bướm|ức chế Sự lột xác của sâu bướm, kìm hãm sâu biến thành nhộng và bướm|lột xác của sâu bướm, kích thích sâu biến thành nhộng và bướm|lột xác của sâu bướm, ức chế sâu biến thành nhộng và bướm\"</td>\n",
              "      <td>\"Juvenin gây|lột xác của sâu bướm, kích thích sâu biến thành nhộng và bướm|ức chế sâu biến thành nhộng và bướm|ức chế sự lột xác của sâu bướm, kích thích sâu biến thành nhộng và bướm|ức chế sự lột xác của sâu bướm, kìm hãm sđu biến thành nhộng và bướm\"</td>\n",
              "      <td>0.722628</td>\n",
              "      <td>0</td>\n",
              "    </tr>\n",
              "    <tr>\n",
              "      <th>2</th>\n",
              "      <td>\"Với chiến thắng trong phong trào của quân dân miền Nam đã làm phá sản chiến lược chiến tranh nào của Mĩ ? |\"Chiến tranh đơn phương\".|\"Chiến tranh đặc biệt\".|\"Chiến tranh cục bộ\".|\"Việt Nam hoá\" chiến tranh.\"</td>\n",
              "      <td>\"Chiến thắng Bình Giã (12 - 1964) đã góp phần làm phá sản chiến lược chiến tranh nào của Mĩ?\\t |\"Chiến tranh đơn phương\"|\"Chiến tranh đặc biệt\"|\"Chiến tranh cục bộ\"|\"Việt Nam hóa\" chiến tranh\"</td>\n",
              "      <td>0.774038</td>\n",
              "      <td>0</td>\n",
              "    </tr>\n",
              "    <tr>\n",
              "      <th>3</th>\n",
              "      <td>\"Hình thức tổ chức lãnh thổ công nghiệp ở nước ta mới được hình thành từ những năm 90 của thế kỉ XX là|Điểm công nghiệp|Vùng công nghiệp|Khu công nghiệp|Trung tâm công nghiệp\"</td>\n",
              "      <td>\"Hình thức tổ chức lãnh thổ công nghiệp ở trình độ cao nhất, có không gian rộng lớn là|Điểm công nghiệp.|Khu công nghiệp.|Trung tâm công nghiệp.|Vùng công nghiệp.\"</td>\n",
              "      <td>0.628571</td>\n",
              "      <td>0</td>\n",
              "    </tr>\n",
              "    <tr>\n",
              "      <th>4</th>\n",
              "      <td>\"Lực lượng nào tham gia đông nhất trong khởi nghĩa nông dân Yên Thế?|Công nhân.|Nông dân.|Các dân tộc sống ở miền núi.|Nông dân và công nhân.\"</td>\n",
              "      <td>\"Lực lượng nào tham gia đông nhất trong khởi nghĩa nông dân Yên Thế?|Công nhân.|Nông dân.|Các dân tộc sống ở miền núi.|Nông dân và công nhân.\"</td>\n",
              "      <td>1.000000</td>\n",
              "      <td>1</td>\n",
              "    </tr>\n",
              "    <tr>\n",
              "      <th>...</th>\n",
              "      <td>...</td>\n",
              "      <td>...</td>\n",
              "      <td>...</td>\n",
              "      <td>...</td>\n",
              "    </tr>\n",
              "    <tr>\n",
              "      <th>1112</th>\n",
              "      <td>Một chiếc xe của I-Li-A đã bán cho các nước EU khác không phải nộp thuế\\n|.Lưu thông hàng hóa miễn phí.|.Tự do di chuyển.|.Tự do lưu thông dịch vụ.|.Tự do lưu thông vốn.</td>\n",
              "      <td>Một công ty vận tải ở Tây Ban Nha có thể thực hiện hợp đồng tại Pháp với tư cách là một công ty ở Pháp, đó là biểu hiện của tự do dưới đây?\\n|.Di chuyển hàng hóa miễn phí.|.Sự tự do di chuyển.|.Tự do lưu thông dịch vụ.|.Tự do lưu thông vốn.</td>\n",
              "      <td>0.825642</td>\n",
              "      <td>1</td>\n",
              "    </tr>\n",
              "    <tr>\n",
              "      <th>1113</th>\n",
              "      <td>\"\"Lần đầu tiên trong lịch sử, một nước thuộc địa nhỏ yếu đã đánh thắng một nước thực dân hùng mạnh....\" . Đó là câu nói của ai?|Võ Nguyên Giáp.|Chủ tịch Hồ Chí Minh.|Trường Chinh.|Phạm Văn Đồng.\"</td>\n",
              "      <td>\"“Lần đầu tiên trong lịch sử, một nước thuộc địa nhỏ yếu đã đánh thắng một nước thực dân hùng mạnh . ..”. Hãy cho biết đây là câu nói của ai?|Võ Nguyên Giáp.|Trường Chinh.|Chủ Tịch Hồ Chí Minh.|Phạm Văn Đồng.\"</td>\n",
              "      <td>0.779904</td>\n",
              "      <td>1</td>\n",
              "    </tr>\n",
              "    <tr>\n",
              "      <th>1114</th>\n",
              "      <td>\"Từ Ô-đét-xa đến Mum-bai, đi vòng qua châu phi mất 11818 hải lí,nếu đi qua kênh Xuy-ê chỉ mất 4198 hải lí, vậy quãng đường được rút ngắn khoảng (%)|58%.|70%.|42%.|50%.\"</td>\n",
              "      <td>\"Từ Niu-Iooc đến Xít-ni, đi vòng qua Nam Mĩ là 13051 hải lí, nếu đi qua kênh Panama chỉ mất 9692 hải lí, vậy quãng đường được rút ngắn khoảng ( % )|60%.|70%.|26%.|50%.\"</td>\n",
              "      <td>0.744048</td>\n",
              "      <td>0</td>\n",
              "    </tr>\n",
              "    <tr>\n",
              "      <th>1115</th>\n",
              "      <td>Từ năm 1946 đến 1980, đó là ba lần Quốc hội thông qua hiến pháp, Hiến pháp nào? Hiến pháp 1946; Hiến pháp 1959; Hiến pháp 1980. | Hiến pháp 1946; Hiến pháp 1960; Hiến pháp 1980; Hiến pháp 1980; Hiến pháp 1980; Hiến pháp 1980; |Hiến pháp 1946; Hiến pháp năm 1975; Hiến pháp 1980. | Hiến pháp 1946; Hiến pháp 1976; Hiến pháp 1980.</td>\n",
              "      <td>Từ năm 1946 đến 1980, ba lần đại hội thông qua hiến pháp, mà hiến pháp làm gì? | 1946 Hiến pháp, Hiến pháp năm 1959; Hiến pháp năm 1980. | 1946 Hiến pháp năm 1960; Hiến pháp năm 1975. Hiến pháp năm 1945. Hiến pháp năm 1975 1980 . | 1946 Hiến pháp; Hiến pháp năm 1976; Hiến pháp năm 1980.</td>\n",
              "      <td>0.954578</td>\n",
              "      <td>1</td>\n",
              "    </tr>\n",
              "    <tr>\n",
              "      <th>1116</th>\n",
              "      <td>\"Tỉnh nào sau đây thuộc vùng Đồng bằng sông Hồng?|Thái Nguyên|Vinh Phúc|Phú Thọ|Hòa Bình\"</td>\n",
              "      <td>\"Tỉnh nào sau đây không thuộc vùng đồng bằng sông Hồng?|Bắc Giang|Ninh Bình|Hải Dương|Hưng Yên\"</td>\n",
              "      <td>0.621053</td>\n",
              "      <td>0</td>\n",
              "    </tr>\n",
              "  </tbody>\n",
              "</table>\n",
              "<p>1117 rows × 4 columns</p>\n",
              "</div>\n",
              "      <button class=\"colab-df-convert\" onclick=\"convertToInteractive('df-b5982128-9e34-4d4e-bc24-eeebf239e256')\"\n",
              "              title=\"Convert this dataframe to an interactive table.\"\n",
              "              style=\"display:none;\">\n",
              "        \n",
              "  <svg xmlns=\"http://www.w3.org/2000/svg\" height=\"24px\"viewBox=\"0 0 24 24\"\n",
              "       width=\"24px\">\n",
              "    <path d=\"M0 0h24v24H0V0z\" fill=\"none\"/>\n",
              "    <path d=\"M18.56 5.44l.94 2.06.94-2.06 2.06-.94-2.06-.94-.94-2.06-.94 2.06-2.06.94zm-11 1L8.5 8.5l.94-2.06 2.06-.94-2.06-.94L8.5 2.5l-.94 2.06-2.06.94zm10 10l.94 2.06.94-2.06 2.06-.94-2.06-.94-.94-2.06-.94 2.06-2.06.94z\"/><path d=\"M17.41 7.96l-1.37-1.37c-.4-.4-.92-.59-1.43-.59-.52 0-1.04.2-1.43.59L10.3 9.45l-7.72 7.72c-.78.78-.78 2.05 0 2.83L4 21.41c.39.39.9.59 1.41.59.51 0 1.02-.2 1.41-.59l7.78-7.78 2.81-2.81c.8-.78.8-2.07 0-2.86zM5.41 20L4 18.59l7.72-7.72 1.47 1.35L5.41 20z\"/>\n",
              "  </svg>\n",
              "      </button>\n",
              "      \n",
              "  <style>\n",
              "    .colab-df-container {\n",
              "      display:flex;\n",
              "      flex-wrap:wrap;\n",
              "      gap: 12px;\n",
              "    }\n",
              "\n",
              "    .colab-df-convert {\n",
              "      background-color: #E8F0FE;\n",
              "      border: none;\n",
              "      border-radius: 50%;\n",
              "      cursor: pointer;\n",
              "      display: none;\n",
              "      fill: #1967D2;\n",
              "      height: 32px;\n",
              "      padding: 0 0 0 0;\n",
              "      width: 32px;\n",
              "    }\n",
              "\n",
              "    .colab-df-convert:hover {\n",
              "      background-color: #E2EBFA;\n",
              "      box-shadow: 0px 1px 2px rgba(60, 64, 67, 0.3), 0px 1px 3px 1px rgba(60, 64, 67, 0.15);\n",
              "      fill: #174EA6;\n",
              "    }\n",
              "\n",
              "    [theme=dark] .colab-df-convert {\n",
              "      background-color: #3B4455;\n",
              "      fill: #D2E3FC;\n",
              "    }\n",
              "\n",
              "    [theme=dark] .colab-df-convert:hover {\n",
              "      background-color: #434B5C;\n",
              "      box-shadow: 0px 1px 3px 1px rgba(0, 0, 0, 0.15);\n",
              "      filter: drop-shadow(0px 1px 2px rgba(0, 0, 0, 0.3));\n",
              "      fill: #FFFFFF;\n",
              "    }\n",
              "  </style>\n",
              "\n",
              "      <script>\n",
              "        const buttonEl =\n",
              "          document.querySelector('#df-b5982128-9e34-4d4e-bc24-eeebf239e256 button.colab-df-convert');\n",
              "        buttonEl.style.display =\n",
              "          google.colab.kernel.accessAllowed ? 'block' : 'none';\n",
              "\n",
              "        async function convertToInteractive(key) {\n",
              "          const element = document.querySelector('#df-b5982128-9e34-4d4e-bc24-eeebf239e256');\n",
              "          const dataTable =\n",
              "            await google.colab.kernel.invokeFunction('convertToInteractive',\n",
              "                                                     [key], {});\n",
              "          if (!dataTable) return;\n",
              "\n",
              "          const docLinkHtml = 'Like what you see? Visit the ' +\n",
              "            '<a target=\"_blank\" href=https://colab.research.google.com/notebooks/data_table.ipynb>data table notebook</a>'\n",
              "            + ' to learn more about interactive tables.';\n",
              "          element.innerHTML = '';\n",
              "          dataTable['output_type'] = 'display_data';\n",
              "          await google.colab.output.renderOutput(dataTable, element);\n",
              "          const docLink = document.createElement('div');\n",
              "          docLink.innerHTML = docLinkHtml;\n",
              "          element.appendChild(docLink);\n",
              "        }\n",
              "      </script>\n",
              "    </div>\n",
              "  </div>\n",
              "  "
            ],
            "text/plain": [
              "                                                                                                                                                                                                                                                                                                                                      sentence1  ... label\n",
              "0                                                                                                Bản chất của vùng núi phía đông bắc khác với phía tây bắc tại điểm | Mùa đông ít lạnh hơn nhưng khô ráo. | Chủ nhật đến sớm, đôi khi có một cơn gió tây. | Mùa đông lạnh đến sớm và kết thúc muộn. | Người giữ lạnh do chiều caocủa địa hình.   ...     1\n",
              "1                                                            \"Ecđixơn gây|ức chế Sự lột xác của sâu bướm, kích thích sâu biến thành nhộng và bướm|ức chế Sự lột xác của sâu bướm, kìm hãm sâu biến thành nhộng và bướm|lột xác của sâu bướm, kích thích sâu biến thành nhộng và bướm|lột xác của sâu bướm, ức chế sâu biến thành nhộng và bướm\"  ...     0\n",
              "2                                                                                                                              \"Với chiến thắng trong phong trào của quân dân miền Nam đã làm phá sản chiến lược chiến tranh nào của Mĩ ? |\"Chiến tranh đơn phương\".|\"Chiến tranh đặc biệt\".|\"Chiến tranh cục bộ\".|\"Việt Nam hoá\" chiến tranh.\"  ...     0\n",
              "3                                                                                                                                                               \"Hình thức tổ chức lãnh thổ công nghiệp ở nước ta mới được hình thành từ những năm 90 của thế kỉ XX là|Điểm công nghiệp|Vùng công nghiệp|Khu công nghiệp|Trung tâm công nghiệp\"  ...     0\n",
              "4                                                                                                                                                                                                \"Lực lượng nào tham gia đông nhất trong khởi nghĩa nông dân Yên Thế?|Công nhân.|Nông dân.|Các dân tộc sống ở miền núi.|Nông dân và công nhân.\"  ...     1\n",
              "...                                                                                                                                                                                                                                                                                                                                         ...  ...   ...\n",
              "1112                                                                                                                                                                  Một chiếc xe của I-Li-A đã bán cho các nước EU khác không phải nộp thuế\\n|.Lưu thông hàng hóa miễn phí.|.Tự do di chuyển.|.Tự do lưu thông dịch vụ.|.Tự do lưu thông vốn.  ...     1\n",
              "1113                                                                                                                                        \"\"Lần đầu tiên trong lịch sử, một nước thuộc địa nhỏ yếu đã đánh thắng một nước thực dân hùng mạnh....\" . Đó là câu nói của ai?|Võ Nguyên Giáp.|Chủ tịch Hồ Chí Minh.|Trường Chinh.|Phạm Văn Đồng.\"  ...     1\n",
              "1114                                                                                                                                                                   \"Từ Ô-đét-xa đến Mum-bai, đi vòng qua châu phi mất 11818 hải lí,nếu đi qua kênh Xuy-ê chỉ mất 4198 hải lí, vậy quãng đường được rút ngắn khoảng (%)|58%.|70%.|42%.|50%.\"  ...     0\n",
              "1115  Từ năm 1946 đến 1980, đó là ba lần Quốc hội thông qua hiến pháp, Hiến pháp nào? Hiến pháp 1946; Hiến pháp 1959; Hiến pháp 1980. | Hiến pháp 1946; Hiến pháp 1960; Hiến pháp 1980; Hiến pháp 1980; Hiến pháp 1980; Hiến pháp 1980; |Hiến pháp 1946; Hiến pháp năm 1975; Hiến pháp 1980. | Hiến pháp 1946; Hiến pháp 1976; Hiến pháp 1980.   ...     1\n",
              "1116                                                                                                                                                                                                                                                  \"Tỉnh nào sau đây thuộc vùng Đồng bằng sông Hồng?|Thái Nguyên|Vinh Phúc|Phú Thọ|Hòa Bình\"  ...     0\n",
              "\n",
              "[1117 rows x 4 columns]"
            ]
          },
          "metadata": {},
          "execution_count": 12
        }
      ]
    },
    {
      "cell_type": "markdown",
      "source": [
        "# Load Bert Model"
      ],
      "metadata": {
        "id": "X0vroIdyNHBH"
      }
    },
    {
      "cell_type": "code",
      "source": [
        "from transformers import BertTokenizer, BertModel"
      ],
      "metadata": {
        "id": "jTjGAAovNGuF"
      },
      "execution_count": 13,
      "outputs": []
    },
    {
      "cell_type": "markdown",
      "source": [
        "**Tokenize for our dataset using BertTokenizer**"
      ],
      "metadata": {
        "id": "g9Qtu5DVNNVX"
      }
    },
    {
      "cell_type": "code",
      "source": [
        "class CustomDataset(Dataset):\n",
        "\n",
        "    def __init__(self, data, maxlen, with_labels=True, bert_model='bert-base-cased'):\n",
        "\n",
        "        self.data = data  # pandas dataframe\n",
        "        #Initialize the tokenizer\n",
        "        self.tokenizer = BertTokenizer.from_pretrained(bert_model)  \n",
        "\n",
        "        self.maxlen = maxlen\n",
        "        self.with_labels = with_labels \n",
        "\n",
        "    def __len__(self):\n",
        "        return len(self.data)\n",
        "\n",
        "    def __getitem__(self, index):\n",
        "\n",
        "        # Selecting sentence1 and sentence2 at the specified index in the data frame\n",
        "        sent1 = str(self.data.loc[index, 'sentence1'])\n",
        "        sent2 = str(self.data.loc[index, 'sentence2'])\n",
        "\n",
        "        # Tokenize the pair of sentences to get token ids, attention masks and token type ids\n",
        "        encoded_pair = self.tokenizer(sent1, sent2, \n",
        "                                      padding='max_length',  # Pad to max_length\n",
        "                                      truncation=True,  # Truncate to max_length\n",
        "                                      max_length=self.maxlen,  \n",
        "                                      return_tensors='pt')  # Return torch.Tensor objects\n",
        "        \n",
        "        token_ids = encoded_pair['input_ids'].squeeze(0)  # tensor of token ids\n",
        "        attn_masks = encoded_pair['attention_mask'].squeeze(0)  # binary tensor with \"0\" for padded values and \"1\" for the other values\n",
        "        token_type_ids = encoded_pair['token_type_ids'].squeeze(0)  # binary tensor with \"0\" for the 1st sentence tokens & \"1\" for the 2nd sentence tokens\n",
        "\n",
        "        if self.with_labels:  # True if the dataset has labels\n",
        "            label = self.data.loc[index, 'label']\n",
        "            return token_ids, attn_masks, token_type_ids, label  \n",
        "        else:\n",
        "            return token_ids, attn_masks, token_type_ids"
      ],
      "metadata": {
        "id": "qu_iawX2NCWj"
      },
      "execution_count": 14,
      "outputs": []
    },
    {
      "cell_type": "markdown",
      "source": [
        "**SentencePairClassifier**\n",
        "Using a nn.Linear for classification layer"
      ],
      "metadata": {
        "id": "6-1i18xDNiAC"
      }
    },
    {
      "cell_type": "code",
      "source": [
        "class SentencePairClassifier(nn.Module):\n",
        "\n",
        "    def __init__(self, bert_model=\"bert-base-cased\", freeze_bert=False):\n",
        "        super(SentencePairClassifier, self).__init__()\n",
        "        #  Instantiating BERT-based model object\n",
        "        self.bert_layer = BertModel.from_pretrained(bert_model, return_dict=False)\n",
        "        hidden_size = 768\n",
        "\n",
        "        # Freeze bert layers and only train the classification layer weights\n",
        "        if freeze_bert:\n",
        "            for p in self.bert_layer.parameters():\n",
        "                p.requires_grad = False\n",
        "\n",
        "        # Classification layer\n",
        "        self.cls_layer = nn.Linear(hidden_size, 1)\n",
        "\n",
        "        self.dropout = nn.Dropout(p=0.1)\n",
        "\n",
        "    @autocast()  # run in mixed precision\n",
        "    def forward(self, input_ids, attn_masks, token_type_ids):\n",
        "        '''\n",
        "        Inputs:\n",
        "            -input_ids : Tensor  containing token ids\n",
        "            -attn_masks : Tensor containing attention masks to be used to focus on non-padded values\n",
        "            -token_type_ids : Tensor containing token type ids to be used to identify sentence1 and sentence2\n",
        "        '''\n",
        "\n",
        "        # Feeding the inputs to the BERT-based model to obtain contextualized representations\n",
        "        # cont_reps, pooler_output = self.bert_layer(input_ids, attn_masks, token_type_ids)\n",
        "        cont_reps, pooler_output = self.bert_layer(input_ids, attn_masks, token_type_ids)\n",
        "\n",
        "        # Feeding to the classifier layer the last layer hidden-state of the [CLS] token further processed by a\n",
        "        # Linear Layer and a Tanh activation. The Linear layer weights were trained from the sentence order prediction (ALBERT) or next sentence prediction (BERT)\n",
        "        # objective during pre-training.\n",
        "        logits = self.cls_layer(self.dropout(pooler_output))\n",
        "        \n",
        "        return logits"
      ],
      "metadata": {
        "id": "igeFXgAPNZGN"
      },
      "execution_count": 15,
      "outputs": []
    },
    {
      "cell_type": "code",
      "source": [
        "def set_seed(seed):\n",
        "    \"\"\" Set all seeds to make results reproducible \"\"\"\n",
        "    torch.manual_seed(seed)\n",
        "    torch.cuda.manual_seed_all(seed)\n",
        "    torch.backends.cudnn.deterministic = True\n",
        "    torch.backends.cudnn.benchmark = False\n",
        "    np.random.seed(seed)\n",
        "    random.seed(seed)\n",
        "    os.environ['PYTHONHASHSEED'] = str(seed)\n",
        "    \n",
        "\n",
        "def evaluate_loss(net, device, criterion, dataloader):\n",
        "    net.eval()\n",
        "\n",
        "    mean_loss = 0\n",
        "    count = 0\n",
        "\n",
        "    with torch.no_grad():\n",
        "        for it, (seq, attn_masks, token_type_ids, labels) in enumerate(tqdm(dataloader)):\n",
        "            seq, attn_masks, token_type_ids, labels = \\\n",
        "                seq.to(device), attn_masks.to(device), token_type_ids.to(device), labels.to(device)\n",
        "            logits = net(seq, attn_masks, token_type_ids)\n",
        "            mean_loss += criterion(logits.squeeze(-1), labels.float()).item()\n",
        "            count += 1\n",
        "\n",
        "    return mean_loss / count"
      ],
      "metadata": {
        "id": "i1F8pLroNbCf"
      },
      "execution_count": 16,
      "outputs": []
    },
    {
      "cell_type": "code",
      "source": [
        "print(\"Creation of the models' folder...\")\n",
        "!mkdir models"
      ],
      "metadata": {
        "colab": {
          "base_uri": "https://localhost:8080/"
        },
        "id": "XmhnX10UNdxx",
        "outputId": "5134983f-33d3-4d86-8a65-076d822aa8c2"
      },
      "execution_count": 17,
      "outputs": [
        {
          "output_type": "stream",
          "name": "stdout",
          "text": [
            "Creation of the models' folder...\n"
          ]
        }
      ]
    },
    {
      "cell_type": "code",
      "source": [
        "def train_bert(net, criterion, opti, lr, lr_scheduler, train_loader, val_loader, epochs, iters_to_accumulate):\n",
        "\n",
        "    best_loss = np.Inf\n",
        "    best_ep = 1\n",
        "    nb_iterations = len(train_loader)\n",
        "    print_every = nb_iterations // 5  # print the training loss 5 times per epoch\n",
        "    iters = []\n",
        "    train_losses = []\n",
        "    val_losses = []\n",
        "\n",
        "    scaler = GradScaler()\n",
        "\n",
        "    for ep in range(epochs):\n",
        "\n",
        "        net.train()\n",
        "        running_loss = 0.0\n",
        "        for it, (seq, attn_masks, token_type_ids, labels) in enumerate(tqdm(train_loader)):\n",
        "\n",
        "            # Converting to cuda tensors\n",
        "            seq, attn_masks, token_type_ids, labels = \\\n",
        "                seq.to(device), attn_masks.to(device), token_type_ids.to(device), labels.to(device)\n",
        "    \n",
        "            # Enables autocasting for the forward pass (model + loss)\n",
        "            with autocast():\n",
        "                # Obtaining the logits from the model\n",
        "                logits = net(seq, attn_masks, token_type_ids)\n",
        "\n",
        "                # Computing loss\n",
        "                loss = criterion(logits.squeeze(-1), labels.float())\n",
        "                loss = loss / iters_to_accumulate  # Normalize the loss because it is averaged\n",
        "\n",
        "            # Backpropagating the gradients\n",
        "            # Scales loss.  Calls backward() on scaled loss to create scaled gradients.\n",
        "            scaler.scale(loss).backward()\n",
        "\n",
        "            if (it + 1) % iters_to_accumulate == 0:\n",
        "                # Optimization step\n",
        "                # scaler.step() first unscales the gradients of the optimizer's assigned params.\n",
        "                # If these gradients do not contain infs or NaNs, opti.step() is then called,\n",
        "                # otherwise, opti.step() is skipped.\n",
        "                scaler.step(opti)\n",
        "                # Updates the scale for next iteration.\n",
        "                scaler.update()\n",
        "                # Adjust the learning rate based on the number of iterations.\n",
        "                lr_scheduler.step()\n",
        "                # Clear gradients\n",
        "                opti.zero_grad()\n",
        "\n",
        "\n",
        "            running_loss += loss.item()\n",
        "\n",
        "            if (it + 1) % print_every == 0:  # Print training loss information\n",
        "                print()\n",
        "                print(\"Iteration {}/{} of epoch {} complete. Loss : {} \"\n",
        "                      .format(it+1, nb_iterations, ep+1, running_loss / print_every))\n",
        "\n",
        "                running_loss = 0.0\n",
        "\n",
        "\n",
        "        val_loss = evaluate_loss(net, device, criterion, val_loader)  # Compute validation loss\n",
        "        print()\n",
        "        print(\"Epoch {} complete! Validation Loss : {}\".format(ep+1, val_loss))\n",
        "\n",
        "        if val_loss < best_loss:\n",
        "            print(\"Best validation loss improved from {} to {}\".format(best_loss, val_loss))\n",
        "            print()\n",
        "            net_copy = copy.deepcopy(net)  # save a copy of the model\n",
        "            best_loss = val_loss\n",
        "            best_ep = ep + 1\n",
        "\n",
        "    # Saving the model\n",
        "    path_to_model='models/{}_lr_{}_val_loss_{}_ep_{}.pt'.format(bert_model, lr, round(best_loss, 5), best_ep)\n",
        "    torch.save(net_copy.state_dict(), path_to_model)\n",
        "    print(\"The model has been saved in {}\".format(path_to_model))\n",
        "\n",
        "    del loss\n",
        "    torch.cuda.empty_cache()"
      ],
      "metadata": {
        "id": "Zj7zPC3bNev6"
      },
      "execution_count": 18,
      "outputs": []
    },
    {
      "cell_type": "markdown",
      "source": [
        "**Parameters**"
      ],
      "metadata": {
        "id": "n9WGFH9xOCyf"
      }
    },
    {
      "cell_type": "code",
      "source": [
        "bert_model = \"bert-base-cased\"\n",
        "freeze_bert = False  # if True, freeze the encoder weights and only update the classification layer weights\n",
        "maxlen = 256\n",
        "bs = 8\n",
        "iters_to_accumulate = 2  # the gradient accumulation adds gradients over an effective batch of size : bs * iters_to_accumulate. If set to \"1\", you get the usual batch size\n",
        "lr = 2e-5\n",
        "epochs = 4"
      ],
      "metadata": {
        "id": "X8-Icbe_N7kT"
      },
      "execution_count": 19,
      "outputs": []
    },
    {
      "cell_type": "markdown",
      "source": [
        "# Training and Validation"
      ],
      "metadata": {
        "id": "i3K7Iv2yOFNz"
      }
    },
    {
      "cell_type": "code",
      "source": [
        "#  Set all seeds to make reproducible results\n",
        "set_seed(1)\n",
        "\n",
        "# Creating instances of training and validation set\n",
        "print(\"Reading training data...\")\n",
        "train_set = CustomDataset(df_train, maxlen, bert_model)\n",
        "print(\"Reading validation data...\")\n",
        "val_set = CustomDataset(df_val, maxlen, bert_model)\n",
        "# Creating instances of training and validation dataloaders\n",
        "train_loader = DataLoader(train_set, batch_size=bs, num_workers=5,shuffle=True)\n",
        "val_loader = DataLoader(val_set, batch_size=bs, num_workers=5,shuffle=True)\n",
        "\n",
        "\n",
        "device = torch.device(\"cuda:0\" if torch.cuda.is_available() else \"cpu\")\n",
        "net = SentencePairClassifier(bert_model, freeze_bert=freeze_bert)\n",
        "\n",
        "if torch.cuda.device_count() > 1:  # if multiple GPUs\n",
        "    print(\"Let's use\", torch.cuda.device_count(), \"GPUs!\")\n",
        "    net = nn.DataParallel(net)\n",
        "\n",
        "net.to(device)\n",
        "\n",
        "criterion = nn.BCEWithLogitsLoss()\n",
        "opti = AdamW(net.parameters(), lr=lr, weight_decay=1e-2)\n",
        "num_warmup_steps = 0 # The number of steps for the warmup phase.\n",
        "num_training_steps = epochs * len(train_loader)  # The total number of training steps\n",
        "t_total = (len(train_loader) // iters_to_accumulate) * epochs  # Necessary to take into account Gradient accumulation\n",
        "lr_scheduler = get_linear_schedule_with_warmup(optimizer=opti, num_warmup_steps=num_warmup_steps, num_training_steps=t_total)\n",
        "\n",
        "train_bert(net, criterion, opti, lr, lr_scheduler, train_loader, val_loader, epochs, iters_to_accumulate)"
      ],
      "metadata": {
        "colab": {
          "base_uri": "https://localhost:8080/",
          "height": 1000,
          "referenced_widgets": [
            "5b4dae37c3b2426cae246f841aff96d4",
            "eaf8851d15f344259909b75141a6fbf4",
            "651a4bdc363a4428a77481ca0dc46c27",
            "9b738f3eee454178aa58f749cf00ea57",
            "94e03aefa073477997fa0e3d20cecc3d",
            "3e9b4536b5eb4081a446b0fa55ea6943",
            "f00f281865ad4470970181ee0d81f278",
            "f167e34407684350a77b1db60e8c7fac",
            "7680cc1ba7454903a18e4bb779f174b8",
            "af822a481d1048d6ae0f20dc1b86aaf1",
            "18e5f27efaeb4c7dbf0d9ee0496f09f0",
            "1a51072218f34926957b77caa754e4ec",
            "0ce4eeb5d61046cbbc0ca3fe93652928",
            "2e527afe330d4044b4a8120990042f7a",
            "6569c6def529447da05abf0ae6d760fe",
            "8937e4de63854031885c7645c1f32fb1",
            "590c79e5089b4e8aaa92386cfcc015fb",
            "8c25d3720b8f49b796521ec6970d2899",
            "51467ddbb82d4f08b0d11c6179d237fc",
            "929c32308ef84050ad05c6d05eaa0f32",
            "ce6f35d6881741bc9257491fb47b0552",
            "4c1ea07072f14aa6b0eaa11e65327b0c",
            "1fd93beda3da4cbb9466e22140b4b02d",
            "9791c0ecf79b41238970b50ce39b89da",
            "d4662426e94a43c89e67c8ef10e0774e",
            "a06f683b43e644ea899c284bbac1c963",
            "b0ec0a33115e4425bd817dabf57322ed",
            "a584144b3b27431c925d67544302e394",
            "88abba63484246b4a64ed301d9407a3f",
            "684d130afb3b41c4981e3ba5b261fa93",
            "986aa3331f304c1dbf9d46f92a5a057d",
            "8223f1fea60640bb8743f32e1d7787ef",
            "82f164b18720444f8c630f6ecd432dea"
          ]
        },
        "id": "TbusXB0mOCb0",
        "outputId": "bc7e6678-5224-4b7f-b0a4-04d620669286"
      },
      "execution_count": 20,
      "outputs": [
        {
          "output_type": "stream",
          "name": "stdout",
          "text": [
            "Reading training data...\n"
          ]
        },
        {
          "output_type": "display_data",
          "data": {
            "application/vnd.jupyter.widget-view+json": {
              "model_id": "5b4dae37c3b2426cae246f841aff96d4",
              "version_minor": 0,
              "version_major": 2
            },
            "text/plain": [
              "Downloading:   0%|          | 0.00/213k [00:00<?, ?B/s]"
            ]
          },
          "metadata": {}
        },
        {
          "output_type": "stream",
          "name": "stdout",
          "text": [
            "Reading validation data...\n"
          ]
        },
        {
          "output_type": "stream",
          "name": "stderr",
          "text": [
            "/usr/local/lib/python3.7/dist-packages/torch/utils/data/dataloader.py:481: UserWarning: This DataLoader will create 5 worker processes in total. Our suggested max number of worker in current system is 2, which is smaller than what this DataLoader is going to create. Please be aware that excessive worker creation might get DataLoader running slow or even freeze, lower the worker number to avoid potential slowness/freeze if necessary.\n",
            "  cpuset_checked))\n"
          ]
        },
        {
          "output_type": "display_data",
          "data": {
            "application/vnd.jupyter.widget-view+json": {
              "model_id": "1a51072218f34926957b77caa754e4ec",
              "version_minor": 0,
              "version_major": 2
            },
            "text/plain": [
              "Downloading:   0%|          | 0.00/433 [00:00<?, ?B/s]"
            ]
          },
          "metadata": {}
        },
        {
          "output_type": "display_data",
          "data": {
            "application/vnd.jupyter.widget-view+json": {
              "model_id": "1fd93beda3da4cbb9466e22140b4b02d",
              "version_minor": 0,
              "version_major": 2
            },
            "text/plain": [
              "Downloading:   0%|          | 0.00/436M [00:00<?, ?B/s]"
            ]
          },
          "metadata": {}
        },
        {
          "output_type": "stream",
          "name": "stderr",
          "text": [
            " 20%|██        | 28/140 [00:40<02:38,  1.42s/it]"
          ]
        },
        {
          "output_type": "stream",
          "name": "stdout",
          "text": [
            "\n",
            "Iteration 28/140 of epoch 1 complete. Loss : 0.32578730476754053 \n"
          ]
        },
        {
          "output_type": "stream",
          "name": "stderr",
          "text": [
            " 40%|████      | 56/140 [01:19<01:58,  1.41s/it]"
          ]
        },
        {
          "output_type": "stream",
          "name": "stdout",
          "text": [
            "\n",
            "Iteration 56/140 of epoch 1 complete. Loss : 0.23694418663425104 \n"
          ]
        },
        {
          "output_type": "stream",
          "name": "stderr",
          "text": [
            " 60%|██████    | 84/140 [01:58<01:18,  1.40s/it]"
          ]
        },
        {
          "output_type": "stream",
          "name": "stdout",
          "text": [
            "\n",
            "Iteration 84/140 of epoch 1 complete. Loss : 0.20224477164447308 \n"
          ]
        },
        {
          "output_type": "stream",
          "name": "stderr",
          "text": [
            " 80%|████████  | 112/140 [02:37<00:39,  1.40s/it]"
          ]
        },
        {
          "output_type": "stream",
          "name": "stdout",
          "text": [
            "\n",
            "Iteration 112/140 of epoch 1 complete. Loss : 0.17860983977360384 \n"
          ]
        },
        {
          "output_type": "stream",
          "name": "stderr",
          "text": [
            "100%|██████████| 140/140 [03:16<00:00,  1.40s/it]\n"
          ]
        },
        {
          "output_type": "stream",
          "name": "stdout",
          "text": [
            "\n",
            "Iteration 140/140 of epoch 1 complete. Loss : 0.19933875517121383 \n"
          ]
        },
        {
          "output_type": "stream",
          "name": "stderr",
          "text": [
            "100%|██████████| 47/47 [00:22<00:00,  2.10it/s]\n"
          ]
        },
        {
          "output_type": "stream",
          "name": "stdout",
          "text": [
            "\n",
            "Epoch 1 complete! Validation Loss : 0.386216809140875\n",
            "Best validation loss improved from inf to 0.386216809140875\n",
            "\n"
          ]
        },
        {
          "output_type": "stream",
          "name": "stderr",
          "text": [
            " 20%|██        | 28/140 [00:39<02:36,  1.40s/it]"
          ]
        },
        {
          "output_type": "stream",
          "name": "stdout",
          "text": [
            "\n",
            "Iteration 28/140 of epoch 2 complete. Loss : 0.17939407032515323 \n"
          ]
        },
        {
          "output_type": "stream",
          "name": "stderr",
          "text": [
            " 40%|████      | 56/140 [01:18<01:57,  1.40s/it]"
          ]
        },
        {
          "output_type": "stream",
          "name": "stdout",
          "text": [
            "\n",
            "Iteration 56/140 of epoch 2 complete. Loss : 0.1907969204975026 \n"
          ]
        },
        {
          "output_type": "stream",
          "name": "stderr",
          "text": [
            " 60%|██████    | 84/140 [01:57<01:18,  1.40s/it]"
          ]
        },
        {
          "output_type": "stream",
          "name": "stdout",
          "text": [
            "\n",
            "Iteration 84/140 of epoch 2 complete. Loss : 0.19108887442520686 \n"
          ]
        },
        {
          "output_type": "stream",
          "name": "stderr",
          "text": [
            " 80%|████████  | 112/140 [02:36<00:39,  1.40s/it]"
          ]
        },
        {
          "output_type": "stream",
          "name": "stdout",
          "text": [
            "\n",
            "Iteration 112/140 of epoch 2 complete. Loss : 0.1781511695257255 \n"
          ]
        },
        {
          "output_type": "stream",
          "name": "stderr",
          "text": [
            "100%|██████████| 140/140 [03:15<00:00,  1.40s/it]\n"
          ]
        },
        {
          "output_type": "stream",
          "name": "stdout",
          "text": [
            "\n",
            "Iteration 140/140 of epoch 2 complete. Loss : 0.1829472715035081 \n"
          ]
        },
        {
          "output_type": "stream",
          "name": "stderr",
          "text": [
            "100%|██████████| 47/47 [00:22<00:00,  2.10it/s]\n"
          ]
        },
        {
          "output_type": "stream",
          "name": "stdout",
          "text": [
            "\n",
            "Epoch 2 complete! Validation Loss : 0.375123882547338\n",
            "Best validation loss improved from 0.386216809140875 to 0.375123882547338\n",
            "\n"
          ]
        },
        {
          "output_type": "stream",
          "name": "stderr",
          "text": [
            " 20%|██        | 28/140 [00:39<02:37,  1.40s/it]"
          ]
        },
        {
          "output_type": "stream",
          "name": "stdout",
          "text": [
            "\n",
            "Iteration 28/140 of epoch 3 complete. Loss : 0.16434288583695889 \n"
          ]
        },
        {
          "output_type": "stream",
          "name": "stderr",
          "text": [
            " 40%|████      | 56/140 [01:18<01:58,  1.41s/it]"
          ]
        },
        {
          "output_type": "stream",
          "name": "stdout",
          "text": [
            "\n",
            "Iteration 56/140 of epoch 3 complete. Loss : 0.1733833895996213 \n"
          ]
        },
        {
          "output_type": "stream",
          "name": "stderr",
          "text": [
            " 60%|██████    | 84/140 [01:57<01:18,  1.40s/it]"
          ]
        },
        {
          "output_type": "stream",
          "name": "stdout",
          "text": [
            "\n",
            "Iteration 84/140 of epoch 3 complete. Loss : 0.168927266794656 \n"
          ]
        },
        {
          "output_type": "stream",
          "name": "stderr",
          "text": [
            " 80%|████████  | 112/140 [02:36<00:39,  1.40s/it]"
          ]
        },
        {
          "output_type": "stream",
          "name": "stdout",
          "text": [
            "\n",
            "Iteration 112/140 of epoch 3 complete. Loss : 0.1793536502601845 \n"
          ]
        },
        {
          "output_type": "stream",
          "name": "stderr",
          "text": [
            "100%|██████████| 140/140 [03:15<00:00,  1.39s/it]\n"
          ]
        },
        {
          "output_type": "stream",
          "name": "stdout",
          "text": [
            "\n",
            "Iteration 140/140 of epoch 3 complete. Loss : 0.17323883835758483 \n"
          ]
        },
        {
          "output_type": "stream",
          "name": "stderr",
          "text": [
            "100%|██████████| 47/47 [00:22<00:00,  2.10it/s]\n"
          ]
        },
        {
          "output_type": "stream",
          "name": "stdout",
          "text": [
            "\n",
            "Epoch 3 complete! Validation Loss : 0.3687236917779801\n",
            "Best validation loss improved from 0.375123882547338 to 0.3687236917779801\n",
            "\n"
          ]
        },
        {
          "output_type": "stream",
          "name": "stderr",
          "text": [
            " 20%|██        | 28/140 [00:39<02:37,  1.41s/it]"
          ]
        },
        {
          "output_type": "stream",
          "name": "stdout",
          "text": [
            "\n",
            "Iteration 28/140 of epoch 4 complete. Loss : 0.15107960706310614 \n"
          ]
        },
        {
          "output_type": "stream",
          "name": "stderr",
          "text": [
            " 40%|████      | 56/140 [01:18<01:57,  1.40s/it]"
          ]
        },
        {
          "output_type": "stream",
          "name": "stdout",
          "text": [
            "\n",
            "Iteration 56/140 of epoch 4 complete. Loss : 0.1609152832201549 \n"
          ]
        },
        {
          "output_type": "stream",
          "name": "stderr",
          "text": [
            " 60%|██████    | 84/140 [01:57<01:18,  1.40s/it]"
          ]
        },
        {
          "output_type": "stream",
          "name": "stdout",
          "text": [
            "\n",
            "Iteration 84/140 of epoch 4 complete. Loss : 0.15804206380354507 \n"
          ]
        },
        {
          "output_type": "stream",
          "name": "stderr",
          "text": [
            " 80%|████████  | 112/140 [02:36<00:39,  1.40s/it]"
          ]
        },
        {
          "output_type": "stream",
          "name": "stdout",
          "text": [
            "\n",
            "Iteration 112/140 of epoch 4 complete. Loss : 0.14794190307813032 \n"
          ]
        },
        {
          "output_type": "stream",
          "name": "stderr",
          "text": [
            "100%|██████████| 140/140 [03:15<00:00,  1.40s/it]\n"
          ]
        },
        {
          "output_type": "stream",
          "name": "stdout",
          "text": [
            "\n",
            "Iteration 140/140 of epoch 4 complete. Loss : 0.1271812704923962 \n"
          ]
        },
        {
          "output_type": "stream",
          "name": "stderr",
          "text": [
            "100%|██████████| 47/47 [00:22<00:00,  2.10it/s]\n"
          ]
        },
        {
          "output_type": "stream",
          "name": "stdout",
          "text": [
            "\n",
            "Epoch 4 complete! Validation Loss : 0.3512336974765392\n",
            "Best validation loss improved from 0.3687236917779801 to 0.3512336974765392\n",
            "\n",
            "The model has been saved in models/bert-base-cased_lr_2e-05_val_loss_0.35123_ep_4.pt\n"
          ]
        }
      ]
    },
    {
      "cell_type": "markdown",
      "source": [
        "# Predictions"
      ],
      "metadata": {
        "id": "_PwZSMYwOPIM"
      }
    },
    {
      "cell_type": "code",
      "source": [
        "def get_probs_from_logits(logits):\n",
        "    \"\"\"\n",
        "    Converts a tensor of logits into an array of probabilities by applying the sigmoid function\n",
        "    \"\"\"\n",
        "    probs = torch.sigmoid(logits.unsqueeze(-1))\n",
        "    return probs.detach().cpu().numpy()\n",
        "\n",
        "def test_prediction(net, device, dataloader, with_labels=True, result_file=\"results/output.txt\"):\n",
        "    \"\"\"\n",
        "    Predict the probabilities on a dataset with or without labels and print the result in a file\n",
        "    \"\"\"\n",
        "    net.eval()\n",
        "    w = open(result_file, 'w')\n",
        "    probs_all = []\n",
        "\n",
        "    with torch.no_grad():\n",
        "        if with_labels:\n",
        "            for seq, attn_masks, token_type_ids, _ in tqdm(dataloader):\n",
        "                seq, attn_masks, token_type_ids = seq.to(device), attn_masks.to(device), token_type_ids.to(device)\n",
        "                logits = net(seq, attn_masks, token_type_ids)\n",
        "                probs = get_probs_from_logits(logits.squeeze(-1)).squeeze(-1)\n",
        "                probs_all += probs.tolist()\n",
        "        else:\n",
        "            for seq, attn_masks, token_type_ids in tqdm(dataloader):\n",
        "                seq, attn_masks, token_type_ids = seq.to(device), attn_masks.to(device), token_type_ids.to(device)\n",
        "                logits = net(seq, attn_masks, token_type_ids)\n",
        "                probs = get_probs_from_logits(logits.squeeze(-1)).squeeze(-1)\n",
        "                probs_all += probs.tolist()\n",
        "\n",
        "    w.writelines(str(prob)+'\\n' for prob in probs_all)\n",
        "    w.close()"
      ],
      "metadata": {
        "id": "O_0lRJHfOISr"
      },
      "execution_count": 21,
      "outputs": []
    },
    {
      "cell_type": "code",
      "source": [
        "path_to_model = 'models/bert-base-cased_lr_2e-05_val_loss_0.35123_ep_4.pt'  \n",
        "\n",
        "path_to_output_file = 'results/output.txt'\n",
        "\n",
        "print(\"Reading test data...\")\n",
        "test_set = CustomDataset(df_test, maxlen, bert_model)\n",
        "test_loader = DataLoader(test_set, batch_size=bs, num_workers=5)\n",
        "\n",
        "model = SentencePairClassifier(bert_model)\n",
        "if torch.cuda.device_count() > 1:  # if multiple GPUs\n",
        "    print(\"Let's use\", torch.cuda.device_count(), \"GPUs!\")\n",
        "    model = nn.DataParallel(model)\n",
        "\n",
        "print()\n",
        "print(\"Loading the weights of the model...\")\n",
        "model.load_state_dict(torch.load(path_to_model))\n",
        "model.to(device)\n",
        "\n",
        "print(\"Predicting on test data...\")\n",
        "test_prediction(net=model, device=device, dataloader=test_loader, with_labels=True,  # set the with_labels parameter to False if your want to get predictions on a dataset without labels\n",
        "                result_file=path_to_output_file)\n",
        "print()\n",
        "print(\"Predictions are available in : {}\".format(path_to_output_file))"
      ],
      "metadata": {
        "colab": {
          "base_uri": "https://localhost:8080/"
        },
        "id": "V-XfaYUAOVXu",
        "outputId": "608bcb35-ffdb-4d65-8c04-a09ca64d950a"
      },
      "execution_count": 23,
      "outputs": [
        {
          "output_type": "stream",
          "name": "stdout",
          "text": [
            "Reading test data...\n"
          ]
        },
        {
          "output_type": "stream",
          "name": "stderr",
          "text": [
            "/usr/local/lib/python3.7/dist-packages/torch/utils/data/dataloader.py:481: UserWarning: This DataLoader will create 5 worker processes in total. Our suggested max number of worker in current system is 2, which is smaller than what this DataLoader is going to create. Please be aware that excessive worker creation might get DataLoader running slow or even freeze, lower the worker number to avoid potential slowness/freeze if necessary.\n",
            "  cpuset_checked))\n"
          ]
        },
        {
          "output_type": "stream",
          "name": "stdout",
          "text": [
            "\n",
            "Loading the weights of the model...\n",
            "Predicting on test data...\n"
          ]
        },
        {
          "output_type": "stream",
          "name": "stderr",
          "text": [
            "100%|██████████| 38/38 [00:18<00:00,  2.08it/s]"
          ]
        },
        {
          "output_type": "stream",
          "name": "stdout",
          "text": [
            "\n",
            "Predictions are available in : results/output.txt\n"
          ]
        },
        {
          "output_type": "stream",
          "name": "stderr",
          "text": [
            "\n"
          ]
        }
      ]
    },
    {
      "cell_type": "markdown",
      "source": [
        "# Evaluation"
      ],
      "metadata": {
        "id": "T1W0lHGkOXFO"
      }
    },
    {
      "cell_type": "code",
      "source": [
        "path_to_output_file = 'results/output.txt'  # path to the file with prediction probabilities\n",
        "\n",
        "labels_test = df_test['label']  # true labels\n",
        "\n",
        "probs_test = pd.read_csv(path_to_output_file, header=None)[0]  # prediction probabilities\n",
        "threshold = 0.5   # you can adjust this threshold for your own dataset\n",
        "preds_test=(probs_test>=threshold).astype('uint8') # predicted labels using the above fixed threshold\n",
        "\n",
        "metric = load_metric(\"glue\", \"mrpc\")"
      ],
      "metadata": {
        "colab": {
          "base_uri": "https://localhost:8080/",
          "height": 225,
          "referenced_widgets": [
            "62947d23b74f41caa8c60ee77c6b10a1",
            "833e27a55d614a00a6760b43a84ed72b",
            "6121e807badf45f5928031a9aefa4f86",
            "2f98cf16c5324f0c83934ab9c4a1f93f",
            "b9184e9bd7d24312ac1788404cdce890",
            "41e873467761420094d00abe8b6730cd",
            "67a8f780baa54afb934eb61ba0d2f9ba",
            "6a41cf49c580473db587ad59e2b71ad0",
            "ab83b4a3c79f4564a4f37b20806ba746",
            "bcf3ef9ee0a2499290eb58d45283690b",
            "68eb5f970a344d2fbaa07f1ccf5f4347"
          ]
        },
        "id": "LCCrA1lCPBPR",
        "outputId": "72b05214-4fc2-4c15-dde2-96625f151fc0"
      },
      "execution_count": 24,
      "outputs": [
        {
          "output_type": "stream",
          "name": "stderr",
          "text": [
            "https://raw.githubusercontent.com/huggingface/datasets/1.0.1/metrics/glue/glue.py not found in cache or force_download set to True, downloading to /root/.cache/huggingface/datasets/tmpvswvjvp6\n"
          ]
        },
        {
          "output_type": "display_data",
          "data": {
            "application/vnd.jupyter.widget-view+json": {
              "model_id": "62947d23b74f41caa8c60ee77c6b10a1",
              "version_minor": 0,
              "version_major": 2
            },
            "text/plain": [
              "Downloading:   0%|          | 0.00/1.58k [00:00<?, ?B/s]"
            ]
          },
          "metadata": {}
        },
        {
          "output_type": "stream",
          "name": "stderr",
          "text": [
            "storing https://raw.githubusercontent.com/huggingface/datasets/1.0.1/metrics/glue/glue.py in cache at /root/.cache/huggingface/datasets/50d5843bbbbd80c47809bc76a5b03c0fd87d068509b0060103ae8182e4f5cfb9.ec871b06a00118091ec63eff0a641fddcb8d3c7cd52e855bbb2be28944df4b82.py\n",
            "creating metadata file for /root/.cache/huggingface/datasets/50d5843bbbbd80c47809bc76a5b03c0fd87d068509b0060103ae8182e4f5cfb9.ec871b06a00118091ec63eff0a641fddcb8d3c7cd52e855bbb2be28944df4b82.py\n",
            "Checking /root/.cache/huggingface/datasets/50d5843bbbbd80c47809bc76a5b03c0fd87d068509b0060103ae8182e4f5cfb9.ec871b06a00118091ec63eff0a641fddcb8d3c7cd52e855bbb2be28944df4b82.py for additional imports.\n",
            "Creating main folder for metric https://raw.githubusercontent.com/huggingface/datasets/1.0.1/metrics/glue/glue.py at /root/.cache/huggingface/modules/datasets_modules/metrics/glue\n",
            "Creating specific version folder for metric https://raw.githubusercontent.com/huggingface/datasets/1.0.1/metrics/glue/glue.py at /root/.cache/huggingface/modules/datasets_modules/metrics/glue/19382a5758e4e23ecb68fc5a724e719f425492cd21d2aba0db5053ec14cac0d6\n",
            "Copying script file from https://raw.githubusercontent.com/huggingface/datasets/1.0.1/metrics/glue/glue.py to /root/.cache/huggingface/modules/datasets_modules/metrics/glue/19382a5758e4e23ecb68fc5a724e719f425492cd21d2aba0db5053ec14cac0d6/glue.py\n",
            "Couldn't find dataset infos file at https://raw.githubusercontent.com/huggingface/datasets/1.0.1/metrics/glue/dataset_infos.json\n",
            "Creating metadata file for metric https://raw.githubusercontent.com/huggingface/datasets/1.0.1/metrics/glue/glue.py at /root/.cache/huggingface/modules/datasets_modules/metrics/glue/19382a5758e4e23ecb68fc5a724e719f425492cd21d2aba0db5053ec14cac0d6/glue.json\n"
          ]
        }
      ]
    },
    {
      "cell_type": "code",
      "source": [
        "preds_test"
      ],
      "metadata": {
        "colab": {
          "base_uri": "https://localhost:8080/"
        },
        "id": "3UYu-anxPDt1",
        "outputId": "49302199-401d-4ff0-859d-60dbb85fc287"
      },
      "execution_count": 25,
      "outputs": [
        {
          "output_type": "execute_result",
          "data": {
            "text/plain": [
              "0      0\n",
              "1      0\n",
              "2      1\n",
              "3      0\n",
              "4      0\n",
              "      ..\n",
              "293    0\n",
              "294    0\n",
              "295    0\n",
              "296    1\n",
              "297    0\n",
              "Name: 0, Length: 298, dtype: uint8"
            ]
          },
          "metadata": {},
          "execution_count": 25
        }
      ]
    },
    {
      "cell_type": "code",
      "source": [
        "# Compute the accuracy and F1 scores\n",
        "metric._compute(predictions=preds_test, references=labels_test)"
      ],
      "metadata": {
        "colab": {
          "base_uri": "https://localhost:8080/"
        },
        "id": "OgZfxMY3PF9f",
        "outputId": "30ba92fd-b5ad-4b62-fe41-612d3a1c92b4"
      },
      "execution_count": 26,
      "outputs": [
        {
          "output_type": "execute_result",
          "data": {
            "text/plain": [
              "{'accuracy': 0.8187919463087249, 'f1': 0.8014705882352942}"
            ]
          },
          "metadata": {},
          "execution_count": 26
        }
      ]
    },
    {
      "cell_type": "code",
      "source": [
        ""
      ],
      "metadata": {
        "id": "XgDgB7ibSADo"
      },
      "execution_count": null,
      "outputs": []
    }
  ]
}