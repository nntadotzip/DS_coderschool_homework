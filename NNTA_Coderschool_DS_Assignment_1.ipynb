{
  "nbformat": 4,
  "nbformat_minor": 0,
  "metadata": {
    "colab": {
      "name": "NNTA_Coderschool_DS_Assignment_1.ipynb",
      "version": "0.3.2",
      "provenance": [],
      "collapsed_sections": []
    },
    "kernelspec": {
      "name": "python3",
      "display_name": "Python 3"
    }
  },
  "cells": [
    {
      "cell_type": "markdown",
      "metadata": {
        "id": "jjZG7BNlbWtO",
        "colab_type": "text"
      },
      "source": [
        "![](https://i.imgur.com/0AUxkXt.png)"
      ]
    },
    {
      "cell_type": "markdown",
      "metadata": {
        "id": "jbpQzyjqbflM",
        "colab_type": "text"
      },
      "source": [
        "# Assignment 1 - The Hacker Rank\n",
        "\n",
        "HackerRank is a place where programmers from all over the world come together to solve problems in a wide range of Computer Science domains.\n",
        "\n",
        "As you solve more challenges, you earn points and move up the HackerRank Leaderboard.\n",
        "\n",
        "Looking for a job at an awesome company? You can get hired by solving [challenges](https://www.hackerrank.com/jobs/search)!\n",
        "\n",
        "It's cool. Let's establish your knowledge and fight for glory!\n",
        "\n",
        "But before that let's make it clear that.."
      ]
    },
    {
      "cell_type": "markdown",
      "metadata": {
        "id": "-ndmD4naciAN",
        "colab_type": "text"
      },
      "source": [
        "## Note-taking is IMPORTANT\n",
        "\n",
        "Blog: [Why is note-taking important](https://nickblackbourn.com/blog/why-is-note-taking-important/)\n",
        "\n",
        "Note taking isn’t just important for college students, it’s a valuable life skill.\n",
        "\n",
        "Effective note taking helps you to remember information and aids your understanding of that information. \n",
        "\n",
        "**Notes boost your understanding**\n",
        "\n",
        "By making notes, you force yourself to construct a conceptual mental representation of the ideas you are grappling with. It is this process that helps you comprehend the subject matter you are working with.\n",
        "\n",
        "**Notes are a repository of your thinking**\n",
        "\n",
        "When you need to recall something that you came across a while ago, you can go over the main ideas by looking over your notes. This is why good, comprehensive notes are so useful; they are a catalogue of the best ideas you’ve encountered, and what you thought about them.\n",
        "\n",
        "etc.\n",
        "\n",
        "\n",
        "\n",
        "\n",
        "\n",
        "\n",
        "\n"
      ]
    },
    {
      "cell_type": "markdown",
      "metadata": {
        "id": "IGvKPsdVfX-F",
        "colab_type": "text"
      },
      "source": [
        "## Requirements\n",
        "\n",
        "Pick 10 challenges on HackerRank about SQL and 5 about Python in **easy** level:\n",
        "\n",
        "[HackerRank - Domain SQL](https://www.hackerrank.com/domains/sql?filters%5Bdifficulty%5D%5B%5D=easy&filters%5Bsubdomains%5D%5B%5D=select)\n",
        "\n",
        "[HackerRank - Domain Python](https://www.hackerrank.com/domains/python?filters%5Bdifficulty%5D%5B%5D=easy)\n",
        "\n",
        "For each challenge:\n",
        "\n",
        "* Create a markdown cell first that describes the challenge.\n",
        "* Solve the challenge on HackerRank and copy your solution to a code cell below\n",
        "* (Optional) A short description about how you came up with the solution would be awesome."
      ]
    },
    {
      "cell_type": "markdown",
      "metadata": {
        "id": "higGK1Y5iAea",
        "colab_type": "text"
      },
      "source": [
        "## Example"
      ]
    },
    {
      "cell_type": "markdown",
      "metadata": {
        "id": "D2yU2FYDi4tj",
        "colab_type": "text"
      },
      "source": [
        "### SQL"
      ]
    },
    {
      "cell_type": "markdown",
      "metadata": {
        "id": "gu4DDH7Ki77C",
        "colab_type": "text"
      },
      "source": [
        "\n",
        "#### Problem 1\n",
        "\n",
        "Query all columns for all American cities in **CITY** with populations larger than 100000. The CountryCode for America is USA.\n",
        "\n",
        "**Input Format**\n",
        "\n",
        "The **CITY** table is described as follows:\n",
        "\n",
        "| Field | Type |\n",
        "|:----:|:---:|\n",
        "| ID | NUMBER |\n",
        "| NAME | VARCHAR2(17) |\n",
        "| COUNTRYCODE | VARCHAR2(3) |\n",
        "| DISTRICT | VARCHAR2(20) |\n",
        "| POPULATION | NUMBER |"
      ]
    },
    {
      "cell_type": "code",
      "metadata": {
        "id": "hhAwMjyhbT1b",
        "colab_type": "code",
        "colab": {}
      },
      "source": [
        "# Solution\n",
        "# SELECT * from city WHERE population>100000 AND countrycode='USA';"
      ],
      "execution_count": 0,
      "outputs": []
    },
    {
      "cell_type": "markdown",
      "metadata": {
        "id": "0AxyfiJijJ7T",
        "colab_type": "text"
      },
      "source": [
        "### Python"
      ]
    },
    {
      "cell_type": "markdown",
      "metadata": {
        "id": "PEW8LsB5jLqf",
        "colab_type": "text"
      },
      "source": [
        "#### Problem 1\n",
        "\n",
        "**Task** \n",
        "Given an integer, , perform the following conditional actions:\n",
        "\n",
        "* If `n` is odd, print *Weird*\n",
        "* If `n` is even and in the inclusive range of 2 to 5, print *Not Weird*\n",
        "* If `n` is even and in the inclusive range of 6 to 20, print *Weird*\n",
        "* If `n` is even and greater than 20, print *Not Weird*\n",
        "\n",
        "**Input Format**\n",
        "\n",
        "A single line containing a positive integer, .\n",
        "\n",
        "**Output Format**\n",
        "\n",
        "Print Weird if the number is weird; otherwise, print Not Weird."
      ]
    },
    {
      "cell_type": "code",
      "metadata": {
        "id": "JBOxgw0zjLC2",
        "colab_type": "code",
        "colab": {}
      },
      "source": [
        "n = int(input())\n",
        "\n",
        "if n % 2 == 1:\n",
        "    print('Weird')\n",
        "else:\n",
        "    if (n >= 2) and (n <= 5):\n",
        "        print('Not Weird')\n",
        "    elif (n >= 6) and (n <= 20):\n",
        "        print('Weird')\n",
        "    else:\n",
        "        print('Not Weird')"
      ],
      "execution_count": 0,
      "outputs": []
    },
    {
      "cell_type": "markdown",
      "metadata": {
        "id": "a-Q3VE7YkA9A",
        "colab_type": "text"
      },
      "source": [
        "## Your turn\n",
        "\n",
        "Good luck and have fun!"
      ]
    },
    {
      "cell_type": "markdown",
      "metadata": {
        "id": "la4RTyYvyCxR",
        "colab_type": "text"
      },
      "source": [
        "# **SQL**"
      ]
    },
    {
      "cell_type": "markdown",
      "metadata": {
        "id": "7wMx4pnayKlS",
        "colab_type": "text"
      },
      "source": [
        "**Problem 1: Revising the Select Query I**\n",
        "\n",
        "Query all columns for all American cities in CITY with populations larger than 100000. The CountryCode for America is USA.\n",
        "\n",
        "Input Format\n",
        "\n",
        "\n",
        "The CITY table is described as follows:\n",
        "\n",
        "![alt text](https://s3.amazonaws.com/hr-challenge-images/8137/1449729804-f21d187d0f-CITY.jpg)"
      ]
    },
    {
      "cell_type": "markdown",
      "metadata": {
        "id": "ThUfZheI5D25",
        "colab_type": "text"
      },
      "source": [
        "*Solution* https://www.hackerrank.com/rest/contests/master/challenges/revising-the-select-query/hackers/nnta_zip/download_solution"
      ]
    },
    {
      "cell_type": "code",
      "metadata": {
        "id": "RdkdZgjaj0To",
        "colab_type": "code",
        "colab": {}
      },
      "source": [
        "SELECT * FROM CITY WHERE COUNTRYCODE='USA' AND POPULATION>100000;"
      ],
      "execution_count": 0,
      "outputs": []
    },
    {
      "cell_type": "markdown",
      "metadata": {
        "colab_type": "text",
        "id": "mOcfbbUuyRSj"
      },
      "source": [
        "**Problem 2: Revising the Select Query II**\n",
        "\n",
        "Query the names of all American cities in CITY with populations larger than 120000. The CountryCode for America is USA.\n",
        "\n",
        "Input Format\n",
        "\n",
        "The CITY table is described as follows:\n",
        "\n",
        "![alt text](https://s3.amazonaws.com/hr-challenge-images/8137/1449729804-f21d187d0f-CITY.jpg)"
      ]
    },
    {
      "cell_type": "markdown",
      "metadata": {
        "id": "ubs7kKAB5cxG",
        "colab_type": "text"
      },
      "source": [
        "*Solution*\n",
        "https://www.hackerrank.com/rest/contests/master/challenges/revising-the-select-query-2/hackers/nnta_zip/download_solution"
      ]
    },
    {
      "cell_type": "code",
      "metadata": {
        "id": "TuQ04HVMzSfd",
        "colab_type": "code",
        "colab": {}
      },
      "source": [
        "SELECT NAME FROM CITY WHERE COUNTRYCODE='USA' AND POPULATION>120000;"
      ],
      "execution_count": 0,
      "outputs": []
    },
    {
      "cell_type": "markdown",
      "metadata": {
        "colab_type": "text",
        "id": "ERiKrl_QyRxe"
      },
      "source": [
        "**Problem 3: Select All**\n",
        "\n",
        "Query all columns (attributes) for every row in the CITY table.\n",
        "\n",
        "Input Format\n",
        "\n",
        "The CITY table is described as follows:\n",
        "\n",
        "![alt text](https://s3.amazonaws.com/hr-challenge-images/8137/1449729804-f21d187d0f-CITY.jpg)"
      ]
    },
    {
      "cell_type": "markdown",
      "metadata": {
        "id": "ZdcFOmkb5m0K",
        "colab_type": "text"
      },
      "source": [
        "*Solution*\n",
        "https://www.hackerrank.com/rest/contests/master/challenges/select-all-sql/hackers/nnta_zip/download_solution"
      ]
    },
    {
      "cell_type": "code",
      "metadata": {
        "id": "FzUeI83GzTVu",
        "colab_type": "code",
        "colab": {}
      },
      "source": [
        " SELECT * FROM CITY"
      ],
      "execution_count": 0,
      "outputs": []
    },
    {
      "cell_type": "markdown",
      "metadata": {
        "colab_type": "text",
        "id": "jGtfz3pfyR4q"
      },
      "source": [
        "**Problem 4: Select By ID**\n",
        "\n",
        "Query all columns for a city in CITY with the ID 1661.\n",
        "\n",
        "Input Format\n",
        "\n",
        "The CITY table is described as follows:\n",
        "\n",
        "![alt text](https://s3.amazonaws.com/hr-challenge-images/8137/1449729804-f21d187d0f-CITY.jpg)"
      ]
    },
    {
      "cell_type": "markdown",
      "metadata": {
        "id": "YnYuB2vj5xWG",
        "colab_type": "text"
      },
      "source": [
        "*Solution*\n",
        "https://www.hackerrank.com/rest/contests/master/challenges/select-by-id/hackers/nnta_zip/download_solution"
      ]
    },
    {
      "cell_type": "code",
      "metadata": {
        "id": "TyRBeuixzVx1",
        "colab_type": "code",
        "colab": {}
      },
      "source": [
        "SELECT * FROM CITY WHERE ID=1661;"
      ],
      "execution_count": 0,
      "outputs": []
    },
    {
      "cell_type": "markdown",
      "metadata": {
        "colab_type": "text",
        "id": "MMCEf2dyyR-6"
      },
      "source": [
        "**Problem 5: Japanese Cities' Attributes**\n",
        "\n",
        "Query all attributes of every Japanese city in the CITY table. The COUNTRYCODE for Japan is JPN.\n",
        "\n",
        "Input Format\n",
        "\n",
        "The CITY table is described as follows:\n",
        "\n",
        "![alt text](https://s3.amazonaws.com/hr-challenge-images/8137/1449729804-f21d187d0f-CITY.jpg)"
      ]
    },
    {
      "cell_type": "markdown",
      "metadata": {
        "id": "D9vtLXhS5812",
        "colab_type": "text"
      },
      "source": [
        "*Solution*\n",
        "https://www.hackerrank.com/rest/contests/master/challenges/japanese-cities-attributes/hackers/nnta_zip/download_solution"
      ]
    },
    {
      "cell_type": "code",
      "metadata": {
        "id": "ck0OMKzKzW-z",
        "colab_type": "code",
        "colab": {}
      },
      "source": [
        "  SELECT * FROM CITY WHERE COUNTRYCODE='JPN';"
      ],
      "execution_count": 0,
      "outputs": []
    },
    {
      "cell_type": "markdown",
      "metadata": {
        "colab_type": "text",
        "id": "CKvL-gaeySEz"
      },
      "source": [
        "**Problem 6: Japanese Cities' Names** \n",
        "\n",
        "Query the names of all the Japanese cities in the CITY table. The COUNTRYCODE for Japan is JPN.\n",
        "\n",
        "Input Format\n",
        "\n",
        "The CITY table is described as follows:\n",
        "\n",
        "![alt text](https://s3.amazonaws.com/hr-challenge-images/8137/1449729804-f21d187d0f-CITY.jpg)"
      ]
    },
    {
      "cell_type": "markdown",
      "metadata": {
        "id": "tczW7ROr6Eqd",
        "colab_type": "text"
      },
      "source": [
        "*Solution*\n",
        "https://www.hackerrank.com/rest/contests/master/challenges/japanese-cities-name/hackers/nnta_zip/download_solution"
      ]
    },
    {
      "cell_type": "code",
      "metadata": {
        "id": "OVqMOs2WzXf0",
        "colab_type": "code",
        "colab": {}
      },
      "source": [
        "SELECT NAME FROM CITY WHERE COUNTRYCODE='JPN';"
      ],
      "execution_count": 0,
      "outputs": []
    },
    {
      "cell_type": "markdown",
      "metadata": {
        "colab_type": "text",
        "id": "GGcX-AKsySLC"
      },
      "source": [
        "**Problem 7: Weather Observation Station 1** \n",
        "\n",
        "Query a list of CITY and STATE from the STATION table.\n",
        "\n",
        "Input Format\n",
        "\n",
        "The STATION table is described as follows:\n",
        "\n",
        "\n",
        "![alt text](https://s3.amazonaws.com/hr-challenge-images/9336/1449345840-5f0a551030-Station.jpg)\n",
        "\n",
        "where LAT_N is the northern latitude and LONG_W is the western longitude."
      ]
    },
    {
      "cell_type": "markdown",
      "metadata": {
        "id": "qPZnF65_6LJy",
        "colab_type": "text"
      },
      "source": [
        "*Solution*\n",
        "https://www.hackerrank.com/rest/contests/master/challenges/weather-observation-station-1/hackers/nnta_zip/download_solution"
      ]
    },
    {
      "cell_type": "code",
      "metadata": {
        "id": "acF-TnFtzYHD",
        "colab_type": "code",
        "colab": {}
      },
      "source": [
        "SELECT CITY, STATE FROM STATION"
      ],
      "execution_count": 0,
      "outputs": []
    },
    {
      "cell_type": "markdown",
      "metadata": {
        "colab_type": "text",
        "id": "5CgBJNsWyTF_"
      },
      "source": [
        "**Problem 8: Weather Observation Station 3**\n",
        "\n",
        "Query a list of CITY names from STATION with even ID numbers only. You may print the results in any order, but must exclude duplicates from your answer.\n",
        "\n",
        "Input Format\n",
        "\n",
        "The STATION table is described as follows:\n",
        "\n",
        "\n",
        "![alt text](https://s3.amazonaws.com/hr-challenge-images/9336/1449345840-5f0a551030-Station.jpg)\n",
        "\n",
        "where LAT_N is the northern latitude and LONG_W is the western longitude."
      ]
    },
    {
      "cell_type": "markdown",
      "metadata": {
        "id": "VCRHM0wd6UWR",
        "colab_type": "text"
      },
      "source": [
        "*Solution*\n",
        "https://www.hackerrank.com/rest/contests/master/challenges/weather-observation-station-3/hackers/nnta_zip/download_solution"
      ]
    },
    {
      "cell_type": "code",
      "metadata": {
        "id": "9CkioJHszYrA",
        "colab_type": "code",
        "colab": {}
      },
      "source": [
        "SELECT DISTINCT CITY FROM STATION WHERE MOD(ID,2)=0 ORDER BY CITY ASC;"
      ],
      "execution_count": 0,
      "outputs": []
    },
    {
      "cell_type": "markdown",
      "metadata": {
        "colab_type": "text",
        "id": "Zn-4lRADyTMe"
      },
      "source": [
        "**Problem 9: Weather Observation Station 4**\n",
        "\n",
        "Let *N* be the number of CITY entries in STATION, and let *N'* be the number of distinct CITY names in STATION; query the value of *N - N'* from STATION. In other words, find the difference between the total number of CITY entries in the table and the number of distinct CITY entries in the table.\n",
        "\n",
        "Input Format\n",
        "\n",
        "The STATION table is described as follows:\n",
        "\n",
        "![alt text](https://s3.amazonaws.com/hr-challenge-images/9336/1449345840-5f0a551030-Station.jpg)\n",
        "\n",
        "where LAT_N is the northern latitude and LONG_W is the western longitude."
      ]
    },
    {
      "cell_type": "markdown",
      "metadata": {
        "id": "IbEdYn8_6dKf",
        "colab_type": "text"
      },
      "source": [
        "*Solution*\n",
        "https://www.hackerrank.com/rest/contests/master/challenges/weather-observation-station-4/hackers/nnta_zip/download_solution"
      ]
    },
    {
      "cell_type": "code",
      "metadata": {
        "id": "IUkUDWU6zZON",
        "colab_type": "code",
        "colab": {}
      },
      "source": [
        "SELECT COUNT(CITY) - COUNT(DISTINCT CITY) FROM STATION;"
      ],
      "execution_count": 0,
      "outputs": []
    },
    {
      "cell_type": "markdown",
      "metadata": {
        "colab_type": "text",
        "id": "V3L1c9Q1yTSJ"
      },
      "source": [
        "**Problem 10: Weather Observation Station 5** \n",
        "\n",
        "Query the two cities in STATION with the shortest and longest CITY names, as well as their respective lengths (i.e.: number of characters in the name). If there is more than one smallest or largest city, choose the one that comes first when ordered alphabetically.\n",
        "\n",
        "Input Format\n",
        "\n",
        "The STATION table is described as follows:\n",
        "\n",
        "![alt text](https://s3.amazonaws.com/hr-challenge-images/9336/1449345840-5f0a551030-Station.jpg)\n",
        "\n",
        "where LAT_N is the northern latitude and LONG_W is the western longitude."
      ]
    },
    {
      "cell_type": "markdown",
      "metadata": {
        "id": "qQ1BYaos6kKK",
        "colab_type": "text"
      },
      "source": [
        "*Solution*\n",
        "https://www.hackerrank.com/rest/contests/master/challenges/weather-observation-station-5/hackers/nnta_zip/download_solution"
      ]
    },
    {
      "cell_type": "code",
      "metadata": {
        "id": "DcFX5ta1zZmN",
        "colab_type": "code",
        "colab": {}
      },
      "source": [
        "SELECT CITY, LENGTH(CITY) FROM STATION ORDER BY LENGTH(CITY) ASC, CITY LIMIT 1;\n",
        "SELECT CITY, LENGTH(CITY) FROM STATION ORDER BY LENGTH(CITY) DESC, CITY LIMIT 1;"
      ],
      "execution_count": 0,
      "outputs": []
    },
    {
      "cell_type": "markdown",
      "metadata": {
        "id": "gKPR-BVZyfEe",
        "colab_type": "text"
      },
      "source": [
        "# **Python**"
      ]
    },
    {
      "cell_type": "markdown",
      "metadata": {
        "id": "Wtn5wqJnylAg",
        "colab_type": "text"
      },
      "source": [
        "**Problem 1:** **Say \"Hello, World!\" With Python**\n",
        "\n",
        "The above code will print Hello, World! on your screen. Try it yourself in the editor below!"
      ]
    },
    {
      "cell_type": "markdown",
      "metadata": {
        "id": "x7sqV5Vz6oTs",
        "colab_type": "text"
      },
      "source": [
        "*Solution*\n",
        "https://www.hackerrank.com/rest/contests/master/challenges/py-hello-world/hackers/nnta_zip/download_solution"
      ]
    },
    {
      "cell_type": "code",
      "metadata": {
        "id": "KH2B0K5yzbET",
        "colab_type": "code",
        "colab": {}
      },
      "source": [
        "if __name__ == '__main__':\n",
        "    print \"Hello, World!\""
      ],
      "execution_count": 0,
      "outputs": []
    },
    {
      "cell_type": "markdown",
      "metadata": {
        "colab_type": "text",
        "id": "eROMwzUCypGq"
      },
      "source": [
        "**Problem 2:** **Python If-Else**\n",
        "\n",
        "Given an integer, n, perform the following conditional actions:\n",
        "\n",
        "If n is odd, print Weird\n",
        "If n is even and in the inclusive range of 2 to 5, print Not Weird\n",
        "If n is even and in the inclusive range of 6 to 20, print Weird\n",
        "If n is even and greater than 20, print Not Weird"
      ]
    },
    {
      "cell_type": "markdown",
      "metadata": {
        "id": "E360fkFU6sT4",
        "colab_type": "text"
      },
      "source": [
        "*Solution*\n",
        "https://www.hackerrank.com/rest/contests/master/challenges/py-if-else/hackers/nnta_zip/download_solution"
      ]
    },
    {
      "cell_type": "code",
      "metadata": {
        "id": "1raCG03nzbg5",
        "colab_type": "code",
        "colab": {}
      },
      "source": [
        "#!/bin/python\n",
        "\n",
        "import math\n",
        "import os\n",
        "import random\n",
        "import re\n",
        "import sys\n",
        "\n",
        "\n",
        "\n",
        "if __name__ == '__main__':\n",
        "    n = int(raw_input().strip())\n",
        "    if (n%2!=0):\n",
        "        print('Weird')\n",
        "    else:\n",
        "        if((n in range(2,6)) or (n>20)):\n",
        "            print('Not Weird')\n",
        "        else:\n",
        "            print('Weird')"
      ],
      "execution_count": 0,
      "outputs": []
    },
    {
      "cell_type": "markdown",
      "metadata": {
        "colab_type": "text",
        "id": "-poHS_cmypOr"
      },
      "source": [
        "**Problem 3:** **Arithmetic Operators**\n",
        "\n",
        "Read two integers from STDIN and print three lines where:\n",
        "\n",
        "1. The first line contains the sum of the two numbers.\n",
        "2. The second line contains the difference of the two numbers (first - second).\n",
        "3. The third line contains the product of the two numbers."
      ]
    },
    {
      "cell_type": "markdown",
      "metadata": {
        "id": "_e6o6Nag6vvH",
        "colab_type": "text"
      },
      "source": [
        "*Solution*\n",
        "https://www.hackerrank.com/rest/contests/master/challenges/python-arithmetic-operators/hackers/nnta_zip/download_solution"
      ]
    },
    {
      "cell_type": "code",
      "metadata": {
        "id": "45zW-0Kezb4r",
        "colab_type": "code",
        "colab": {}
      },
      "source": [
        "if __name__ == '__main__':\n",
        "    a = int(raw_input())\n",
        "    b = int(raw_input())\n",
        "\n",
        "    print(a+b)\n",
        "    print(a-b)\n",
        "    print(a*b)"
      ],
      "execution_count": 0,
      "outputs": []
    },
    {
      "cell_type": "markdown",
      "metadata": {
        "colab_type": "text",
        "id": "IlybKacnypVq"
      },
      "source": [
        "**Problem 4:** **Python: Division**\n",
        "\n",
        "Read two integers and print two lines. The first line should contain integer division, a // b. The second line should contain float division, a / b.\n",
        "\n",
        "You don't need to perform any rounding or formatting operations."
      ]
    },
    {
      "cell_type": "markdown",
      "metadata": {
        "id": "-syJ32u26z2y",
        "colab_type": "text"
      },
      "source": [
        "*Solution*\n",
        "https://www.hackerrank.com/rest/contests/master/challenges/python-division/hackers/nnta_zip/download_solution"
      ]
    },
    {
      "cell_type": "code",
      "metadata": {
        "id": "qNE7-jBEzcUT",
        "colab_type": "code",
        "colab": {}
      },
      "source": [
        "from __future__ import division\n",
        "\n",
        "if __name__ == '__main__':\n",
        "    a = int(raw_input())\n",
        "    b = int(raw_input())\n",
        "\n",
        "    print(a//b)\n",
        "    print(a/b)"
      ],
      "execution_count": 0,
      "outputs": []
    },
    {
      "cell_type": "markdown",
      "metadata": {
        "colab_type": "text",
        "id": "W04rwVpqypc6"
      },
      "source": [
        "**Problem 5:** **Loops**\n",
        "\n",
        "Read an integer *N*. For all non-negative integers *i<N*, print *i^2*.\n"
      ]
    },
    {
      "cell_type": "markdown",
      "metadata": {
        "id": "OA4Z1soC63Br",
        "colab_type": "text"
      },
      "source": [
        "*Solution*\n",
        "https://www.hackerrank.com/rest/contests/master/challenges/python-loops/hackers/nnta_zip/download_solution"
      ]
    },
    {
      "cell_type": "code",
      "metadata": {
        "id": "OHbG4E8czeNM",
        "colab_type": "code",
        "colab": {}
      },
      "source": [
        "if __name__ == '__main__':\n",
        "    n = int(raw_input())\n",
        "    for i in range(0,n):\n",
        "        print(i*i)"
      ],
      "execution_count": 0,
      "outputs": []
    }
  ]
}